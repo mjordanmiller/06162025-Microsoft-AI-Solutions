{
 "cells": [
  {
   "cell_type": "markdown",
   "id": "77ddd56c",
   "metadata": {},
   "source": [
    "This file can be run to upload images and their tags (object detection bounding box coordinates) to our object decetion model <br/>\n",
    "It uses the tagged-images.json file which contains bounding box coordinates for objects in multiple images and the images in the /images/more_training_images subfolder"
   ]
  },
  {
   "cell_type": "code",
   "execution_count": 4,
   "id": "75902929",
   "metadata": {},
   "outputs": [],
   "source": [
    "from azure.cognitiveservices.vision.customvision.training import CustomVisionTrainingClient\n",
    "from azure.cognitiveservices.vision.customvision.training.models import ImageFileCreateBatch, ImageFileCreateEntry, Region\n",
    "from msrest.authentication import ApiKeyCredentials\n",
    "import time\n",
    "import json\n",
    "\n",
    "import os\n",
    "from dotenv import load_dotenv"
   ]
  },
  {
   "cell_type": "code",
   "execution_count": 2,
   "id": "1f6c1f38",
   "metadata": {},
   "outputs": [
    {
     "data": {
      "text/plain": [
       "True"
      ]
     },
     "execution_count": 2,
     "metadata": {},
     "output_type": "execute_result"
    }
   ],
   "source": [
    "load_dotenv()"
   ]
  },
  {
   "cell_type": "code",
   "execution_count": 3,
   "id": "619307ae",
   "metadata": {},
   "outputs": [],
   "source": [
    "training_endpoint = os.getenv('CUSTOM_IMAGE_TRAIN_ENDPOINT')\n",
    "training_key = os.getenv('CUSTOM_IMAGE_TRAIN_KEY')\n",
    "project_id = '97462dc8-2998-4044-951f-ed14d6ad89d9' #you could add this to .env -- and best practice probably says to"
   ]
  },
  {
   "cell_type": "code",
   "execution_count": 5,
   "id": "fce07916",
   "metadata": {},
   "outputs": [],
   "source": [
    "# Authenticate a client for the training API\n",
    "credentials = ApiKeyCredentials(in_headers={\"Training-key\": training_key})\n",
    "training_client = CustomVisionTrainingClient(training_endpoint, credentials)"
   ]
  },
  {
   "cell_type": "code",
   "execution_count": 6,
   "id": "2bb2a3ba",
   "metadata": {},
   "outputs": [],
   "source": [
    "# Get the Custom Vision project\n",
    "custom_vision_project = training_client.get_project(project_id)"
   ]
  },
  {
   "cell_type": "code",
   "execution_count": 7,
   "id": "50d6502b",
   "metadata": {},
   "outputs": [],
   "source": [
    "def Upload_Images(folder):\n",
    "    '''\n",
    "    This function takes a filepath in and goes through all of the images in that file path, as well as collecting the cooresponding object tags given in the 04a. tagged-images.json file,\n",
    "    and uploads them to our object detection project. \n",
    "    '''\n",
    "    print(\"Uploading images...\")\n",
    "\n",
    "    # Get the tags defined in the project\n",
    "    tags = training_client.get_tags(custom_vision_project.id)\n",
    "\n",
    "    # Create a list of images with tagged regions\n",
    "    tagged_images_with_regions = []\n",
    "\n",
    "    # Get the images and tagged regions from the JSON file\n",
    "    with open('04a. tagged-images.json', 'r') as json_file:\n",
    "        tagged_images = json.load(json_file)\n",
    "        for image in tagged_images['files']:\n",
    "            # Get the filename\n",
    "            file = image['filename']\n",
    "            # Get the tagged regions\n",
    "            regions = []\n",
    "            for tag in image['tags']:\n",
    "                tag_name = tag['tag']\n",
    "                # Look up the tag ID for this tag name\n",
    "                tag_id = next(t for t in tags if t.name == tag_name).id\n",
    "                # Add a region for this tag using the coordinates and dimensions in the JSON\n",
    "                regions.append(Region(tag_id=tag_id, left=tag['left'],top=tag['top'],width=tag['width'],height=tag['height']))\n",
    "            # Add the image and its regions to the list\n",
    "            with open(os.path.join(folder,file), mode=\"rb\") as image_data:\n",
    "                tagged_images_with_regions.append(ImageFileCreateEntry(name=file, contents=image_data.read(), regions=regions))\n",
    "\n",
    "    # Upload the list of images as a batch\n",
    "    upload_result = training_client.create_images_from_files(custom_vision_project.id, ImageFileCreateBatch(images=tagged_images_with_regions))\n",
    "    # Check for failure\n",
    "    if not upload_result.is_batch_successful:\n",
    "        print(\"Image batch upload failed.\")\n",
    "        for image in upload_result.images:\n",
    "            print(\"Image status: \", image.status)\n",
    "    else:\n",
    "        print(\"Images uploaded.\")"
   ]
  },
  {
   "cell_type": "code",
   "execution_count": 8,
   "id": "7bea2630",
   "metadata": {},
   "outputs": [
    {
     "name": "stdout",
     "output_type": "stream",
     "text": [
      "Uploading images...\n",
      "Images uploaded.\n"
     ]
    }
   ],
   "source": [
    "# Upload and tag images\n",
    "Upload_Images('images/Object Detection/more_training_images')"
   ]
  }
 ],
 "metadata": {
  "kernelspec": {
   "display_name": "Python 3",
   "language": "python",
   "name": "python3"
  },
  "language_info": {
   "codemirror_mode": {
    "name": "ipython",
    "version": 3
   },
   "file_extension": ".py",
   "mimetype": "text/x-python",
   "name": "python",
   "nbconvert_exporter": "python",
   "pygments_lexer": "ipython3",
   "version": "3.13.1"
  }
 },
 "nbformat": 4,
 "nbformat_minor": 5
}
