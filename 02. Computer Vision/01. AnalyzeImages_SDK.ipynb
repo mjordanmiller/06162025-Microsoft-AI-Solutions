{
 "cells": [
  {
   "cell_type": "code",
   "execution_count": 1,
   "id": "f5a95851",
   "metadata": {},
   "outputs": [],
   "source": [
    "#import\n",
    "import os\n",
    "from dotenv import load_dotenv\n",
    "\n",
    "#SDK Libraries\n",
    "from azure.ai.vision.imageanalysis import ImageAnalysisClient\n",
    "from azure.ai.vision.imageanalysis.models import VisualFeatures\n",
    "from azure.core.credentials import AzureKeyCredential"
   ]
  },
  {
   "cell_type": "code",
   "execution_count": 2,
   "id": "a4d02196",
   "metadata": {},
   "outputs": [
    {
     "data": {
      "text/plain": [
       "True"
      ]
     },
     "execution_count": 2,
     "metadata": {},
     "output_type": "execute_result"
    }
   ],
   "source": [
    "#Explicitly load in .env file\n",
    "#If you change the env file, you need to restart the kernel\n",
    "load_dotenv()"
   ]
  },
  {
   "cell_type": "code",
   "execution_count": null,
   "id": "27db8608",
   "metadata": {},
   "outputs": [],
   "source": [
    "endpoint = os.getenv('AI_IMAGE_ENDPOINT')\n",
    "key = os.getenv('AI_IMAGE_KEY')"
   ]
  },
  {
   "cell_type": "code",
   "execution_count": 4,
   "id": "76e15f35",
   "metadata": {},
   "outputs": [],
   "source": [
    "# Create an Image Analysis client\n",
    "client = ImageAnalysisClient(\n",
    "    endpoint=endpoint,\n",
    "    credential=AzureKeyCredential(key)\n",
    ")"
   ]
  },
  {
   "cell_type": "code",
   "execution_count": 32,
   "id": "c1c5e106",
   "metadata": {},
   "outputs": [],
   "source": [
    "result = client.analyze_from_url(\n",
    "    image_url= 'https://learn.microsoft.com/azure/ai-services/computer-vision/media/quickstarts/presentation.png',\n",
    "    visual_features=[VisualFeatures.TAGS, VisualFeatures.CAPTION, VisualFeatures.READ]\n",
    ")"
   ]
  },
  {
   "cell_type": "code",
   "execution_count": 38,
   "id": "dfe83ea0",
   "metadata": {},
   "outputs": [
    {
     "data": {
      "text/plain": [
       "[{'text': '9:35 AM', 'boundingPolygon': [{'x': 131, 'y': 130}, {'x': 214, 'y': 130}, {'x': 214, 'y': 148}, {'x': 131, 'y': 148}], 'words': [{'text': '9:35', 'boundingPolygon': [{'x': 132, 'y': 130}, {'x': 172, 'y': 131}, {'x': 171, 'y': 149}, {'x': 131, 'y': 148}], 'confidence': 0.977}, {'text': 'AM', 'boundingPolygon': [{'x': 180, 'y': 131}, {'x': 203, 'y': 131}, {'x': 202, 'y': 149}, {'x': 180, 'y': 149}], 'confidence': 0.998}]},\n",
       " {'text': 'Conference room 154584354', 'boundingPolygon': [{'x': 132, 'y': 153}, {'x': 224, 'y': 153}, {'x': 224, 'y': 161}, {'x': 132, 'y': 160}], 'words': [{'text': 'Conference', 'boundingPolygon': [{'x': 143, 'y': 153}, {'x': 174, 'y': 154}, {'x': 174, 'y': 161}, {'x': 143, 'y': 161}], 'confidence': 0.693}, {'text': 'room', 'boundingPolygon': [{'x': 176, 'y': 154}, {'x': 188, 'y': 154}, {'x': 188, 'y': 161}, {'x': 176, 'y': 161}], 'confidence': 0.959}, {'text': '154584354', 'boundingPolygon': [{'x': 192, 'y': 154}, {'x': 224, 'y': 154}, {'x': 223, 'y': 161}, {'x': 192, 'y': 161}], 'confidence': 0.705}]},\n",
       " {'text': ': 555-123-4567', 'boundingPolygon': [{'x': 133, 'y': 164}, {'x': 183, 'y': 164}, {'x': 183, 'y': 170}, {'x': 133, 'y': 170}], 'words': [{'text': ':', 'boundingPolygon': [{'x': 134, 'y': 165}, {'x': 137, 'y': 165}, {'x': 136, 'y': 171}, {'x': 133, 'y': 171}], 'confidence': 0.162}, {'text': '555-123-4567', 'boundingPolygon': [{'x': 143, 'y': 165}, {'x': 182, 'y': 165}, {'x': 181, 'y': 171}, {'x': 143, 'y': 171}], 'confidence': 0.653}]},\n",
       " {'text': 'Town Hall', 'boundingPolygon': [{'x': 545, 'y': 178}, {'x': 588, 'y': 179}, {'x': 588, 'y': 190}, {'x': 545, 'y': 190}], 'words': [{'text': 'Town', 'boundingPolygon': [{'x': 545, 'y': 179}, {'x': 569, 'y': 180}, {'x': 569, 'y': 190}, {'x': 545, 'y': 190}], 'confidence': 0.988}, {'text': 'Hall', 'boundingPolygon': [{'x': 571, 'y': 180}, {'x': 589, 'y': 180}, {'x': 589, 'y': 190}, {'x': 571, 'y': 190}], 'confidence': 0.99}]},\n",
       " {'text': '9:00 AM - 10:00 AM', 'boundingPolygon': [{'x': 545, 'y': 191}, {'x': 596, 'y': 191}, {'x': 596, 'y': 199}, {'x': 545, 'y': 198}], 'words': [{'text': '9:00', 'boundingPolygon': [{'x': 546, 'y': 191}, {'x': 556, 'y': 192}, {'x': 556, 'y': 199}, {'x': 546, 'y': 199}], 'confidence': 0.758}, {'text': 'AM', 'boundingPolygon': [{'x': 558, 'y': 192}, {'x': 565, 'y': 192}, {'x': 564, 'y': 199}, {'x': 558, 'y': 199}], 'confidence': 0.989}, {'text': '-', 'boundingPolygon': [{'x': 567, 'y': 192}, {'x': 570, 'y': 192}, {'x': 569, 'y': 199}, {'x': 567, 'y': 199}], 'confidence': 0.896}, {'text': '10:00', 'boundingPolygon': [{'x': 571, 'y': 192}, {'x': 585, 'y': 192}, {'x': 585, 'y': 199}, {'x': 571, 'y': 199}], 'confidence': 0.797}, {'text': 'AM', 'boundingPolygon': [{'x': 587, 'y': 192}, {'x': 594, 'y': 193}, {'x': 593, 'y': 199}, {'x': 586, 'y': 199}], 'confidence': 0.994}]},\n",
       " {'text': 'Aaron Blaion', 'boundingPolygon': [{'x': 542, 'y': 201}, {'x': 581, 'y': 201}, {'x': 581, 'y': 207}, {'x': 542, 'y': 207}], 'words': [{'text': 'Aaron', 'boundingPolygon': [{'x': 545, 'y': 201}, {'x': 560, 'y': 202}, {'x': 560, 'y': 208}, {'x': 545, 'y': 208}], 'confidence': 0.718}, {'text': 'Blaion', 'boundingPolygon': [{'x': 562, 'y': 202}, {'x': 579, 'y': 202}, {'x': 579, 'y': 207}, {'x': 562, 'y': 207}], 'confidence': 0.274}]},\n",
       " {'text': 'Daily SCRUM', 'boundingPolygon': [{'x': 537, 'y': 258}, {'x': 574, 'y': 259}, {'x': 574, 'y': 266}, {'x': 537, 'y': 265}], 'words': [{'text': 'Daily', 'boundingPolygon': [{'x': 538, 'y': 259}, {'x': 551, 'y': 259}, {'x': 551, 'y': 266}, {'x': 538, 'y': 265}], 'confidence': 0.404}, {'text': 'SCRUM', 'boundingPolygon': [{'x': 553, 'y': 259}, {'x': 570, 'y': 260}, {'x': 570, 'y': 265}, {'x': 553, 'y': 266}], 'confidence': 0.697}]},\n",
       " {'text': '10:00 AM-11:00 AM', 'boundingPolygon': [{'x': 535, 'y': 266}, {'x': 589, 'y': 265}, {'x': 589, 'y': 272}, {'x': 535, 'y': 273}], 'words': [{'text': '10:00', 'boundingPolygon': [{'x': 539, 'y': 267}, {'x': 553, 'y': 266}, {'x': 552, 'y': 273}, {'x': 539, 'y': 274}], 'confidence': 0.219}, {'text': 'AM-11:00', 'boundingPolygon': [{'x': 554, 'y': 266}, {'x': 578, 'y': 266}, {'x': 578, 'y': 272}, {'x': 554, 'y': 273}], 'confidence': 0.175}, {'text': 'AM', 'boundingPolygon': [{'x': 580, 'y': 266}, {'x': 587, 'y': 266}, {'x': 586, 'y': 272}, {'x': 580, 'y': 272}], 'confidence': 1.0}]},\n",
       " {'text': 'Charlene de Crum', 'boundingPolygon': [{'x': 538, 'y': 272}, {'x': 588, 'y': 273}, {'x': 588, 'y': 279}, {'x': 538, 'y': 279}], 'words': [{'text': 'Charlene', 'boundingPolygon': [{'x': 538, 'y': 273}, {'x': 562, 'y': 273}, {'x': 562, 'y': 280}, {'x': 538, 'y': 280}], 'confidence': 0.322}, {'text': 'de', 'boundingPolygon': [{'x': 563, 'y': 273}, {'x': 569, 'y': 273}, {'x': 569, 'y': 280}, {'x': 563, 'y': 280}], 'confidence': 0.91}, {'text': 'Crum', 'boundingPolygon': [{'x': 570, 'y': 273}, {'x': 582, 'y': 273}, {'x': 583, 'y': 280}, {'x': 571, 'y': 280}], 'confidence': 0.871}]},\n",
       " {'text': 'Quarterly NI Handa', 'boundingPolygon': [{'x': 537, 'y': 295}, {'x': 588, 'y': 295}, {'x': 588, 'y': 302}, {'x': 537, 'y': 302}], 'words': [{'text': 'Quarterly', 'boundingPolygon': [{'x': 539, 'y': 296}, {'x': 563, 'y': 296}, {'x': 563, 'y': 302}, {'x': 538, 'y': 302}], 'confidence': 0.603}, {'text': 'NI', 'boundingPolygon': [{'x': 564, 'y': 296}, {'x': 570, 'y': 296}, {'x': 571, 'y': 302}, {'x': 564, 'y': 302}], 'confidence': 0.73}, {'text': 'Handa', 'boundingPolygon': [{'x': 572, 'y': 296}, {'x': 588, 'y': 296}, {'x': 588, 'y': 302}, {'x': 572, 'y': 302}], 'confidence': 0.905}]},\n",
       " {'text': '11.00 AM-12:00 PM', 'boundingPolygon': [{'x': 538, 'y': 303}, {'x': 587, 'y': 303}, {'x': 587, 'y': 309}, {'x': 538, 'y': 309}], 'words': [{'text': '11.00', 'boundingPolygon': [{'x': 539, 'y': 303}, {'x': 552, 'y': 303}, {'x': 553, 'y': 309}, {'x': 539, 'y': 310}], 'confidence': 0.671}, {'text': 'AM-12:00', 'boundingPolygon': [{'x': 554, 'y': 303}, {'x': 578, 'y': 303}, {'x': 578, 'y': 309}, {'x': 554, 'y': 309}], 'confidence': 0.656}, {'text': 'PM', 'boundingPolygon': [{'x': 579, 'y': 303}, {'x': 586, 'y': 303}, {'x': 586, 'y': 309}, {'x': 580, 'y': 309}], 'confidence': 0.454}]},\n",
       " {'text': 'Bobek Shemar', 'boundingPolygon': [{'x': 538, 'y': 310}, {'x': 577, 'y': 310}, {'x': 577, 'y': 316}, {'x': 538, 'y': 316}], 'words': [{'text': 'Bobek', 'boundingPolygon': [{'x': 539, 'y': 310}, {'x': 554, 'y': 311}, {'x': 554, 'y': 317}, {'x': 539, 'y': 317}], 'confidence': 0.632}, {'text': 'Shemar', 'boundingPolygon': [{'x': 556, 'y': 311}, {'x': 576, 'y': 311}, {'x': 577, 'y': 317}, {'x': 556, 'y': 317}], 'confidence': 0.219}]},\n",
       " {'text': 'Weekly aband up', 'boundingPolygon': [{'x': 538, 'y': 332}, {'x': 583, 'y': 333}, {'x': 583, 'y': 339}, {'x': 538, 'y': 338}], 'words': [{'text': 'Weekly', 'boundingPolygon': [{'x': 539, 'y': 333}, {'x': 557, 'y': 333}, {'x': 557, 'y': 339}, {'x': 539, 'y': 339}], 'confidence': 0.575}, {'text': 'aband', 'boundingPolygon': [{'x': 558, 'y': 334}, {'x': 573, 'y': 334}, {'x': 573, 'y': 339}, {'x': 558, 'y': 339}], 'confidence': 0.475}, {'text': 'up', 'boundingPolygon': [{'x': 574, 'y': 334}, {'x': 580, 'y': 334}, {'x': 580, 'y': 339}, {'x': 574, 'y': 339}], 'confidence': 0.865}]},\n",
       " {'text': '12:00 PM-1:00 PM', 'boundingPolygon': [{'x': 538, 'y': 339}, {'x': 585, 'y': 339}, {'x': 585, 'y': 346}, {'x': 538, 'y': 346}], 'words': [{'text': '12:00', 'boundingPolygon': [{'x': 539, 'y': 339}, {'x': 553, 'y': 340}, {'x': 553, 'y': 347}, {'x': 539, 'y': 346}], 'confidence': 0.709}, {'text': 'PM-1:00', 'boundingPolygon': [{'x': 554, 'y': 340}, {'x': 575, 'y': 340}, {'x': 575, 'y': 346}, {'x': 554, 'y': 347}], 'confidence': 0.908}, {'text': 'PM', 'boundingPolygon': [{'x': 576, 'y': 340}, {'x': 583, 'y': 340}, {'x': 583, 'y': 346}, {'x': 576, 'y': 346}], 'confidence': 0.998}]},\n",
       " {'text': 'Danielle MarchTe', 'boundingPolygon': [{'x': 538, 'y': 346}, {'x': 583, 'y': 346}, {'x': 583, 'y': 352}, {'x': 538, 'y': 352}], 'words': [{'text': 'Danielle', 'boundingPolygon': [{'x': 539, 'y': 347}, {'x': 559, 'y': 347}, {'x': 559, 'y': 352}, {'x': 539, 'y': 353}], 'confidence': 0.196}, {'text': 'MarchTe', 'boundingPolygon': [{'x': 560, 'y': 347}, {'x': 582, 'y': 347}, {'x': 582, 'y': 352}, {'x': 560, 'y': 352}], 'confidence': 0.571}]},\n",
       " {'text': 'Product reviret', 'boundingPolygon': [{'x': 537, 'y': 370}, {'x': 578, 'y': 370}, {'x': 578, 'y': 375}, {'x': 537, 'y': 375}], 'words': [{'text': 'Product', 'boundingPolygon': [{'x': 539, 'y': 370}, {'x': 559, 'y': 370}, {'x': 559, 'y': 376}, {'x': 539, 'y': 375}], 'confidence': 0.7}, {'text': 'reviret', 'boundingPolygon': [{'x': 560, 'y': 370}, {'x': 578, 'y': 371}, {'x': 578, 'y': 375}, {'x': 560, 'y': 376}], 'confidence': 0.218}]}]"
      ]
     },
     "execution_count": 38,
     "metadata": {},
     "output_type": "execute_result"
    }
   ],
   "source": [
    "result['readResult']['blocks'][0]['lines']"
   ]
  },
  {
   "cell_type": "markdown",
   "id": "8dc367b2",
   "metadata": {},
   "source": [
    "Using a local File"
   ]
  },
  {
   "cell_type": "code",
   "execution_count": 18,
   "id": "ac32a13a",
   "metadata": {},
   "outputs": [],
   "source": [
    "image_fpath = 'images/doggies.jpg'\n",
    "with open(image_fpath, 'rb') as f:\n",
    "    image_data = f.read()"
   ]
  },
  {
   "cell_type": "code",
   "execution_count": 29,
   "id": "fbe72861",
   "metadata": {},
   "outputs": [],
   "source": [
    "result2 = client.analyze(\n",
    "    image_data= image_data,\n",
    "    visual_features=[VisualFeatures.OBJECTS]\n",
    ")"
   ]
  },
  {
   "cell_type": "code",
   "execution_count": 31,
   "id": "93888c98",
   "metadata": {},
   "outputs": [
    {
     "data": {
      "text/plain": [
       "[{'boundingBox': {'x': 206, 'y': 179, 'w': 50, 'h': 70}, 'tags': [{'name': 'dog', 'confidence': 0.503}]},\n",
       " {'boundingBox': {'x': 39, 'y': 3, 'w': 98, 'h': 231}, 'tags': [{'name': 'person', 'confidence': 0.796}]},\n",
       " {'boundingBox': {'x': 356, 'y': 115, 'w': 160, 'h': 197}, 'tags': [{'name': 'hound', 'confidence': 0.569}]},\n",
       " {'boundingBox': {'x': 489, 'y': 168, 'w': 114, 'h': 78}, 'tags': [{'name': 'dog', 'confidence': 0.604}]},\n",
       " {'boundingBox': {'x': 135, 'y': 180, 'w': 92, 'h': 127}, 'tags': [{'name': 'dog', 'confidence': 0.672}]},\n",
       " {'boundingBox': {'x': 255, 'y': 174, 'w': 91, 'h': 105}, 'tags': [{'name': 'hound', 'confidence': 0.52}]},\n",
       " {'boundingBox': {'x': 44, 'y': 210, 'w': 75, 'h': 113}, 'tags': [{'name': 'dog', 'confidence': 0.83}]}]"
      ]
     },
     "execution_count": 31,
     "metadata": {},
     "output_type": "execute_result"
    }
   ],
   "source": [
    "result2['objectsResult']['values']"
   ]
  },
  {
   "cell_type": "code",
   "execution_count": null,
   "id": "c41be498",
   "metadata": {},
   "outputs": [],
   "source": []
  }
 ],
 "metadata": {
  "kernelspec": {
   "display_name": "Python 3",
   "language": "python",
   "name": "python3"
  },
  "language_info": {
   "codemirror_mode": {
    "name": "ipython",
    "version": 3
   },
   "file_extension": ".py",
   "mimetype": "text/x-python",
   "name": "python",
   "nbconvert_exporter": "python",
   "pygments_lexer": "ipython3",
   "version": "3.13.1"
  }
 },
 "nbformat": 4,
 "nbformat_minor": 5
}
