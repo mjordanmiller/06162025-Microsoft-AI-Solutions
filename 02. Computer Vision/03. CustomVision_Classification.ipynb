{
 "cells": [
  {
   "cell_type": "code",
   "execution_count": null,
   "id": "a5ef7d96",
   "metadata": {},
   "outputs": [],
   "source": [
    "#import needed libs\n",
    "from azure.cognitiveservices.vision.customvision.training import CustomVisionTrainingClient\n",
    "from azure.cognitiveservices.vision.customvision.training.models import ImageFileCreateBatch, ImageFileCreateEntry, Region\n",
    "from msrest.authentication import ApiKeyCredentials\n",
    "import os, time, uuid\n",
    "\n",
    "from dotenv import load_dotenv\n"
   ]
  },
  {
   "cell_type": "code",
   "execution_count": 5,
   "id": "8326aa94",
   "metadata": {},
   "outputs": [
    {
     "data": {
      "text/plain": [
       "True"
      ]
     },
     "execution_count": 5,
     "metadata": {},
     "output_type": "execute_result"
    }
   ],
   "source": [
    "load_dotenv()"
   ]
  },
  {
   "cell_type": "code",
   "execution_count": 6,
   "id": "7e6cbe22",
   "metadata": {},
   "outputs": [],
   "source": [
    "training_endpoint = os.environ[\"CUSTOM_IMAGE_TRAIN_ENDPOINT\"]\n",
    "training_key = os.environ[\"CUSTOM_IMAGE_TRAIN_KEY\"]"
   ]
  },
  {
   "cell_type": "code",
   "execution_count": 7,
   "id": "fe4b0354",
   "metadata": {},
   "outputs": [],
   "source": [
    "credentials = ApiKeyCredentials(in_headers={\"Training-key\": training_key})\n",
    "trainer = CustomVisionTrainingClient(training_endpoint, credentials)"
   ]
  },
  {
   "cell_type": "code",
   "execution_count": 9,
   "id": "c21e2ad7",
   "metadata": {},
   "outputs": [],
   "source": [
    "#Get our Project ID\n",
    "project_id = '2515a1e1-c0e3-4757-9dfa-0863ee2aff13'\n",
    "\n",
    "custom_vision_project = trainer.get_project(project_id)"
   ]
  },
  {
   "cell_type": "code",
   "execution_count": 11,
   "id": "7356d915",
   "metadata": {},
   "outputs": [],
   "source": [
    "'''\n",
    "if we wanted to add a tag:\n",
    "    trainer.create_tag(custom_vision_project.id, \"Name of Tag\")\n",
    "''';"
   ]
  },
  {
   "cell_type": "code",
   "execution_count": null,
   "id": "007563b1",
   "metadata": {},
   "outputs": [],
   "source": []
  }
 ],
 "metadata": {
  "kernelspec": {
   "display_name": "Python 3",
   "language": "python",
   "name": "python3"
  },
  "language_info": {
   "codemirror_mode": {
    "name": "ipython",
    "version": 3
   },
   "file_extension": ".py",
   "mimetype": "text/x-python",
   "name": "python",
   "nbconvert_exporter": "python",
   "pygments_lexer": "ipython3",
   "version": "3.13.1"
  }
 },
 "nbformat": 4,
 "nbformat_minor": 5
}
