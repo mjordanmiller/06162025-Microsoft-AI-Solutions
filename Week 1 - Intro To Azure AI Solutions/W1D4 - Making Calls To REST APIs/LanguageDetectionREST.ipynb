{
 "cells": [
  {
   "cell_type": "markdown",
   "metadata": {},
   "source": [
    "We will create a simple language detection program using Azure's Language Service, following the documentation here:\n",
    "\n",
    "https://learn.microsoft.com/en-us/rest/api/language/text-analysis-runtime/analyze-text?view=rest-language-2024-11-01&tabs=HTTP"
   ]
  },
  {
   "cell_type": "code",
   "execution_count": null,
   "metadata": {},
   "outputs": [],
   "source": [
    "#Import packages\n",
    "from dotenv import load_dotenv\n",
    "import requests, json, os"
   ]
  },
  {
   "cell_type": "markdown",
   "metadata": {},
   "source": [
    "Python does not have a json data type natively, so we can import one to allow us to work with json objects"
   ]
  },
  {
   "cell_type": "code",
   "execution_count": null,
   "metadata": {},
   "outputs": [
    {
     "data": {
      "text/plain": [
       "True"
      ]
     },
     "execution_count": 2,
     "metadata": {},
     "output_type": "execute_result"
    }
   ],
   "source": [
    "load_dotenv() #needed if using a .env file to store credentials. Otherwise ignore"
   ]
  },
  {
   "cell_type": "code",
   "execution_count": null,
   "metadata": {},
   "outputs": [],
   "source": [
    "#Get ENV file variables\n",
    "api_key = os.getenv('KEY') #os.environ.get('KEY')\n",
    "base_url = os.getenv('ENDPOINT') #os.environ.get('ENDPOINT')\n",
    "\n",
    "#We will touch on how to incorporate an env file on 06/20"
   ]
  },
  {
   "cell_type": "code",
   "execution_count": 4,
   "metadata": {},
   "outputs": [],
   "source": [
    "#Endpoint from docs. Needs to be appended to base url\n",
    "endpoint = '/language/:analyze-text?api-version=2023-04-01'"
   ]
  },
  {
   "cell_type": "markdown",
   "metadata": {},
   "source": [
    "Request (what we have to send to The Azure AI Service)\n",
    "\n",
    "- URI: baseurl + endpoint\n",
    "- headers: authentication\n",
    "- body"
   ]
  },
  {
   "cell_type": "code",
   "execution_count": 9,
   "metadata": {},
   "outputs": [],
   "source": [
    "headers = {\n",
    "    'Ocp-Apim-Subscription-Key' : api_key\n",
    "}"
   ]
  },
  {
   "cell_type": "code",
   "execution_count": null,
   "metadata": {},
   "outputs": [],
   "source": [
    "data = [{\n",
    "        \"id\": \"1\",\n",
    "        \"text\": \"Hello world\",\n",
    "        'countryHint': 'us'\n",
    "      },\n",
    "      {\n",
    "        \"id\": \"2\",\n",
    "        \"text\": \"Bonjour tout le monde\", \n",
    "        'countryHint': 'fr'\n",
    "      }, \n",
    "      {\n",
    "          \"id\": \"3\",\n",
    "          \"text\": \"Hola Mundo\",\n",
    "          #'countryHint': 'mx'\n",
    "      }]"
   ]
  },
  {
   "cell_type": "code",
   "execution_count": 31,
   "metadata": {},
   "outputs": [],
   "source": [
    "body = {\n",
    "    'kind' : 'LanguageDetection',\n",
    "    'analysisInput': {'documents': data},\n",
    "    'parameters': {'modelVersion' : 'latest'}\n",
    "}"
   ]
  },
  {
   "cell_type": "code",
   "execution_count": null,
   "metadata": {},
   "outputs": [],
   "source": [
    "#LET'S MAKE THE CALL!\n",
    "#try it as data = body first and see what happens\n",
    "response = requests.post(base_url+endpoint, headers=headers, data = json.dumps(body))"
   ]
  },
  {
   "cell_type": "code",
   "execution_count": 33,
   "metadata": {},
   "outputs": [
    {
     "data": {
      "text/plain": [
       "{'kind': 'LanguageDetectionResults',\n",
       " 'results': {'documents': [{'id': '1',\n",
       "    'detectedLanguage': {'name': 'English',\n",
       "     'iso6391Name': 'en',\n",
       "     'confidenceScore': 0.81},\n",
       "    'warnings': []},\n",
       "   {'id': '2',\n",
       "    'detectedLanguage': {'name': 'French',\n",
       "     'iso6391Name': 'fr',\n",
       "     'confidenceScore': 1.0},\n",
       "    'warnings': []},\n",
       "   {'id': '3',\n",
       "    'detectedLanguage': {'name': 'Spanish',\n",
       "     'iso6391Name': 'es',\n",
       "     'confidenceScore': 1.0},\n",
       "    'warnings': []}],\n",
       "  'errors': [],\n",
       "  'modelVersion': '2024-04-01'}}"
      ]
     },
     "execution_count": 33,
     "metadata": {},
     "output_type": "execute_result"
    }
   ],
   "source": [
    "response.json()"
   ]
  },
  {
   "cell_type": "markdown",
   "metadata": {},
   "source": [
    "Extra:\n",
    "\n",
    "- try giving a bad country hint and see what happens"
   ]
  },
  {
   "cell_type": "code",
   "execution_count": null,
   "metadata": {},
   "outputs": [],
   "source": []
  }
 ],
 "metadata": {
  "kernelspec": {
   "display_name": "Python 3",
   "language": "python",
   "name": "python3"
  },
  "language_info": {
   "codemirror_mode": {
    "name": "ipython",
    "version": 3
   },
   "file_extension": ".py",
   "mimetype": "text/x-python",
   "name": "python",
   "nbconvert_exporter": "python",
   "pygments_lexer": "ipython3",
   "version": "3.11.9"
  }
 },
 "nbformat": 4,
 "nbformat_minor": 2
}
