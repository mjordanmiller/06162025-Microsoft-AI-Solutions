{
 "cells": [
  {
   "cell_type": "code",
   "execution_count": 1,
   "id": "ecf965ca",
   "metadata": {},
   "outputs": [
    {
     "name": "stdout",
     "output_type": "stream",
     "text": [
      "Defaulting to user installation because normal site-packages is not writeable\n",
      "Requirement already satisfied: azure-cognitiveservices-speech in c:\\users\\jordanmiller\\appdata\\roaming\\python\\python313\\site-packages (1.44.0)\n",
      "Requirement already satisfied: azure-core>=1.31.0 in c:\\users\\jordanmiller\\appdata\\roaming\\python\\python313\\site-packages (from azure-cognitiveservices-speech) (1.32.0)\n",
      "Requirement already satisfied: requests>=2.21.0 in c:\\users\\jordanmiller\\appdata\\roaming\\python\\python313\\site-packages (from azure-core>=1.31.0->azure-cognitiveservices-speech) (2.32.3)\n",
      "Requirement already satisfied: six>=1.11.0 in c:\\users\\jordanmiller\\appdata\\roaming\\python\\python313\\site-packages (from azure-core>=1.31.0->azure-cognitiveservices-speech) (1.17.0)\n",
      "Requirement already satisfied: typing-extensions>=4.6.0 in c:\\users\\jordanmiller\\appdata\\roaming\\python\\python313\\site-packages (from azure-core>=1.31.0->azure-cognitiveservices-speech) (4.13.0)\n",
      "Requirement already satisfied: charset-normalizer<4,>=2 in c:\\users\\jordanmiller\\appdata\\roaming\\python\\python313\\site-packages (from requests>=2.21.0->azure-core>=1.31.0->azure-cognitiveservices-speech) (3.4.1)\n",
      "Requirement already satisfied: idna<4,>=2.5 in c:\\users\\jordanmiller\\appdata\\roaming\\python\\python313\\site-packages (from requests>=2.21.0->azure-core>=1.31.0->azure-cognitiveservices-speech) (3.10)\n",
      "Requirement already satisfied: urllib3<3,>=1.21.1 in c:\\users\\jordanmiller\\appdata\\roaming\\python\\python313\\site-packages (from requests>=2.21.0->azure-core>=1.31.0->azure-cognitiveservices-speech) (2.3.0)\n",
      "Requirement already satisfied: certifi>=2017.4.17 in c:\\users\\jordanmiller\\appdata\\roaming\\python\\python313\\site-packages (from requests>=2.21.0->azure-core>=1.31.0->azure-cognitiveservices-speech) (2025.1.31)\n"
     ]
    }
   ],
   "source": [
    "!pip install azure-cognitiveservices-speech"
   ]
  },
  {
   "cell_type": "code",
   "execution_count": 2,
   "id": "163f6772",
   "metadata": {},
   "outputs": [],
   "source": [
    "import os\n",
    "from dotenv import load_dotenv\n",
    "import azure.cognitiveservices.speech as speechsdk"
   ]
  },
  {
   "cell_type": "code",
   "execution_count": 3,
   "id": "a4855e5b",
   "metadata": {},
   "outputs": [
    {
     "data": {
      "text/plain": [
       "True"
      ]
     },
     "execution_count": 3,
     "metadata": {},
     "output_type": "execute_result"
    }
   ],
   "source": [
    "load_dotenv()"
   ]
  },
  {
   "cell_type": "code",
   "execution_count": 4,
   "id": "46dbced9",
   "metadata": {},
   "outputs": [],
   "source": [
    "endpoint = os.environ.get('AI_SPEECH_ENDPOINT')\n",
    "key = os.environ.get('AI_SPEECH_KEY')"
   ]
  },
  {
   "cell_type": "code",
   "execution_count": null,
   "id": "bf3ac427",
   "metadata": {},
   "outputs": [],
   "source": [
    "speech_config = speechsdk.SpeechConfig(subscription=key, endpoint=endpoint)\n",
    "audio_config = speechsdk.audio.AudioOutputConfig(filename=\"output_from_tts.wav\")"
   ]
  },
  {
   "cell_type": "code",
   "execution_count": 5,
   "id": "905dfada",
   "metadata": {},
   "outputs": [],
   "source": [
    "speech_config.speech_synthesis_voice_name='ar-EG-SalmaNeural'"
   ]
  },
  {
   "cell_type": "code",
   "execution_count": 17,
   "id": "62330569",
   "metadata": {},
   "outputs": [],
   "source": [
    "speech_synthesizer = speechsdk.SpeechSynthesizer(speech_config=speech_config, audio_config=audio_config)"
   ]
  },
  {
   "cell_type": "code",
   "execution_count": 18,
   "id": "29badce5",
   "metadata": {},
   "outputs": [],
   "source": [
    "text = \"Hello, this is a test of the Azure Cognitive Services Speech SDK.\""
   ]
  },
  {
   "cell_type": "code",
   "execution_count": 19,
   "id": "d765f160",
   "metadata": {},
   "outputs": [],
   "source": [
    "#results = speech_synthesizer.speak_text_async(text).get()\n",
    "speech_synthesis_result = speech_synthesizer.speak_text(text)"
   ]
  },
  {
   "cell_type": "code",
   "execution_count": 20,
   "id": "357dba79",
   "metadata": {},
   "outputs": [
    {
     "data": {
      "text/plain": [
       "<ResultReason.SynthesizingAudioCompleted: 9>"
      ]
     },
     "execution_count": 20,
     "metadata": {},
     "output_type": "execute_result"
    }
   ],
   "source": [
    "speech_synthesis_result.reason"
   ]
  },
  {
   "cell_type": "code",
   "execution_count": 23,
   "id": "a3cfd82f",
   "metadata": {},
   "outputs": [
    {
     "name": "stdout",
     "output_type": "stream",
     "text": [
      "Speech synthesized for text [Hello, this is a test of the Azure Cognitive Services Speech SDK.]\n"
     ]
    }
   ],
   "source": [
    "if speech_synthesis_result.reason == speechsdk.ResultReason.SynthesizingAudioCompleted:\n",
    "    print(\"Speech synthesized for text [{}]\".format(text))\n",
    "elif speech_synthesis_result.reason == speechsdk.ResultReason.Canceled:\n",
    "    cancellation_details = speech_synthesis_result.cancellation_details\n",
    "    print(\"Speech synthesis canceled: {}\".format(cancellation_details.reason))\n",
    "    if cancellation_details.reason == speechsdk.CancellationReason.Error:\n",
    "        if cancellation_details.error_details:\n",
    "            print(\"Error details: {}\".format(cancellation_details.error_details))\n",
    "            print(\"Did you set the speech resource key and endpoint values?\")"
   ]
  },
  {
   "cell_type": "markdown",
   "id": "c4902d25",
   "metadata": {},
   "source": [
    "### SSML"
   ]
  },
  {
   "cell_type": "code",
   "execution_count": 5,
   "id": "3aa9ba4d",
   "metadata": {},
   "outputs": [],
   "source": [
    "speech_config = speechsdk.SpeechConfig(subscription=key, endpoint=endpoint)\n",
    "audio_config = speechsdk.audio.AudioOutputConfig(use_default_speaker=True)"
   ]
  },
  {
   "cell_type": "code",
   "execution_count": 29,
   "id": "468ca8e0",
   "metadata": {},
   "outputs": [],
   "source": [
    "speech_config.speech_synthesis_voice_name='ar-EG-SalmaNeural'"
   ]
  },
  {
   "cell_type": "code",
   "execution_count": 6,
   "id": "b53be4be",
   "metadata": {},
   "outputs": [],
   "source": [
    "speech_synthesizer = speechsdk.SpeechSynthesizer(speech_config=speech_config, audio_config=audio_config)"
   ]
  },
  {
   "cell_type": "code",
   "execution_count": 11,
   "id": "7d650f62",
   "metadata": {},
   "outputs": [],
   "source": [
    "with open(\"./Data/ssml.xml\", \"r\") as file:\n",
    "    ssml_text = file.read()"
   ]
  },
  {
   "cell_type": "code",
   "execution_count": 12,
   "id": "49e1abe6",
   "metadata": {},
   "outputs": [
    {
     "data": {
      "text/plain": [
       "<azure.cognitiveservices.speech.SpeechSynthesisResult at 0x17fb6bc4910>"
      ]
     },
     "execution_count": 12,
     "metadata": {},
     "output_type": "execute_result"
    }
   ],
   "source": [
    "speech_synthesizer.speak_ssml_async(ssml_text).get()"
   ]
  },
  {
   "cell_type": "markdown",
   "id": "648d228a",
   "metadata": {},
   "source": [
    "#### Other SSML examples\n",
    "\n",
    "1) Change speaking rate and pitch\n",
    "```xml\n",
    "<speak version=\"1.0\" xmlns=\"https://www.w3.org/2001/10/synthesis\" xml:lang=\"en-US\">\n",
    "  <voice name=\"en-US-AvaMultilingualNeural\">\n",
    "    <prosody rate=\"80%\" pitch=\"+2st\">\n",
    "      When you're on the freeway, it's a good idea to use a GPS.\n",
    "    </prosody>\n",
    "  </voice>\n",
    "</speak>\n",
    "\n",
    "```\n",
    "\n",
    "2) Add a pause (break)\n",
    "```xml\n",
    "<speak version=\"1.0\" xmlns=\"https://www.w3.org/2001/10/synthesis\" xml:lang=\"en-US\">\n",
    "  <voice name=\"en-US-AvaMultilingualNeural\">\n",
    "    When you're on the freeway, <break time=\"500ms\"/> it's a good idea to use a GPS.\n",
    "  </voice>\n",
    "</speak>\n",
    "\n",
    "```\n",
    "\n",
    "3) Emphasize a word\n",
    "```xml\n",
    "<speak version=\"1.0\" xmlns=\"https://www.w3.org/2001/10/synthesis\" xml:lang=\"en-US\">\n",
    "  <voice name=\"en-US-AvaMultilingualNeural\">\n",
    "    When you're on the freeway, it's a good idea to <emphasis level=\"strong\">always</emphasis> use a GPS.\n",
    "  </voice>\n",
    "</speak>\n",
    "\n",
    "```\n",
    "\n",
    "4) Spell out an acronym\n",
    "```xml\n",
    "<speak version=\"1.0\" xmlns=\"https://www.w3.org/2001/10/synthesis\" xml:lang=\"en-US\">\n",
    "  <voice name=\"en-US-AvaMultilingualNeural\">\n",
    "    When driving on the freeway, make sure your <say-as interpret-as=\"characters\">GPS</say-as> is working properly.\n",
    "  </voice>\n",
    "</speak>\n",
    "\n",
    "```\n",
    "\n",
    "5) Insert audio (audio tag)\n",
    "```xml\n",
    "<speak version=\"1.0\" xmlns=\"https://www.w3.org/2001/10/synthesis\" xml:lang=\"en-US\">\n",
    "  <voice name=\"en-US-AvaMultilingualNeural\">\n",
    "    When you're on the freeway, it's a good idea to use a GPS.\n",
    "    <audio src=\"https://www.example.com/sounds/alert.mp3\"/>\n",
    "    Please proceed to the highlighted route.\n",
    "  </voice>\n",
    "</speak>\n",
    "\n",
    "```\n"
   ]
  },
  {
   "cell_type": "markdown",
   "id": "0235f9b3",
   "metadata": {},
   "source": []
  }
 ],
 "metadata": {
  "kernelspec": {
   "display_name": "Python 3",
   "language": "python",
   "name": "python3"
  },
  "language_info": {
   "codemirror_mode": {
    "name": "ipython",
    "version": 3
   },
   "file_extension": ".py",
   "mimetype": "text/x-python",
   "name": "python",
   "nbconvert_exporter": "python",
   "pygments_lexer": "ipython3",
   "version": "3.13.5"
  }
 },
 "nbformat": 4,
 "nbformat_minor": 5
}
