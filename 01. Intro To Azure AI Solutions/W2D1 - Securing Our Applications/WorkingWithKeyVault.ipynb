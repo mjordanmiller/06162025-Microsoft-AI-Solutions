{
 "cells": [
  {
   "cell_type": "markdown",
   "metadata": {},
   "source": [
    "We have a lot of ways to ensure our code does not contain our authentication credentials and the two most common ways of doing this are through environment files or using a \"credential vault\" of sorts. "
   ]
  },
  {
   "cell_type": "markdown",
   "metadata": {},
   "source": [
    "## Using an Environment File"
   ]
  },
  {
   "cell_type": "markdown",
   "metadata": {},
   "source": [
    "*Create a `.env` file. \n",
    "The .env file should be setup with variable values like so:\n",
    "\n",
    "VARIABLE_NAME = value </br>\n",
    "KEY_NAME = value"
   ]
  },
  {
   "cell_type": "code",
   "execution_count": null,
   "metadata": {},
   "outputs": [
    {
     "data": {
      "text/plain": [
       "False"
      ]
     },
     "execution_count": 1,
     "metadata": {},
     "output_type": "execute_result"
    }
   ],
   "source": [
    "#Import packages\n",
    "from dotenv import load_dotenv\n",
    "import os\n",
    "\n",
    "load_dotenv() #if your env file changes after running this, you need to reset kernal for changes to propogate\n",
    "\n",
    "#Get ENV file variables\n",
    "api_key = os.getenv('KEY') #os.environ.get('KEY')\n",
    "base_url = os.getenv('ENDPOINT') #os.environ.get('ENDPOINT')"
   ]
  },
  {
   "cell_type": "markdown",
   "metadata": {},
   "source": [
    "# Start with LangDetect SDK code we had from before\n",
    "-- maybe copy it into a new dir"
   ]
  },
  {
   "cell_type": "markdown",
   "metadata": {},
   "source": [
    "%pip install azure-ai-textanalytics==5.3.0 <br>\n",
    "%pip install azure-identity==1.5.0 <br>\n",
    "%pip install azure-keyvault-secrets==4.2.0"
   ]
  },
  {
   "cell_type": "markdown",
   "metadata": {},
   "source": [
    "### Key Vault"
   ]
  },
  {
   "cell_type": "markdown",
   "metadata": {},
   "source": [
    "Even with the .env files, we are putting our keys into our code. Or into our directories <br>\n",
    "We can avoid putting the keys here, by using Azure Key Vault. It adds an extra layer of authentication. <br>\n",
    "We have to authenticate to the key vault. Then get the key & connect to the service -- adding an extra layer of security"
   ]
  },
  {
   "cell_type": "markdown",
   "metadata": {},
   "source": [
    "In Key vault, we store our keys, secrets, and certificates. <br><br>\n",
    "A secret is anything that you want to tightly control access to, such as API keys, passwords, sometimes even other certificates, or cryptographic keys. <br>\n",
    "The Azure AI service resource keys are actually considered secrets and are very easy to store in the vault <br><br>\n",
    "Now, there are a few ways we can secure the key vault itself. For example, <br>\n",
    "we can use role based access contol to give permissions like key administrator, "
   ]
  },
  {
   "cell_type": "markdown",
   "metadata": {},
   "source": [
    "Here are other important terms: <br>\n",
    "\n",
    "- **Tenant**: A tenant is the organization that owns and manages a specific instance of Microsoft cloud services. It's most often used to refer to the set of Azure and Microsoft 365 services for an organization.\n",
    "- **Security principal**: An Azure security principal is a security identity that user-created apps, services, and automation tools use to access specific Azure resources. Think of it as a \"user identity\" (username and password or certificate) with a specific role, and tightly controlled permissions. A security principal should only need to do specific things, unlike a general user identity. It improves security if you grant it only the minimum permission level that it needs to perform its management tasks. A security principal used with an application or service is called a service principal. <br> In essence, by using a Service Principal, you avoid creating “fake users” (we would call them service account in on-premises Active Directory…) in Azure AD to manage authentication when you need to access Azure Resources.\n",
    "- **Managed identities**: Azure Key Vault provides a way to securely store credentials and other keys and secrets, but your code needs to authenticate to Key Vault to retrieve them. Using a managed identity makes solving this problem simpler by giving Azure services an automatically managed identity in Microsoft Entra ID. <br>\n",
    "Managed Identities are in essence 100% identical in functionality and use case than Service Principals. In fact, they are actually Service Principals.\n",
    "\n",
    "What makes them different though, is: – They are always linked to an Azure Resource, not to an application or 3rd party connector – They are automatically created for you, including the credentials; big benefit here is that no one knows the credentials\n",
    "\n",
    "Managed Identities exist in 2 formats: – System assigned; in this scenario, the identity is linked to a single Azure Resource, eg a Virtual Machine, a Logic App, a Storage Account, Web App, Function,… so almost anything. Next, they also “live” with the Azure Resource, which means they get deleted when the Azure Resource gets deleted. – User Assigned Managed Identity, which means that you first have to create it as a stand-alone Azure resource by itself, after which it can be linked to multiple Azure Resources. "
   ]
  },
  {
   "cell_type": "markdown",
   "metadata": {},
   "source": [
    "### Networks to protect Endpoints"
   ]
  },
  {
   "cell_type": "markdown",
   "metadata": {},
   "source": [
    "As of right now, our endpoints are publicly available, meaning anyone with access to them can use them. <br>\n",
    "We have our keys protected, but we should probably protect our endpoints too, ya? <br>\n",
    "What we can do is restrict this endpoint via a virtual network. Now these endpoints are only available to devices which have access to that network."
   ]
  },
  {
   "cell_type": "markdown",
   "metadata": {},
   "source": [
    "### Containers"
   ]
  },
  {
   "cell_type": "markdown",
   "metadata": {},
   "source": [
    "Azure AI services need internet access to function <br>\n",
    "but what about remote locations that have intermittent or limited internet connectivity. <br>\n",
    "OR what if there are governance rules preventing you from uploading data to a cloud provider <br><br>\n",
    "-- *enter containers* --\n",
    "\n",
    "When you deploy a software service, it must be hosted in an environment that provides the hardware: the OS and supporting runtime components. <br>\n",
    "Azure AI services are provided as cloud services in which the service software is hosted in an Azure datacenter <br>\n",
    "We could also deploy an Azure AI service in a container which encapsulates the necessary runtime components. <br>\n",
    "This is then deployed in a container host that provides the OS and hardware.. These container instances are called **images** <br>\n",
    "Containers are not all encompassing. for example, there is not one container for all of the Language services\n",
    "\n"
   ]
  },
  {
   "cell_type": "markdown",
   "metadata": {},
   "source": [
    "To use a container, you typically pull a container image from a registry, provide your specific configuration settings, and deploy it to a container host."
   ]
  },
  {
   "cell_type": "markdown",
   "metadata": {},
   "source": [
    "### Key Vault Demo"
   ]
  },
  {
   "cell_type": "markdown",
   "metadata": {},
   "source": [
    "- have an Azure AI service (single or multi)\n",
    "- Create an azure key vault\n",
    "    - ensure that in the access configuration tab, you have 'vault access policy' selected -- not RBAC\n",
    "    - check your name in the access policies\n",
    "\n",
    "\n",
    "- Add the api key to the key vault as a secret\n",
    "    - In the key vault resource, expand objects\n",
    "    - create a new secret\n",
    "    - save the AI service key in the key vault\n",
    "    - *Note: you may need to change the networking settings of the key vault to allow access from all networks\n",
    "\n",
    "Discussion: How is this more secure than just creating a .env file?\n",
    "   - Now, we have to provide an identity to Azure to get authenticated to use the key vault and get that key value \n",
    "\n",
    "#### We need a way for our vscode code to access the keys in azure key vault, so we need a service principal\n",
    "\n",
    "- Create a Service Principal (Application Registration)\n",
    "    - *Navigate to Entra and find the Enterprise Applications section\n",
    "        - Maybe go to the docs for an \"application registration\"\n",
    "    - Name: AI-Language-AppRegistration\n",
    "    - Supported account types: Choose \"Accounts in this organizational directory only\".\n",
    "    - click register\n",
    "\n",
    "*Again, all we really did here was create an identity inside of Azure\n",
    "\n",
    "\n",
    "- In the manage section of the left navbar, go to certificates and secrets\n",
    "    - Generate a New Client Secret\n",
    "    - Copy the value of the client secret. \n",
    "\n",
    "\n",
    "\n",
    "\n",
    "#### With Key Vault (lik all Azure resources) we need to dictate who has access to it\n",
    "- Assign key vault access policies to the service principal\n",
    "    - go to key vault\n",
    "    - In the Key Vault's left-hand menu, click on \"Access policies\".\n",
    "    - Click on \"Create\".\n",
    "    - 1 - Permissions: Get and List\n",
    "    - 2 - Principal: (use the name or paste the objectID to find the service principal)\n",
    "    - 3 - Application: *none*\n",
    "    - 4 - create\n",
    "    OR (if using RBAC)\n",
    "    - go to key vault\n",
    "    - click on IAM\n",
    "    - key vault reader\n",
    "    - give access to the Service Principal\n",
    "\n",
    "- We are going to alter our language demo script\n",
    "- note the environment variables we will now use (put these in your .env file)\n",
    "    - **COG_SERVICE_ENDPOINT**: The endpoint for your Azure AI Services resource\n",
    "    - **KEY_VAULT**: The name of your Azure Key Vault resource\n",
    "    - **TENANT_ID**: The tenant for your service principal\n",
    "    - **APP_ID**: The appId for your service principal\n",
    "    - **APP_PASSWORD**: The password for your service principal (created in certificates of the app registration)\n",
    "\n",
    "\n"
   ]
  },
  {
   "cell_type": "markdown",
   "metadata": {},
   "source": [
    "Let's try it out!!"
   ]
  },
  {
   "cell_type": "code",
   "execution_count": null,
   "metadata": {},
   "outputs": [],
   "source": [
    "#may need to \n",
    "!pip install azure-identity\n",
    "!pip install azure-keyvault-secrets"
   ]
  },
  {
   "cell_type": "code",
   "execution_count": null,
   "metadata": {},
   "outputs": [],
   "source": [
    "# Import packages\n",
    "# - for env file\n",
    "from dotenv import load_dotenv\n",
    "import os\n",
    "\n",
    "# - from lang demo (SDK)\n",
    "from azure.ai.textanalytics import TextAnalyticsClient\n",
    "from azure.core.credentials import AzureKeyCredential\n",
    "\n",
    "# -to get needed info from azure\n",
    "from azure.keyvault.secrets import SecretClient\n",
    "from azure.identity import ClientSecretCredential\n",
    "\n",
    "\n",
    "# Depending on how you want to grant access, yo ucould tweak this exercise to use the user's Azure credentials\n",
    "# from azure.identity import DefaultAzureCredential\n"
   ]
  },
  {
   "cell_type": "code",
   "execution_count": 2,
   "metadata": {},
   "outputs": [
    {
     "data": {
      "text/plain": [
       "True"
      ]
     },
     "execution_count": 2,
     "metadata": {},
     "output_type": "execute_result"
    }
   ],
   "source": [
    "load_dotenv()"
   ]
  },
  {
   "cell_type": "code",
   "execution_count": null,
   "metadata": {},
   "outputs": [],
   "source": [
    "language_endpoint = os.environ.get('COG_SERVICE_ENDPOINT')\n",
    "\n",
    "key_vault_name = os.getenv('KEY_VAULT')\n",
    "app_tenant = os.getenv('TENANT_ID')\n",
    "app_id = os.getenv('APP_ID') #client id\n",
    "app_password = os.getenv('APP_PASSWORD')\n",
    "\n",
    "# Get Azure AI services key from keyvault using the service principal credentials\n",
    "key_vault_uri = f\"https://{key_vault_name}.vault.azure.net/\"\n",
    "\n",
    "# refer to the Language SDK script\n",
    "\"\"\" \n",
    "def authenticate_client():\n",
    "    ta_credential = AzureKeyCredential(ai_key)\n",
    "    text_analytics_client = TextAnalyticsClient(\n",
    "            endpoint=ai_endpoint, \n",
    "            credential=ta_credential)\n",
    "    return text_analytics_client\n",
    "\n",
    "client = authenticate_client()\n",
    " \"\"\"\n",
    "#to do this, we need to connect to our service principal, then connect to the key vault, and get the secret from the key vault\n",
    "\n",
    "\n",
    "credential = ClientSecretCredential(tenant_id=app_tenant, client_id=app_id, client_secret=app_password) #access to the Service Principal \"authenticates the Service Principal\"\n",
    "keyvault_client = SecretClient(key_vault_uri, credential) #allows us to connect to the key vault\n",
    "secret_key = keyvault_client.get_secret(\"Cognitive-Services-Key\") #now we need to get the secret from the key vault -- this is the name of the secret in key vault\n",
    "cog_key = secret_key.value #the above command gets the \"entire\" secret -- more than just the value\n",
    "\n",
    "\n",
    "#now, we do the same auth as before\n",
    "credential = AzureKeyCredential(cog_key)\n",
    "client = TextAnalyticsClient(endpoint=language_endpoint, credential=credential)"
   ]
  },
  {
   "cell_type": "code",
   "execution_count": 4,
   "metadata": {},
   "outputs": [],
   "source": [
    "# Example method for detecting the language of text\n",
    "def language_detection_example():\n",
    "    try:\n",
    "        userText = ''\n",
    "        while userText.lower() != 'quit':\n",
    "            userText = input('\\nEnter some text (\"quit\" to stop)\\n')\n",
    "            if userText.lower() != 'quit':\n",
    "                documents = [userText]\n",
    "                response = client.detect_language(documents = documents, country_hint = 'us')[0]\n",
    "                print(\"Language: \", response.primary_language.name)\n",
    "\n",
    "    except Exception as err:\n",
    "        print(\"Encountered exception. {}\".format(err))"
   ]
  },
  {
   "cell_type": "code",
   "execution_count": 5,
   "metadata": {},
   "outputs": [
    {
     "name": "stdout",
     "output_type": "stream",
     "text": [
      "Language:  English\n"
     ]
    }
   ],
   "source": [
    "language_detection_example()"
   ]
  },
  {
   "cell_type": "markdown",
   "metadata": {},
   "source": [
    "### Further discussion: Protecting the endpoint\n",
    "\n",
    "- Using networking"
   ]
  },
  {
   "cell_type": "markdown",
   "metadata": {},
   "source": [
    "### Container demo"
   ]
  },
  {
   "cell_type": "markdown",
   "metadata": {},
   "source": [
    "- create a new container instance\n",
    "    - image source: other registry\n",
    "    - Image: *get link from docker hub (Text Analytics Language)\n",
    "    - change size of the image: 4 cores and 8 gigs memory (no gpu)\n",
    "    Networking\n",
    "    - (optional) give a DNS name label\n",
    "    Advanced\n",
    "    - Restart policy: always\n",
    "    - Environment Variables:\n",
    "        - Secure: yes ; ApiKey: ~~~\n",
    "        - Secure: no ; Billing: ~endpoint url~\n",
    "        - Secure: no ; Eula: Accept\n",
    "-  make sure container is running\n",
    "-  if it is running, you can use it like any web application\n",
    "    -  *you can use either the IP address or use the Fully Qualified Domain Name (FQDN)\n",
    "    - Paste the FQDN into your browser and append \":5000\"\n",
    "    - now, you can make rest requests from this container\n",
    "    - *you could either create your own Frontend to do this or just\n",
    "    - append \"/swagger\" (\"/swagger/index.html\")\n",
    "    - *We can use this envronment to test the service\n",
    "\n",
    "    - down at the ready section you can see if the service is up and running"
   ]
  },
  {
   "cell_type": "markdown",
   "metadata": {},
   "source": []
  }
 ],
 "metadata": {
  "kernelspec": {
   "display_name": "Python 3",
   "language": "python",
   "name": "python3"
  },
  "language_info": {
   "codemirror_mode": {
    "name": "ipython",
    "version": 3
   },
   "file_extension": ".py",
   "mimetype": "text/x-python",
   "name": "python",
   "nbconvert_exporter": "python",
   "pygments_lexer": "ipython3",
   "version": "3.13.1"
  }
 },
 "nbformat": 4,
 "nbformat_minor": 2
}
