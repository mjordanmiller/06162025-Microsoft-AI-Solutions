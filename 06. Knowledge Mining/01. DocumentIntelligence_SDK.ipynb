{
 "cells": [
  {
   "cell_type": "code",
   "execution_count": null,
   "id": "01d20f1c",
   "metadata": {},
   "outputs": [],
   "source": [
    "!pip install azure-ai-formrecognizer"
   ]
  },
  {
   "cell_type": "code",
   "execution_count": 2,
   "id": "4511e4b9",
   "metadata": {},
   "outputs": [],
   "source": [
    "#import libraries\n",
    "import os\n",
    "from dotenv import load_dotenv\n",
    "\n",
    "from azure.core.credentials import AzureKeyCredential\n",
    "from azure.ai.formrecognizer import DocumentAnalysisClient"
   ]
  },
  {
   "cell_type": "code",
   "execution_count": 3,
   "id": "e8094318",
   "metadata": {},
   "outputs": [
    {
     "data": {
      "text/plain": [
       "True"
      ]
     },
     "execution_count": 3,
     "metadata": {},
     "output_type": "execute_result"
    }
   ],
   "source": [
    "load_dotenv()"
   ]
  },
  {
   "cell_type": "code",
   "execution_count": 4,
   "id": "2c466eb5",
   "metadata": {},
   "outputs": [],
   "source": [
    "endpoint = os.getenv(\"ENDPOINT\")\n",
    "key = os.getenv(\"KEY\")"
   ]
  },
  {
   "cell_type": "code",
   "execution_count": 6,
   "id": "0bcfbb84",
   "metadata": {},
   "outputs": [],
   "source": [
    "fileruri = \"https://github.com/MicrosoftLearning/mslearn-ai-information-extraction/blob/main/Labfiles/prebuilt-doc-intelligence/sample-invoice/sample-invoice.pdf?raw=true\"\"01. DocumentIntelligence_SDK.ipynb\"\n",
    "fileModel = \"prebuilt-invoice\""
   ]
  },
  {
   "cell_type": "code",
   "execution_count": 7,
   "id": "c68d5cf5",
   "metadata": {},
   "outputs": [],
   "source": [
    "document_analysis_client = DocumentAnalysisClient(\n",
    "    endpoint=endpoint,\n",
    "    credential=AzureKeyCredential(key)\n",
    ")"
   ]
  },
  {
   "cell_type": "code",
   "execution_count": 8,
   "id": "7489cdf6",
   "metadata": {},
   "outputs": [],
   "source": [
    "poller = document_analysis_client.begin_analyze_document_from_url(\n",
    "    model_id=fileModel,\n",
    "    document_url=fileruri\n",
    ")"
   ]
  },
  {
   "cell_type": "code",
   "execution_count": 11,
   "id": "c5c26449",
   "metadata": {},
   "outputs": [],
   "source": [
    "results = poller.result()"
   ]
  },
  {
   "cell_type": "code",
   "execution_count": 17,
   "id": "eaf8d1d4",
   "metadata": {},
   "outputs": [],
   "source": [
    "result = results.documents[0]"
   ]
  },
  {
   "cell_type": "code",
   "execution_count": 18,
   "id": "f1bc52b3",
   "metadata": {},
   "outputs": [
    {
     "data": {
      "text/plain": [
       "{'AmountDue': DocumentField(value_type=currency, value=CurrencyValue(amount=610.0, symbol=$, code=USD), content=$610.00, bounding_regions=[BoundingRegion(page_number=1, polygon=[Point(x=7.3587, y=7.8012), Point(x=7.9174, y=7.8012), Point(x=7.9222, y=7.9731), Point(x=7.3539, y=7.9731)])], spans=[DocumentSpan(offset=653, length=7)], confidence=0.949),\n",
       " 'BillingAddress': DocumentField(value_type=address, value=AddressValue(house_number=123, po_box=None, road=Bill St, city=Redmond, state=WA, postal_code=98052, country_region=None, street_address=123 Bill St, unit=None, city_district=None, state_district=None, suburb=None, house=None, level=None), content=123 Bill St,\n",
       " Redmond WA, 98052, bounding_regions=[BoundingRegion(page_number=1, polygon=[Point(x=0.5635, y=4.3589), Point(x=2.0247, y=4.3589), Point(x=2.0247, y=4.7266), Point(x=0.5635, y=4.7266)])], spans=[DocumentSpan(offset=328, length=12), DocumentSpan(offset=370, length=17)], confidence=0.889),\n",
       " 'BillingAddressRecipient': DocumentField(value_type=string, value='Microsoft Finance', content=Microsoft Finance, bounding_regions=[BoundingRegion(page_number=1, polygon=[Point(x=0.573, y=4.1434), Point(x=1.801, y=4.1489), Point(x=1.8003, y=4.316), Point(x=0.5723, y=4.3105)])], spans=[DocumentSpan(offset=272, length=17)], confidence=0.938),\n",
       " 'CustomerAddress': DocumentField(value_type=address, value=AddressValue(house_number=123, po_box=None, road=Other St, city=Redmond, state=WA, postal_code=98052, country_region=None, street_address=123 Other St, unit=None, city_district=None, state_district=None, suburb=None, house=None, level=None), content=123 Other St,\n",
       " Redmond WA, 98052, bounding_regions=[BoundingRegion(page_number=1, polygon=[Point(x=0.5635, y=2.8312), Point(x=2.0247, y=2.8312), Point(x=2.0247, y=3.2036), Point(x=0.5635, y=3.2036)])], spans=[DocumentSpan(offset=205, length=31)], confidence=0.888),\n",
       " 'CustomerAddressRecipient': DocumentField(value_type=string, value='Microsoft Corp', content=Microsoft Corp, bounding_regions=[BoundingRegion(page_number=1, polygon=[Point(x=0.5715, y=2.6076), Point(x=1.598, y=2.626), Point(x=1.5947, y=2.8089), Point(x=0.5683, y=2.7906)])], spans=[DocumentSpan(offset=190, length=14)], confidence=0.936),\n",
       " 'CustomerId': DocumentField(value_type=string, value='CID-12345', content=CID-12345, bounding_regions=[BoundingRegion(page_number=1, polygon=[Point(x=7.3253, y=2.2201), Point(x=7.9938, y=2.2105), Point(x=7.9938, y=2.3681), Point(x=7.3301, y=2.3633)])], spans=[DocumentSpan(offset=180, length=9)], confidence=0.967),\n",
       " 'CustomerName': DocumentField(value_type=string, value='MICROSOFT CORPORATION', content=MICROSOFT CORPORATION, bounding_regions=[BoundingRegion(page_number=1, polygon=[Point(x=6.2075, y=2.0098), Point(x=7.9699, y=2.0052), Point(x=7.9703, y=2.1582), Point(x=6.2079, y=2.1628)])], spans=[DocumentSpan(offset=145, length=21)], confidence=0.919),\n",
       " 'DueDate': DocumentField(value_type=date, value=datetime.date(2019, 12, 15), content=12/15/2019, bounding_regions=[BoundingRegion(page_number=1, polygon=[Point(x=7.2441, y=1.8047), Point(x=7.9938, y=1.7999), Point(x=8.0034, y=1.9527), Point(x=7.2441, y=1.9527)])], spans=[DocumentSpan(offset=119, length=10)], confidence=0.971),\n",
       " 'InvoiceDate': DocumentField(value_type=date, value=datetime.date(2019, 11, 15), content=11/15/2019, bounding_regions=[BoundingRegion(page_number=1, polygon=[Point(x=7.2393, y=1.5994), Point(x=7.9986, y=1.5946), Point(x=7.9986, y=1.7522), Point(x=7.2393, y=1.7522)])], spans=[DocumentSpan(offset=78, length=10)], confidence=0.971),\n",
       " 'InvoiceId': DocumentField(value_type=string, value='INV-100', content=INV-100, bounding_regions=[BoundingRegion(page_number=1, polygon=[Point(x=7.4638, y=1.3893), Point(x=7.9986, y=1.3845), Point(x=7.9986, y=1.5516), Point(x=7.4638, y=1.5516)])], spans=[DocumentSpan(offset=51, length=7)], confidence=0.971),\n",
       " 'InvoiceTotal': DocumentField(value_type=currency, value=CurrencyValue(amount=110.0, symbol=$, code=USD), content=$110.00, bounding_regions=[BoundingRegion(page_number=1, polygon=[Point(x=7.3635, y=7.2044), Point(x=7.9174, y=7.2044), Point(x=7.9174, y=7.3715), Point(x=7.3683, y=7.3715)])], spans=[DocumentSpan(offset=610, length=7)], confidence=0.969),\n",
       " 'Items': DocumentField(value_type=list, value=[DocumentField(value_type=dictionary, value={'Amount': DocumentField(value_type=currency, value=CurrencyValue(amount=100.0, symbol=$, code=USD), content=$100.00, bounding_regions=[BoundingRegion(page_number=1, polygon=[Point(x=7.3635, y=6.0729), Point(x=7.9126, y=6.0729), Point(x=7.9126, y=6.2305), Point(x=7.3635, y=6.2352)])], spans=[DocumentSpan(offset=562, length=7)], confidence=0.913), 'Description': DocumentField(value_type=string, value='Test for 23 fields', content=Test for 23 fields, bounding_regions=[BoundingRegion(page_number=1, polygon=[Point(x=1.9006, y=6.0729), Point(x=3.0323, y=6.0729), Point(x=3.0323, y=6.2305), Point(x=1.9006, y=6.2305)])], spans=[DocumentSpan(offset=541, length=18)], confidence=0.914), 'Quantity': DocumentField(value_type=float, value=1.0, content=1, bounding_regions=[BoundingRegion(page_number=1, polygon=[Point(x=0.5874, y=6.0872), Point(x=0.659, y=6.0872), Point(x=0.6638, y=6.2161), Point(x=0.5921, y=6.2161)])], spans=[DocumentSpan(offset=539, length=1)], confidence=0.905), 'Unit': DocumentField(value_type=string, value='1', content=1, bounding_regions=[BoundingRegion(page_number=1, polygon=[Point(x=6.6663, y=6.092), Point(x=6.7284, y=6.092), Point(x=6.7284, y=6.2114), Point(x=6.6663, y=6.2114)])], spans=[DocumentSpan(offset=560, length=1)], confidence=0.497)}, content=1\n",
       " Test for 23 fields\n",
       " 1\n",
       " $100.00, bounding_regions=[BoundingRegion(page_number=1, polygon=[Point(x=0.5874, y=6.0729), Point(x=7.9126, y=6.0729), Point(x=7.9126, y=6.2352), Point(x=0.5874, y=6.2352)])], spans=[DocumentSpan(offset=539, length=30)], confidence=0.923)], content=None, bounding_regions=[], spans=[], confidence=None),\n",
       " 'PreviousUnpaidBalance': DocumentField(value_type=currency, value=CurrencyValue(amount=500.0, symbol=$, code=USD), content=$500.00, bounding_regions=[BoundingRegion(page_number=1, polygon=[Point(x=7.3683, y=7.5052), Point(x=7.9174, y=7.5004), Point(x=7.9222, y=7.6723), Point(x=7.3587, y=7.6723)])], spans=[DocumentSpan(offset=635, length=7)], confidence=0.95),\n",
       " 'PurchaseOrder': DocumentField(value_type=string, value='PO-3333', content=PO-3333, bounding_regions=[BoundingRegion(page_number=1, polygon=[Point(x=1.8862, y=5.3186), Point(x=2.4736, y=5.3138), Point(x=2.4736, y=5.4618), Point(x=1.8862, y=5.4618)])], spans=[DocumentSpan(offset=493, length=7)], confidence=0.967),\n",
       " 'RemittanceAddress': DocumentField(value_type=address, value=AddressValue(house_number=123, po_box=None, road=Remit St, city=New York, state=NY, postal_code=10001, country_region=None, street_address=123 Remit St, unit=None, city_district=None, state_district=None, suburb=None, house=None, level=None), content=123 Remit St\n",
       " New York, NY, 10001, bounding_regions=[BoundingRegion(page_number=1, polygon=[Point(x=0.5587, y=9.5056), Point(x=2.0008, y=9.5056), Point(x=2.0008, y=9.8828), Point(x=0.5587, y=9.8828)])], spans=[DocumentSpan(offset=716, length=32)], confidence=0.887),\n",
       " 'RemittanceAddressRecipient': DocumentField(value_type=string, value='Contoso Billing', content=Contoso Billing, bounding_regions=[BoundingRegion(page_number=1, polygon=[Point(x=0.578, y=9.2967), Point(x=1.5949, y=9.3099), Point(x=1.5927, y=9.483), Point(x=0.5758, y=9.4699)])], spans=[DocumentSpan(offset=700, length=15)], confidence=0.938),\n",
       " 'ServiceAddress': DocumentField(value_type=address, value=AddressValue(house_number=123, po_box=None, road=Service St, city=Redmond, state=WA, postal_code=98052, country_region=None, street_address=123 Service St, unit=None, city_district=None, state_district=None, suburb=None, house=None, level=None), content=123 Service St,\n",
       " Redmond WA, 98052, bounding_regions=[BoundingRegion(page_number=1, polygon=[Point(x=6.1983, y=4.3637), Point(x=7.6452, y=4.3637), Point(x=7.6452, y=4.7266), Point(x=6.1983, y=4.7266)])], spans=[DocumentSpan(offset=354, length=15), DocumentSpan(offset=406, length=17)], confidence=0.888),\n",
       " 'ServiceAddressRecipient': DocumentField(value_type=string, value='Microsoft Services', content=Microsoft Services, bounding_regions=[BoundingRegion(page_number=1, polygon=[Point(x=6.1983, y=4.1488), Point(x=7.4542, y=4.1489), Point(x=7.4542, y=4.3112), Point(x=6.1983, y=4.3111)])], spans=[DocumentSpan(offset=309, length=18)], confidence=0.936),\n",
       " 'ShippingAddress': DocumentField(value_type=address, value=AddressValue(house_number=123, po_box=None, road=Ship St, city=Redmond, state=WA, postal_code=98052, country_region=None, street_address=123 Ship St, unit=None, city_district=None, state_district=None, suburb=None, house=None, level=None), content=123 Ship St,\n",
       " Redmond WA, 98052, bounding_regions=[BoundingRegion(page_number=1, polygon=[Point(x=3.3284, y=4.3589), Point(x=4.7705, y=4.3589), Point(x=4.7705, y=4.7218), Point(x=3.3284, y=4.7218)])], spans=[DocumentSpan(offset=341, length=12), DocumentSpan(offset=388, length=17)], confidence=0.888),\n",
       " 'ShippingAddressRecipient': DocumentField(value_type=string, value='Microsoft Delivery', content=Microsoft Delivery, bounding_regions=[BoundingRegion(page_number=1, polygon=[Point(x=3.3189, y=4.1429), Point(x=4.589, y=4.1536), Point(x=4.5876, y=4.3257), Point(x=3.3174, y=4.3151)])], spans=[DocumentSpan(offset=290, length=18)], confidence=0.937),\n",
       " 'SubTotal': DocumentField(value_type=currency, value=CurrencyValue(amount=100.0, symbol=$, code=USD), content=$100.00, bounding_regions=[BoundingRegion(page_number=1, polygon=[Point(x=7.3635, y=6.6124), Point(x=7.9174, y=6.6124), Point(x=7.9174, y=6.7652), Point(x=7.3635, y=6.7747)])], spans=[DocumentSpan(offset=579, length=7)], confidence=0.97),\n",
       " 'TotalTax': DocumentField(value_type=currency, value=CurrencyValue(amount=10.0, symbol=$, code=USD), content=$10.00, bounding_regions=[BoundingRegion(page_number=1, polygon=[Point(x=7.4447, y=6.9084), Point(x=7.9222, y=6.9036), Point(x=7.9174, y=7.0707), Point(x=7.4447, y=7.0707)])], spans=[DocumentSpan(offset=597, length=6)], confidence=0.97),\n",
       " 'VendorAddress': DocumentField(value_type=address, value=AddressValue(house_number=123, po_box=None, road=456th St, city=New York, state=NY, postal_code=10001, country_region=None, street_address=123 456th St, unit=None, city_district=None, state_district=None, suburb=None, house=None, level=None), content=123 456th St\n",
       " New York, NY, 10001, bounding_regions=[BoundingRegion(page_number=1, polygon=[Point(x=0.5683, y=1.6042), Point(x=1.9961, y=1.6042), Point(x=1.9961, y=1.9813), Point(x=0.5683, y=1.9813)])], spans=[DocumentSpan(offset=59, length=12), DocumentSpan(offset=89, length=19)], confidence=0.887),\n",
       " 'VendorAddressRecipient': DocumentField(value_type=string, value='Contoso Headquarters', content=Contoso Headquarters, bounding_regions=[BoundingRegion(page_number=1, polygon=[Point(x=0.573, y=1.3922), Point(x=2.1115, y=1.3989), Point(x=2.1107, y=1.5798), Point(x=0.5723, y=1.5731)])], spans=[DocumentSpan(offset=21, length=20)], confidence=0.938),\n",
       " 'VendorName': DocumentField(value_type=string, value='CONTOSO LTD.', content=CONTOSO LTD., bounding_regions=[BoundingRegion(page_number=1, polygon=[Point(x=0.5827, y=0.6523), Point(x=2.3318, y=0.6636), Point(x=2.3303, y=0.8912), Point(x=0.5812, y=0.8799)])], spans=[DocumentSpan(offset=0, length=12)], confidence=0.937)}"
      ]
     },
     "execution_count": 18,
     "metadata": {},
     "output_type": "execute_result"
    }
   ],
   "source": [
    "result.fields"
   ]
  },
  {
   "cell_type": "code",
   "execution_count": 22,
   "id": "c8a6b1c7",
   "metadata": {},
   "outputs": [
    {
     "name": "stdout",
     "output_type": "stream",
     "text": [
      "AmountDue: $610.0 (confidence: 0.949)\n",
      "BillingAddress: 123 Bill St, Redmond, WA, 98052 (confidence: 0.889)\n",
      "BillingAddressRecipient: Microsoft Finance (confidence: 0.938)\n",
      "CustomerAddress: 123 Other St, Redmond, WA, 98052 (confidence: 0.888)\n",
      "CustomerAddressRecipient: Microsoft Corp (confidence: 0.936)\n",
      "CustomerId: CID-12345 (confidence: 0.967)\n",
      "CustomerName: MICROSOFT CORPORATION (confidence: 0.919)\n",
      "DueDate: 2019-12-15 (confidence: 0.971)\n",
      "InvoiceDate: 2019-11-15 (confidence: 0.971)\n",
      "InvoiceId: INV-100 (confidence: 0.971)\n",
      "InvoiceTotal: $110.0 (confidence: 0.969)\n",
      "Items: [DocumentField(value_type=dictionary, value={'Amount': DocumentField(value_type=currency, value=CurrencyValue(amount=100.0, symbol=$, code=USD), content=$100.00, bounding_regions=[BoundingRegion(page_number=1, polygon=[Point(x=7.3635, y=6.0729), Point(x=7.9126, y=6.0729), Point(x=7.9126, y=6.2305), Point(x=7.3635, y=6.2352)])], spans=[DocumentSpan(offset=562, length=7)], confidence=0.913), 'Description': DocumentField(value_type=string, value='Test for 23 fields', content=Test for 23 fields, bounding_regions=[BoundingRegion(page_number=1, polygon=[Point(x=1.9006, y=6.0729), Point(x=3.0323, y=6.0729), Point(x=3.0323, y=6.2305), Point(x=1.9006, y=6.2305)])], spans=[DocumentSpan(offset=541, length=18)], confidence=0.914), 'Quantity': DocumentField(value_type=float, value=1.0, content=1, bounding_regions=[BoundingRegion(page_number=1, polygon=[Point(x=0.5874, y=6.0872), Point(x=0.659, y=6.0872), Point(x=0.6638, y=6.2161), Point(x=0.5921, y=6.2161)])], spans=[DocumentSpan(offset=539, length=1)], confidence=0.905), 'Unit': DocumentField(value_type=string, value='1', content=1, bounding_regions=[BoundingRegion(page_number=1, polygon=[Point(x=6.6663, y=6.092), Point(x=6.7284, y=6.092), Point(x=6.7284, y=6.2114), Point(x=6.6663, y=6.2114)])], spans=[DocumentSpan(offset=560, length=1)], confidence=0.497)}, content=1\n",
      "Test for 23 fields\n",
      "1\n",
      "$100.00, bounding_regions=[BoundingRegion(page_number=1, polygon=[Point(x=0.5874, y=6.0729), Point(x=7.9126, y=6.0729), Point(x=7.9126, y=6.2352), Point(x=0.5874, y=6.2352)])], spans=[DocumentSpan(offset=539, length=30)], confidence=0.923)] (confidence: None)\n",
      "PreviousUnpaidBalance: $500.0 (confidence: 0.95)\n",
      "PurchaseOrder: PO-3333 (confidence: 0.967)\n",
      "RemittanceAddress: 123 Remit St, New York, NY, 10001 (confidence: 0.887)\n",
      "RemittanceAddressRecipient: Contoso Billing (confidence: 0.938)\n",
      "ServiceAddress: 123 Service St, Redmond, WA, 98052 (confidence: 0.888)\n",
      "ServiceAddressRecipient: Microsoft Services (confidence: 0.936)\n",
      "ShippingAddress: 123 Ship St, Redmond, WA, 98052 (confidence: 0.888)\n",
      "ShippingAddressRecipient: Microsoft Delivery (confidence: 0.937)\n",
      "SubTotal: $100.0 (confidence: 0.97)\n",
      "TotalTax: $10.0 (confidence: 0.97)\n",
      "VendorAddress: 123 456th St, New York, NY, 10001 (confidence: 0.887)\n",
      "VendorAddressRecipient: Contoso Headquarters (confidence: 0.938)\n",
      "VendorName: CONTOSO LTD. (confidence: 0.937)\n"
     ]
    }
   ],
   "source": [
    "for k, v in result.fields.items():\n",
    "    if v.value_type == 'address' and v.value:\n",
    "        print(f\"{k}: {v.value.street_address}, {v.value.city}, {v.value.state}, {v.value.postal_code} (confidence: {v.confidence})\")\n",
    "    else:\n",
    "        print(f\"{k}: {v.value} (confidence: {v.confidence})\")"
   ]
  },
  {
   "cell_type": "code",
   "execution_count": 21,
   "id": "ab9a4582",
   "metadata": {},
   "outputs": [
    {
     "data": {
      "text/plain": [
       "DocumentField(value_type=currency, value=CurrencyValue(amount=610.0, symbol=$, code=USD), content=$610.00, bounding_regions=[BoundingRegion(page_number=1, polygon=[Point(x=7.3587, y=7.8012), Point(x=7.9174, y=7.8012), Point(x=7.9222, y=7.9731), Point(x=7.3539, y=7.9731)])], spans=[DocumentSpan(offset=653, length=7)], confidence=0.949)"
      ]
     },
     "execution_count": 21,
     "metadata": {},
     "output_type": "execute_result"
    }
   ],
   "source": [
    "result.fields.get(\"AmountDue\")"
   ]
  },
  {
   "cell_type": "markdown",
   "id": "f8cbc8d0",
   "metadata": {},
   "source": [
    "#### Using the NEW SDK for Document Intelligence"
   ]
  },
  {
   "cell_type": "code",
   "execution_count": null,
   "id": "ad91c158",
   "metadata": {},
   "outputs": [],
   "source": [
    "!pip install azure-ai-documentintelligence"
   ]
  },
  {
   "cell_type": "code",
   "execution_count": 12,
   "id": "73fecd5f",
   "metadata": {},
   "outputs": [],
   "source": [
    "#import libraries\n",
    "import os\n",
    "from dotenv import load_dotenv\n",
    "\n",
    "from azure.core.credentials import AzureKeyCredential\n",
    "from azure.ai.documentintelligence import DocumentIntelligenceClient\n",
    "from azure.ai.documentintelligence.models import DocumentAnalysisFeature, AnalyzeResult"
   ]
  },
  {
   "cell_type": "code",
   "execution_count": 2,
   "id": "d54dd449",
   "metadata": {},
   "outputs": [
    {
     "data": {
      "text/plain": [
       "True"
      ]
     },
     "execution_count": 2,
     "metadata": {},
     "output_type": "execute_result"
    }
   ],
   "source": [
    "load_dotenv()"
   ]
  },
  {
   "cell_type": "code",
   "execution_count": 3,
   "id": "4ec5b3b4",
   "metadata": {},
   "outputs": [],
   "source": [
    "endpoint = os.getenv(\"ENDPOINT\")\n",
    "key = os.getenv(\"KEY\")"
   ]
  },
  {
   "cell_type": "code",
   "execution_count": 11,
   "id": "b4a4cc05",
   "metadata": {},
   "outputs": [],
   "source": [
    "document_intelligence_client = DocumentIntelligenceClient(\n",
    "    endpoint=endpoint,\n",
    "    credential=AzureKeyCredential(key)\n",
    ")"
   ]
  },
  {
   "cell_type": "code",
   "execution_count": 9,
   "id": "582b47be",
   "metadata": {},
   "outputs": [],
   "source": [
    "def _in_span(word, spans):\n",
    "    for span in spans:\n",
    "        if word.span.offset >= span.offset and (word.span.offset + word.span.length) <= (span.offset + span.length):\n",
    "            return True\n",
    "    return False\n",
    "\n",
    "def _format_bounding_region(bounding_regions):\n",
    "    if not bounding_regions:\n",
    "        return \"N/A\"\n",
    "    return \", \".join(\n",
    "        f\"Page #{region.page_number}: {_format_polygon(region.polygon)}\" for region in bounding_regions\n",
    "    )\n",
    "\n",
    "def _format_polygon(polygon):\n",
    "    if not polygon:\n",
    "        return \"N/A\"\n",
    "    return \", \".join([f\"[{polygon[i]}, {polygon[i + 1]}]\" for i in range(0, len(polygon), 2)])\n"
   ]
  },
  {
   "cell_type": "code",
   "execution_count": 10,
   "id": "3c2484d2",
   "metadata": {},
   "outputs": [
    {
     "name": "stdout",
     "output_type": "stream",
     "text": [
      "c:\\Users\\JordanMiller\\Documents\\_StormSurge\\06162025-Microsoft-AI-Solutions\\06. Knowledge Mining\n"
     ]
    }
   ],
   "source": [
    "print(os.getcwd())"
   ]
  },
  {
   "cell_type": "code",
   "execution_count": 23,
   "id": "d73c0852",
   "metadata": {},
   "outputs": [],
   "source": [
    "with open(\"data/invoice-1235.pdf\", \"rb\") as f:\n",
    "    poller = document_intelligence_client.begin_analyze_document(\n",
    "        \"prebuilt-layout\",\n",
    "        f,\n",
    "        features=[DocumentAnalysisFeature.KEY_VALUE_PAIRS],\n",
    "        content_type=\"application/octet-stream\",\n",
    "    )"
   ]
  },
  {
   "cell_type": "code",
   "execution_count": 24,
   "id": "2ff40845",
   "metadata": {},
   "outputs": [],
   "source": [
    "result = poller.result()"
   ]
  },
  {
   "cell_type": "code",
   "execution_count": 16,
   "id": "0105aef6",
   "metadata": {},
   "outputs": [
    {
     "data": {
      "text/plain": [
       "{'apiVersion': '2024-11-30', 'modelId': 'prebuilt-layout', 'stringIndexType': 'textElements', 'content': 'Contoso Ltd 2 Main St, Bigtown, England, EH1 234 Tel: 555 123-4567\\nInvoice No:\\n1234\\nDate:\\n03/07/2025\\nCustomer Name:\\nJohn Smith 123 River Street\\nAddress:\\nMarshtown\\nEngland\\nGL1 234\\nItem\\nPrice\\nQuantity\\nItem Total\\n38mm Widget\\n24.50\\n2\\n49.00\\n3.5mm screws pack\\n4.99\\n1\\n4.99\\nLeft-handed screwdriver\\n7.49\\n1\\n7.49\\nSubtotal\\n61.48\\nTax\\n6.14\\nShipping\\n15.00\\nTotal Due\\n82.62', 'pages': [{'pageNumber': 1, 'angle': 0.21717900037765503, 'width': 8.5, 'height': 11, 'unit': 'inch', 'words': [{'content': 'Contoso', 'polygon': [0.8658, 0.8219, 1.8756, 0.8213, 1.8755, 1.0372, 0.8656, 1.04], 'confidence': 0.997, 'span': {'offset': 0, 'length': 7}}, {'content': 'Ltd', 'polygon': [1.9609, 0.8204, 2.3298, 0.8152, 2.3298, 1.039, 1.9608, 1.0369], 'confidence': 0.995, 'span': {'offset': 8, 'length': 3}}, {'content': '2', 'polygon': [0.8578, 1.0917, 0.9242, 1.0916, 0.9239, 1.2566, 0.8573, 1.2561], 'confidence': 0.995, 'span': {'offset': 12, 'length': 1}}, {'content': 'Main', 'polygon': [0.9575, 1.0916, 1.3093, 1.0908, 1.3086, 1.2592, 0.9571, 1.2569], 'confidence': 0.992, 'span': {'offset': 14, 'length': 4}}, {'content': 'St,', 'polygon': [1.3536, 1.0906, 1.5254, 1.0908, 1.5249, 1.2601, 1.353, 1.2595], 'confidence': 0.992, 'span': {'offset': 19, 'length': 3}}, {'content': 'Bigtown,', 'polygon': [1.5752, 1.091, 2.1486, 1.0908, 2.1484, 1.2616, 1.5748, 1.2602], 'confidence': 0.995, 'span': {'offset': 23, 'length': 8}}, {'content': 'England,', 'polygon': [2.2013, 1.0904, 2.7802, 1.0873, 2.7798, 1.2573, 2.2011, 1.2615], 'confidence': 0.993, 'span': {'offset': 32, 'length': 8}}, {'content': 'EH1', 'polygon': [2.8301, 1.0876, 3.0794, 1.0873, 3.0789, 1.2561, 2.8296, 1.2567], 'confidence': 0.993, 'span': {'offset': 41, 'length': 3}}, {'content': '234', 'polygon': [3.1403, 1.0869, 3.4033, 1.0853, 3.4033, 1.2541, 3.1398, 1.2559], 'confidence': 0.995, 'span': {'offset': 45, 'length': 3}}, {'content': 'Tel:', 'polygon': [0.8544, 1.2824, 1.0892, 1.283, 1.0891, 1.4327, 0.8546, 1.4328], 'confidence': 0.994, 'span': {'offset': 49, 'length': 4}}, {'content': '555', 'polygon': [1.1357, 1.2831, 1.3778, 1.2831, 1.3776, 1.4332, 1.1355, 1.4327], 'confidence': 0.996, 'span': {'offset': 54, 'length': 3}}, {'content': '123-4567', 'polygon': [1.4268, 1.2835, 2.0641, 1.2816, 2.0641, 1.4308, 1.4265, 1.4324], 'confidence': 0.994, 'span': {'offset': 58, 'length': 8}}, {'content': 'Invoice', 'polygon': [5.4442, 0.8844, 5.9185, 0.8836, 5.9187, 1.0226, 5.4445, 1.0229], 'confidence': 0.992, 'span': {'offset': 67, 'length': 7}}, {'content': 'No:', 'polygon': [5.9643, 0.8831, 6.1979, 0.8807, 6.1979, 1.0229, 5.9644, 1.023], 'confidence': 0.992, 'span': {'offset': 75, 'length': 3}}, {'content': '1234', 'polygon': [6.4028, 0.8855, 6.7292, 0.8834, 6.7292, 1.016, 6.403, 1.0163], 'confidence': 0.992, 'span': {'offset': 79, 'length': 4}}, {'content': 'Date:', 'polygon': [5.4514, 1.2651, 5.8105, 1.2669, 5.8103, 1.4006, 5.4508, 1.4004], 'confidence': 0.996, 'span': {'offset': 84, 'length': 5}}, {'content': '03/07/2025', 'polygon': [6.3932, 1.253, 7.1719, 1.2514, 7.1719, 1.4117, 6.3931, 1.4117], 'confidence': 0.993, 'span': {'offset': 90, 'length': 10}}, {'content': 'Customer', 'polygon': [1.3568, 2.0365, 1.9914, 2.0363, 1.9907, 2.18, 1.3565, 2.1796], 'confidence': 0.995, 'span': {'offset': 101, 'length': 8}}, {'content': 'Name:', 'polygon': [2.0362, 2.0367, 2.4681, 2.035, 2.4681, 2.1805, 2.0355, 2.1798], 'confidence': 0.995, 'span': {'offset': 110, 'length': 5}}, {'content': 'John', 'polygon': [2.7345, 2.031, 3.037, 2.0316, 3.0366, 2.1749, 2.7343, 2.175], 'confidence': 0.992, 'span': {'offset': 116, 'length': 4}}, {'content': 'Smith', 'polygon': [3.0823, 2.0316, 3.4586, 2.0297, 3.4584, 2.1756, 3.0819, 2.1752], 'confidence': 0.995, 'span': {'offset': 121, 'length': 5}}, {'content': '123', 'polygon': [2.7453, 2.2236, 2.9783, 2.2243, 2.9783, 2.3665, 2.7453, 2.3668], 'confidence': 0.998, 'span': {'offset': 127, 'length': 3}}, {'content': 'River', 'polygon': [3.0301, 2.2242, 3.3479, 2.2244, 3.3479, 2.3676, 3.0301, 2.3668], 'confidence': 0.995, 'span': {'offset': 131, 'length': 5}}, {'content': 'Street', 'polygon': [3.3832, 2.2248, 3.7796, 2.2226, 3.7796, 2.3692, 3.3831, 2.3677], 'confidence': 0.998, 'span': {'offset': 137, 'length': 6}}, {'content': 'Address:', 'polygon': [1.3538, 2.2254, 1.9368, 2.2262, 1.9368, 2.3693, 1.3531, 2.3655], 'confidence': 0.995, 'span': {'offset': 144, 'length': 8}}, {'content': 'Marshtown', 'polygon': [2.7418, 2.4161, 3.4863, 2.4195, 3.4863, 2.5571, 2.7418, 2.5549], 'confidence': 0.995, 'span': {'offset': 153, 'length': 9}}, {'content': 'England', 'polygon': [2.7423, 2.6045, 3.265, 2.6029, 3.265, 2.7549, 2.7421, 2.7561], 'confidence': 0.997, 'span': {'offset': 163, 'length': 7}}, {'content': 'GL1', 'polygon': [2.7417, 2.793, 2.9844, 2.7929, 2.9841, 2.9341, 2.7413, 2.9337], 'confidence': 0.998, 'span': {'offset': 171, 'length': 3}}, {'content': '234', 'polygon': [3.0329, 2.7932, 3.276, 2.7927, 3.276, 2.9341, 3.0325, 2.9341], 'confidence': 0.995, 'span': {'offset': 175, 'length': 3}}, {'content': 'Item', 'polygon': [1.3544, 3.5138, 1.6989, 3.5164, 1.6989, 3.6522, 1.354, 3.649], 'confidence': 0.975, 'span': {'offset': 179, 'length': 4}}, {'content': 'Price', 'polygon': [3.5597, 3.509, 3.9401, 3.5121, 3.9401, 3.6531, 3.5589, 3.649], 'confidence': 0.997, 'span': {'offset': 184, 'length': 5}}, {'content': 'Quantity', 'polygon': [4.802, 3.5071, 5.4342, 3.5116, 5.4342, 3.6759, 4.8013, 3.6719], 'confidence': 0.995, 'span': {'offset': 190, 'length': 8}}, {'content': 'Item', 'polygon': [6.0391, 3.5072, 6.3643, 3.5089, 6.3643, 3.6537, 6.0392, 3.6537], 'confidence': 0.977, 'span': {'offset': 199, 'length': 4}}, {'content': 'Total', 'polygon': [6.4052, 3.5091, 6.7679, 3.5075, 6.7679, 3.6537, 6.4053, 3.6537], 'confidence': 0.993, 'span': {'offset': 204, 'length': 5}}, {'content': '38mm', 'polygon': [1.354, 3.7889, 1.7914, 3.7912, 1.7907, 3.9504, 1.3539, 3.9463], 'confidence': 0.989, 'span': {'offset': 210, 'length': 4}}, {'content': 'Widget', 'polygon': [1.8305, 3.7913, 2.3242, 3.792, 2.3242, 3.9527, 1.8298, 3.9498], 'confidence': 0.998, 'span': {'offset': 215, 'length': 6}}, {'content': '24.50', 'polygon': [3.5587, 3.7942, 3.9499, 3.7953, 3.9491, 3.935, 3.5581, 3.9328], 'confidence': 0.997, 'span': {'offset': 222, 'length': 5}}, {'content': '2', 'polygon': [4.8024, 3.7998, 4.8919, 3.8026, 4.8919, 3.9299, 4.8013, 3.9277], 'confidence': 0.992, 'span': {'offset': 228, 'length': 1}}, {'content': '49.00', 'polygon': [6.0411, 3.7953, 6.4303, 3.7951, 6.4303, 3.9335, 6.0406, 3.9327], 'confidence': 0.998, 'span': {'offset': 230, 'length': 5}}, {'content': '3.5mm', 'polygon': [1.3544, 4.0756, 1.8342, 4.0787, 1.8337, 4.2327, 1.3541, 4.2307], 'confidence': 0.998, 'span': {'offset': 236, 'length': 5}}, {'content': 'screws', 'polygon': [1.8796, 4.0788, 2.3569, 4.0809, 2.3561, 4.2345, 1.8791, 4.2332], 'confidence': 0.995, 'span': {'offset': 242, 'length': 6}}, {'content': 'pack', 'polygon': [2.4023, 4.0812, 2.7393, 4.0816, 2.7393, 4.235, 2.4015, 4.2345], 'confidence': 0.992, 'span': {'offset': 249, 'length': 4}}, {'content': '4.99', 'polygon': [3.5607, 4.0808, 3.8626, 4.0822, 3.8626, 4.2159, 3.56, 4.2143], 'confidence': 0.992, 'span': {'offset': 254, 'length': 4}}, {'content': '1', 'polygon': [4.8107, 4.0846, 4.8809, 4.0856, 4.8809, 4.2098, 4.8101, 4.2086], 'confidence': 0.996, 'span': {'offset': 259, 'length': 1}}, {'content': '4.99', 'polygon': [6.0408, 4.0795, 6.3473, 4.0808, 6.3473, 4.2152, 6.0403, 4.2145], 'confidence': 0.992, 'span': {'offset': 261, 'length': 4}}, {'content': 'Left-handed', 'polygon': [1.3541, 4.3629, 2.1879, 4.3633, 2.1876, 4.5143, 1.354, 4.5144], 'confidence': 0.995, 'span': {'offset': 266, 'length': 11}}, {'content': 'screwdriver', 'polygon': [2.2351, 4.3634, 3.0381, 4.364, 3.0381, 4.5154, 2.2345, 4.5145], 'confidence': 0.995, 'span': {'offset': 278, 'length': 11}}, {'content': '7.49', 'polygon': [3.5587, 4.3613, 3.8682, 4.3639, 3.8682, 4.5044, 3.5579, 4.5018], 'confidence': 0.992, 'span': {'offset': 290, 'length': 4}}, {'content': '1', 'polygon': [4.8098, 4.3702, 4.8809, 4.3707, 4.8809, 4.4939, 4.8093, 4.4937], 'confidence': 0.996, 'span': {'offset': 295, 'length': 1}}, {'content': '7.49', 'polygon': [6.0396, 4.3621, 6.3469, 4.3642, 6.346, 4.5031, 6.0389, 4.5018], 'confidence': 0.992, 'span': {'offset': 297, 'length': 4}}, {'content': 'Subtotal', 'polygon': [4.7982, 4.6467, 5.4325, 4.6494, 5.4323, 4.794, 4.7982, 4.7919], 'confidence': 0.998, 'span': {'offset': 302, 'length': 8}}, {'content': '61.48', 'polygon': [6.0423, 4.6497, 6.4303, 4.6494, 6.4303, 4.7881, 6.0424, 4.7876], 'confidence': 0.998, 'span': {'offset': 311, 'length': 5}}, {'content': 'Tax', 'polygon': [4.7975, 4.9381, 5.0524, 4.9406, 5.0524, 5.0765, 4.7968, 5.0749], 'confidence': 0.998, 'span': {'offset': 317, 'length': 3}}, {'content': '6.14', 'polygon': [6.0441, 4.936, 6.3473, 4.9366, 6.3473, 5.0742, 6.0437, 5.0746], 'confidence': 0.992, 'span': {'offset': 321, 'length': 4}}, {'content': 'Shipping', 'polygon': [4.7986, 5.2143, 5.4508, 5.2209, 5.4508, 5.3865, 4.7979, 5.3806], 'confidence': 0.996, 'span': {'offset': 326, 'length': 8}}, {'content': '15.00', 'polygon': [6.0493, 5.2173, 6.4303, 5.2191, 6.4303, 5.3588, 6.0493, 5.3569], 'confidence': 0.996, 'span': {'offset': 335, 'length': 5}}, {'content': 'Total', 'polygon': [4.7958, 5.5018, 5.1526, 5.5056, 5.1523, 5.6497, 4.7957, 5.6478], 'confidence': 0.996, 'span': {'offset': 341, 'length': 5}}, {'content': 'Due', 'polygon': [5.193, 5.5064, 5.484, 5.5062, 5.484, 5.6521, 5.1926, 5.6504], 'confidence': 0.999, 'span': {'offset': 347, 'length': 3}}, {'content': '82.62', 'polygon': [6.0404, 5.5073, 6.4303, 5.5075, 6.4303, 5.6437, 6.0402, 5.6426], 'confidence': 0.997, 'span': {'offset': 351, 'length': 5}}], 'lines': [{'content': 'Contoso Ltd', 'polygon': [0.8654, 0.8163, 2.327, 0.8152, 2.3272, 1.0353, 0.8656, 1.0364], 'spans': [{'offset': 0, 'length': 11}]}, {'content': '2 Main St, Bigtown, England, EH1 234', 'polygon': [0.8569, 1.0917, 3.4, 1.0851, 3.4004, 1.2554, 0.8574, 1.2622], 'spans': [{'offset': 12, 'length': 36}]}, {'content': 'Tel: 555 123-4567', 'polygon': [0.8544, 1.2824, 2.0606, 1.2817, 2.0607, 1.4305, 0.8545, 1.4312], 'spans': [{'offset': 49, 'length': 17}]}, {'content': 'Invoice No:', 'polygon': [5.4441, 0.883, 6.1944, 0.8809, 6.1948, 1.0217, 5.4445, 1.0238], 'spans': [{'offset': 67, 'length': 11}]}, {'content': '1234', 'polygon': [6.4027, 0.8851, 6.7277, 0.8829, 6.7285, 1.0141, 6.403, 1.0162], 'spans': [{'offset': 79, 'length': 4}]}, {'content': 'Date:', 'polygon': [5.4514, 1.2648, 5.8074, 1.2665, 5.8068, 1.3997, 5.4508, 1.3981], 'spans': [{'offset': 84, 'length': 5}]}, {'content': '03/07/2025', 'polygon': [6.3927, 1.253, 7.1698, 1.2515, 7.1702, 1.4103, 6.3931, 1.4117], 'spans': [{'offset': 90, 'length': 10}]}, {'content': 'Customer Name:', 'polygon': [1.3567, 2.0333, 2.4656, 2.035, 2.4654, 2.1789, 1.3565, 2.1772], 'spans': [{'offset': 101, 'length': 14}]}, {'content': 'John Smith', 'polygon': [2.7343, 2.0299, 3.4541, 2.0297, 3.4541, 2.175, 2.7343, 2.1752], 'spans': [{'offset': 116, 'length': 10}]}, {'content': '123 River Street', 'polygon': [2.7452, 2.2236, 3.7771, 2.2226, 3.7773, 2.3668, 2.7453, 2.3677], 'spans': [{'offset': 127, 'length': 16}]}, {'content': 'Address:', 'polygon': [1.3538, 2.2234, 1.9332, 2.2263, 1.9325, 2.3674, 1.3531, 2.3646], 'spans': [{'offset': 144, 'length': 8}]}, {'content': 'Marshtown', 'polygon': [2.7418, 2.4155, 3.485, 2.4186, 3.4844, 2.5567, 2.7413, 2.5536], 'spans': [{'offset': 153, 'length': 9}]}, {'content': 'England', 'polygon': [2.7419, 2.6033, 3.2605, 2.6026, 3.2607, 2.7529, 2.7421, 2.7536], 'spans': [{'offset': 163, 'length': 7}]}, {'content': 'GL1 234', 'polygon': [2.7412, 2.793, 3.2735, 2.7927, 3.2735, 2.9326, 2.7413, 2.9329], 'spans': [{'offset': 171, 'length': 7}]}, {'content': 'Item', 'polygon': [1.3544, 3.5138, 1.6947, 3.5164, 1.6937, 3.6503, 1.3534, 3.6478], 'spans': [{'offset': 179, 'length': 4}]}, {'content': 'Price', 'polygon': [3.5597, 3.5085, 3.9395, 3.5117, 3.9383, 3.6514, 3.5585, 3.6482], 'spans': [{'offset': 184, 'length': 5}]}, {'content': 'Quantity', 'polygon': [4.802, 3.5056, 5.4339, 3.5114, 5.4324, 3.6756, 4.8005, 3.6698], 'spans': [{'offset': 190, 'length': 8}]}, {'content': 'Item Total', 'polygon': [6.0391, 3.5072, 6.7659, 3.5075, 6.7658, 3.6536, 6.0391, 3.6533], 'spans': [{'offset': 199, 'length': 10}]}, {'content': '38mm Widget', 'polygon': [1.354, 3.7889, 2.3228, 3.792, 2.3223, 3.9509, 1.3535, 3.9478], 'spans': [{'offset': 210, 'length': 11}]}, {'content': '24.50', 'polygon': [3.5586, 3.7939, 3.9466, 3.7953, 3.9461, 3.9326, 3.5581, 3.9312], 'spans': [{'offset': 222, 'length': 5}]}, {'content': '2', 'polygon': [4.8024, 3.7998, 4.8916, 3.8006, 4.8905, 3.9277, 4.8013, 3.9269], 'spans': [{'offset': 228, 'length': 1}]}, {'content': '49.00', 'polygon': [6.0406, 3.7952, 6.4277, 3.7952, 6.4277, 3.9314, 6.0406, 3.9314], 'spans': [{'offset': 230, 'length': 5}]}, {'content': '3.5mm screws pack', 'polygon': [1.3544, 4.0756, 2.736, 4.0808, 2.7354, 4.2342, 1.3538, 4.229], 'spans': [{'offset': 236, 'length': 17}]}, {'content': '4.99', 'polygon': [3.5606, 4.0808, 3.8611, 4.0821, 3.8605, 4.2141, 3.56, 4.2128], 'spans': [{'offset': 254, 'length': 4}]}, {'content': '1', 'polygon': [4.8107, 4.0846, 4.8797, 4.085, 4.879, 4.209, 4.8101, 4.2087], 'spans': [{'offset': 259, 'length': 1}]}, {'content': '4.99', 'polygon': [6.0408, 4.0795, 6.3429, 4.0808, 6.3423, 4.214, 6.0402, 4.2126], 'spans': [{'offset': 261, 'length': 4}]}, {'content': 'Left-handed screwdriver', 'polygon': [1.3541, 4.3617, 3.0339, 4.3631, 3.0337, 4.5133, 1.354, 4.5119], 'spans': [{'offset': 266, 'length': 23}]}, {'content': '7.49', 'polygon': [3.5587, 4.361, 3.8638, 4.3635, 3.8627, 4.5019, 3.5576, 4.4995], 'spans': [{'offset': 290, 'length': 4}]}, {'content': '1', 'polygon': [4.8098, 4.3702, 4.8779, 4.3705, 4.8774, 4.4934, 4.8093, 4.4931], 'spans': [{'offset': 295, 'length': 1}]}, {'content': '7.49', 'polygon': [6.0396, 4.3621, 6.3443, 4.3637, 6.3436, 4.5011, 6.0389, 4.4995], 'spans': [{'offset': 297, 'length': 4}]}, {'content': 'Subtotal', 'polygon': [4.7982, 4.6467, 5.4299, 4.6491, 5.4294, 4.7924, 4.7979, 4.79], 'spans': [{'offset': 302, 'length': 8}]}, {'content': '61.48', 'polygon': [6.0423, 4.6497, 6.4273, 4.6494, 6.4274, 4.7864, 6.0423, 4.7867], 'spans': [{'offset': 311, 'length': 5}]}, {'content': 'Tax', 'polygon': [4.7975, 4.9374, 5.049, 4.9399, 5.0477, 5.0751, 4.7962, 5.0726], 'spans': [{'offset': 317, 'length': 3}]}, {'content': '6.14', 'polygon': [6.0441, 4.9354, 6.347, 4.9363, 6.3466, 5.0731, 6.0437, 5.0723], 'spans': [{'offset': 321, 'length': 4}]}, {'content': 'Shipping', 'polygon': [4.7986, 5.2137, 5.4471, 5.2209, 5.4453, 5.3865, 4.7979, 5.3797], 'spans': [{'offset': 326, 'length': 8}]}, {'content': '15.00', 'polygon': [6.0493, 5.2173, 6.4281, 5.2191, 6.4274, 5.3577, 6.0487, 5.3559], 'spans': [{'offset': 335, 'length': 5}]}, {'content': 'Total Due', 'polygon': [4.7958, 5.5017, 5.4813, 5.5063, 5.4804, 5.6507, 4.7948, 5.6461], 'spans': [{'offset': 341, 'length': 9}]}, {'content': '82.62', 'polygon': [6.0403, 5.5073, 6.4286, 5.5076, 6.4286, 5.6419, 6.0402, 5.6416], 'spans': [{'offset': 351, 'length': 5}]}], 'spans': [{'offset': 0, 'length': 356}]}], 'tables': [{'rowCount': 2, 'columnCount': 2, 'cells': [{'rowIndex': 0, 'columnIndex': 0, 'content': 'Invoice No:', 'boundingRegions': [{'pageNumber': 1, 'polygon': [5.39, 0.8249, 6.2865, 0.8249, 6.2865, 1.1349, 5.39, 1.1349]}], 'spans': [{'offset': 67, 'length': 11}], 'elements': ['/paragraphs/1']}, {'rowIndex': 0, 'columnIndex': 1, 'content': '1234', 'boundingRegions': [{'pageNumber': 1, 'polygon': [6.2865, 0.8249, 7.2051, 0.8249, 7.2051, 1.1349, 6.2865, 1.1349]}], 'spans': [{'offset': 79, 'length': 4}], 'elements': ['/paragraphs/2']}, {'rowIndex': 1, 'columnIndex': 0, 'content': 'Date:', 'boundingRegions': [{'pageNumber': 1, 'polygon': [5.39, 1.1349, 6.2865, 1.1349, 6.2809, 1.456, 5.3844, 1.4504]}], 'spans': [{'offset': 84, 'length': 5}], 'elements': ['/paragraphs/3']}, {'rowIndex': 1, 'columnIndex': 1, 'content': '03/07/2025', 'boundingRegions': [{'pageNumber': 1, 'polygon': [6.2865, 1.1349, 7.2051, 1.1349, 7.2051, 1.456, 6.2809, 1.456]}], 'spans': [{'offset': 90, 'length': 10}], 'elements': ['/paragraphs/4']}], 'boundingRegions': [{'pageNumber': 1, 'polygon': [5.4031, 0.8423, 7.2028, 0.8423, 7.2019, 1.4313, 5.4018, 1.4311]}], 'spans': [{'offset': 67, 'length': 33}]}, {'rowCount': 5, 'columnCount': 2, 'cells': [{'kind': 'columnHeader', 'rowIndex': 0, 'columnIndex': 0, 'content': 'Customer Name:', 'boundingRegions': [{'pageNumber': 1, 'polygon': [1.2894, 1.9819, 2.5954, 1.9763, 2.5954, 2.1922, 1.2894, 2.1978]}], 'spans': [{'offset': 101, 'length': 14}], 'elements': ['/paragraphs/5']}, {'kind': 'columnHeader', 'rowIndex': 0, 'columnIndex': 1, 'rowSpan': 2, 'content': 'John Smith 123 River Street', 'boundingRegions': [{'pageNumber': 1, 'polygon': [2.5954, 1.9763, 3.8184, 1.9763, 3.8184, 2.3805, 2.5954, 2.386]}], 'spans': [{'offset': 116, 'length': 27}], 'elements': ['/paragraphs/6']}, {'kind': 'columnHeader', 'rowIndex': 1, 'columnIndex': 0, 'content': 'Address:', 'boundingRegions': [{'pageNumber': 1, 'polygon': [1.2894, 2.1978, 2.5954, 2.1922, 2.5954, 2.386, 1.2839, 2.3971]}], 'spans': [{'offset': 144, 'length': 8}], 'elements': ['/paragraphs/7']}, {'rowIndex': 2, 'columnIndex': 0, 'content': '', 'boundingRegions': [{'pageNumber': 1, 'polygon': [1.2839, 2.3971, 2.5954, 2.386, 2.5954, 2.5742, 1.2839, 2.5853]}], 'spans': []}, {'rowIndex': 2, 'columnIndex': 1, 'content': 'Marshtown', 'boundingRegions': [{'pageNumber': 1, 'polygon': [2.5954, 2.386, 3.8184, 2.3805, 3.8184, 2.5687, 2.5954, 2.5742]}], 'spans': [{'offset': 153, 'length': 9}], 'elements': ['/paragraphs/8']}, {'rowIndex': 3, 'columnIndex': 0, 'content': '', 'boundingRegions': [{'pageNumber': 1, 'polygon': [1.2839, 2.5853, 2.5954, 2.5742, 2.5954, 2.768, 1.2839, 2.7791]}], 'spans': []}, {'rowIndex': 3, 'columnIndex': 1, 'content': 'England', 'boundingRegions': [{'pageNumber': 1, 'polygon': [2.5954, 2.5742, 3.8184, 2.5687, 3.8184, 2.7625, 2.5954, 2.768]}], 'spans': [{'offset': 163, 'length': 7}], 'elements': ['/paragraphs/9']}, {'rowIndex': 4, 'columnIndex': 0, 'content': '', 'boundingRegions': [{'pageNumber': 1, 'polygon': [1.2839, 2.7791, 2.5954, 2.768, 2.5954, 2.9839, 1.2783, 2.9894]}], 'spans': []}, {'rowIndex': 4, 'columnIndex': 1, 'content': 'GL1 234', 'boundingRegions': [{'pageNumber': 1, 'polygon': [2.5954, 2.768, 3.8184, 2.7625, 3.8239, 2.9728, 2.5954, 2.9839]}], 'spans': [{'offset': 171, 'length': 7}], 'elements': ['/paragraphs/10']}], 'boundingRegions': [{'pageNumber': 1, 'polygon': [1.2892, 2.0049, 3.8192, 2.0036, 3.8194, 2.969, 1.2886, 2.9701]}], 'spans': [{'offset': 101, 'length': 77}]}, {'rowCount': 4, 'columnCount': 4, 'cells': [{'kind': 'columnHeader', 'rowIndex': 0, 'columnIndex': 0, 'content': 'Item', 'boundingRegions': [{'pageNumber': 1, 'polygon': [1.2579, 3.4534, 3.2766, 3.4534, 3.2766, 3.7189, 1.2516, 3.7189]}], 'spans': [{'offset': 179, 'length': 4}], 'elements': ['/paragraphs/11']}, {'kind': 'columnHeader', 'rowIndex': 0, 'columnIndex': 1, 'content': 'Price', 'boundingRegions': [{'pageNumber': 1, 'polygon': [3.2766, 3.4534, 4.3651, 3.4471, 4.3651, 3.7189, 3.2766, 3.7189]}], 'spans': [{'offset': 184, 'length': 5}], 'elements': ['/paragraphs/12']}, {'kind': 'columnHeader', 'rowIndex': 0, 'columnIndex': 2, 'content': 'Quantity', 'boundingRegions': [{'pageNumber': 1, 'polygon': [4.3651, 3.4471, 5.7257, 3.4471, 5.732, 3.7189, 4.3651, 3.7189]}], 'spans': [{'offset': 190, 'length': 8}], 'elements': ['/paragraphs/13']}, {'kind': 'columnHeader', 'rowIndex': 0, 'columnIndex': 3, 'content': 'Item Total', 'boundingRegions': [{'pageNumber': 1, 'polygon': [5.7257, 3.4471, 7.1116, 3.4471, 7.1179, 3.7189, 5.732, 3.7189]}], 'spans': [{'offset': 199, 'length': 10}], 'elements': ['/paragraphs/14']}, {'rowIndex': 1, 'columnIndex': 0, 'content': '38mm Widget', 'boundingRegions': [{'pageNumber': 1, 'polygon': [1.2516, 3.7189, 3.2766, 3.7189, 3.2766, 4.0096, 1.2516, 3.997]}], 'spans': [{'offset': 210, 'length': 11}], 'elements': ['/paragraphs/15']}, {'rowIndex': 1, 'columnIndex': 1, 'content': '24.50', 'boundingRegions': [{'pageNumber': 1, 'polygon': [3.2766, 3.7189, 4.3651, 3.7189, 4.3651, 4.0096, 3.2766, 4.0096]}], 'spans': [{'offset': 222, 'length': 5}], 'elements': ['/paragraphs/16']}, {'rowIndex': 1, 'columnIndex': 2, 'content': '2', 'boundingRegions': [{'pageNumber': 1, 'polygon': [4.3651, 3.7189, 5.732, 3.7189, 5.732, 4.0096, 4.3651, 4.0096]}], 'spans': [{'offset': 228, 'length': 1}], 'elements': ['/paragraphs/17']}, {'rowIndex': 1, 'columnIndex': 3, 'content': '49.00', 'boundingRegions': [{'pageNumber': 1, 'polygon': [5.732, 3.7189, 7.1179, 3.7189, 7.1179, 4.0096, 5.732, 4.0096]}], 'spans': [{'offset': 230, 'length': 5}], 'elements': ['/paragraphs/18']}, {'rowIndex': 2, 'columnIndex': 0, 'content': '3.5mm screws pack', 'boundingRegions': [{'pageNumber': 1, 'polygon': [1.2516, 3.997, 3.2766, 4.0096, 3.2766, 4.2877, 1.2453, 4.2877]}], 'spans': [{'offset': 236, 'length': 17}], 'elements': ['/paragraphs/19']}, {'rowIndex': 2, 'columnIndex': 1, 'content': '4.99', 'boundingRegions': [{'pageNumber': 1, 'polygon': [3.2766, 4.0096, 4.3651, 4.0096, 4.3651, 4.2877, 3.2766, 4.2877]}], 'spans': [{'offset': 254, 'length': 4}], 'elements': ['/paragraphs/20']}, {'rowIndex': 2, 'columnIndex': 2, 'content': '1', 'boundingRegions': [{'pageNumber': 1, 'polygon': [4.3651, 4.0096, 5.732, 4.0096, 5.732, 4.2877, 4.3651, 4.2877]}], 'spans': [{'offset': 259, 'length': 1}], 'elements': ['/paragraphs/21']}, {'rowIndex': 2, 'columnIndex': 3, 'content': '4.99', 'boundingRegions': [{'pageNumber': 1, 'polygon': [5.732, 4.0096, 7.1179, 4.0096, 7.1179, 4.2877, 5.732, 4.2877]}], 'spans': [{'offset': 261, 'length': 4}], 'elements': ['/paragraphs/22']}, {'rowIndex': 3, 'columnIndex': 0, 'content': 'Left-handed screwdriver', 'boundingRegions': [{'pageNumber': 1, 'polygon': [1.2453, 4.2877, 3.2766, 4.2877, 3.2766, 4.5658, 1.2453, 4.5658]}], 'spans': [{'offset': 266, 'length': 23}], 'elements': ['/paragraphs/23']}, {'rowIndex': 3, 'columnIndex': 1, 'content': '7.49', 'boundingRegions': [{'pageNumber': 1, 'polygon': [3.2766, 4.2877, 4.3651, 4.2877, 4.3714, 4.5658, 3.2766, 4.5658]}], 'spans': [{'offset': 290, 'length': 4}], 'elements': ['/paragraphs/24']}, {'rowIndex': 3, 'columnIndex': 2, 'content': '1', 'boundingRegions': [{'pageNumber': 1, 'polygon': [4.3651, 4.2877, 5.732, 4.2877, 5.732, 4.5658, 4.3714, 4.5658]}], 'spans': [{'offset': 295, 'length': 1}], 'elements': ['/paragraphs/25']}, {'rowIndex': 3, 'columnIndex': 3, 'content': '7.49', 'boundingRegions': [{'pageNumber': 1, 'polygon': [5.732, 4.2877, 7.1179, 4.2877, 7.1179, 4.5721, 5.732, 4.5658]}], 'spans': [{'offset': 297, 'length': 4}], 'elements': ['/paragraphs/26']}], 'boundingRegions': [{'pageNumber': 1, 'polygon': [1.2567, 3.4707, 7.3807, 3.4727, 7.3799, 4.5867, 1.2558, 4.5843]}], 'spans': [{'offset': 179, 'length': 122}]}, {'rowCount': 4, 'columnCount': 2, 'cells': [{'rowIndex': 0, 'columnIndex': 0, 'content': 'Subtotal', 'boundingRegions': [{'pageNumber': 1, 'polygon': [4.7093, 4.5727, 5.7497, 4.5727, 5.7497, 4.8606, 4.7038, 4.8606]}], 'spans': [{'offset': 302, 'length': 8}], 'elements': ['/paragraphs/27']}, {'rowIndex': 0, 'columnIndex': 1, 'content': '61.48', 'boundingRegions': [{'pageNumber': 1, 'polygon': [5.7497, 4.5727, 6.9561, 4.5727, 6.9561, 4.8551, 5.7497, 4.8606]}], 'spans': [{'offset': 311, 'length': 5}], 'elements': ['/paragraphs/28']}, {'rowIndex': 1, 'columnIndex': 0, 'content': 'Tax', 'boundingRegions': [{'pageNumber': 1, 'polygon': [4.7038, 4.8606, 5.7497, 4.8606, 5.7497, 5.1374, 4.7038, 5.1429]}], 'spans': [{'offset': 317, 'length': 3}], 'elements': ['/paragraphs/29']}, {'rowIndex': 1, 'columnIndex': 1, 'content': '6.14', 'boundingRegions': [{'pageNumber': 1, 'polygon': [5.7497, 4.8606, 6.9561, 4.8551, 6.9616, 5.1374, 5.7497, 5.1374]}], 'spans': [{'offset': 321, 'length': 4}], 'elements': ['/paragraphs/30']}, {'rowIndex': 2, 'columnIndex': 0, 'content': 'Shipping', 'boundingRegions': [{'pageNumber': 1, 'polygon': [4.7038, 5.1429, 5.7497, 5.1374, 5.7497, 5.4253, 4.6982, 5.4253]}], 'spans': [{'offset': 326, 'length': 8}], 'elements': ['/paragraphs/31']}, {'rowIndex': 2, 'columnIndex': 1, 'content': '15.00', 'boundingRegions': [{'pageNumber': 1, 'polygon': [5.7497, 5.1374, 6.9616, 5.1374, 6.9616, 5.4253, 5.7497, 5.4253]}], 'spans': [{'offset': 335, 'length': 5}], 'elements': ['/paragraphs/32']}, {'rowIndex': 3, 'columnIndex': 0, 'content': 'Total Due', 'boundingRegions': [{'pageNumber': 1, 'polygon': [4.6982, 5.4253, 5.7497, 5.4253, 5.7441, 5.7131, 4.6982, 5.7076]}], 'spans': [{'offset': 341, 'length': 9}], 'elements': ['/paragraphs/33']}, {'rowIndex': 3, 'columnIndex': 1, 'content': '82.62', 'boundingRegions': [{'pageNumber': 1, 'polygon': [5.7497, 5.4253, 6.9616, 5.4253, 6.9671, 5.7131, 5.7441, 5.7131]}], 'spans': [{'offset': 351, 'length': 5}], 'elements': ['/paragraphs/34']}], 'boundingRegions': [{'pageNumber': 1, 'polygon': [4.7009, 4.5945, 7.3798, 4.594, 7.3802, 5.7273, 4.7009, 5.7272]}], 'spans': [{'offset': 302, 'length': 54}]}], 'paragraphs': [{'spans': [{'offset': 0, 'length': 66}], 'boundingRegions': [{'pageNumber': 1, 'polygon': [0.854, 0.8163, 3.4001, 0.8143, 3.4006, 1.4295, 0.8545, 1.4314]}], 'content': 'Contoso Ltd 2 Main St, Bigtown, England, EH1 234 Tel: 555 123-4567'}, {'spans': [{'offset': 67, 'length': 11}], 'boundingRegions': [{'pageNumber': 1, 'polygon': [5.39, 0.8249, 6.2865, 0.8249, 6.2865, 1.1349, 5.39, 1.1349]}], 'content': 'Invoice No:'}, {'spans': [{'offset': 79, 'length': 4}], 'boundingRegions': [{'pageNumber': 1, 'polygon': [6.2865, 0.8249, 7.2051, 0.8249, 7.2051, 1.1349, 6.2865, 1.1349]}], 'content': '1234'}, {'spans': [{'offset': 84, 'length': 5}], 'boundingRegions': [{'pageNumber': 1, 'polygon': [5.39, 1.1349, 6.2865, 1.1349, 6.2809, 1.456, 5.3844, 1.4504]}], 'content': 'Date:'}, {'spans': [{'offset': 90, 'length': 10}], 'boundingRegions': [{'pageNumber': 1, 'polygon': [6.2865, 1.1349, 7.2051, 1.1349, 7.2051, 1.456, 6.2809, 1.456]}], 'content': '03/07/2025'}, {'spans': [{'offset': 101, 'length': 14}], 'boundingRegions': [{'pageNumber': 1, 'polygon': [1.2894, 1.9819, 2.5954, 1.9763, 2.5954, 2.1922, 1.2894, 2.1978]}], 'content': 'Customer Name:'}, {'spans': [{'offset': 116, 'length': 27}], 'boundingRegions': [{'pageNumber': 1, 'polygon': [2.5954, 1.9763, 3.8184, 1.9763, 3.8184, 2.3805, 2.5954, 2.386]}], 'content': 'John Smith 123 River Street'}, {'spans': [{'offset': 144, 'length': 8}], 'boundingRegions': [{'pageNumber': 1, 'polygon': [1.2894, 2.1978, 2.5954, 2.1922, 2.5954, 2.386, 1.2839, 2.3971]}], 'content': 'Address:'}, {'spans': [{'offset': 153, 'length': 9}], 'boundingRegions': [{'pageNumber': 1, 'polygon': [2.5954, 2.386, 3.8184, 2.3805, 3.8184, 2.5687, 2.5954, 2.5742]}], 'content': 'Marshtown'}, {'spans': [{'offset': 163, 'length': 7}], 'boundingRegions': [{'pageNumber': 1, 'polygon': [2.5954, 2.5742, 3.8184, 2.5687, 3.8184, 2.7625, 2.5954, 2.768]}], 'content': 'England'}, {'spans': [{'offset': 171, 'length': 7}], 'boundingRegions': [{'pageNumber': 1, 'polygon': [2.5954, 2.768, 3.8184, 2.7625, 3.8239, 2.9728, 2.5954, 2.9839]}], 'content': 'GL1 234'}, {'spans': [{'offset': 179, 'length': 4}], 'boundingRegions': [{'pageNumber': 1, 'polygon': [1.2579, 3.4534, 3.2766, 3.4534, 3.2766, 3.7189, 1.2516, 3.7189]}], 'content': 'Item'}, {'spans': [{'offset': 184, 'length': 5}], 'boundingRegions': [{'pageNumber': 1, 'polygon': [3.2766, 3.4534, 4.3651, 3.4471, 4.3651, 3.7189, 3.2766, 3.7189]}], 'content': 'Price'}, {'spans': [{'offset': 190, 'length': 8}], 'boundingRegions': [{'pageNumber': 1, 'polygon': [4.3651, 3.4471, 5.7257, 3.4471, 5.732, 3.7189, 4.3651, 3.7189]}], 'content': 'Quantity'}, {'spans': [{'offset': 199, 'length': 10}], 'boundingRegions': [{'pageNumber': 1, 'polygon': [5.7257, 3.4471, 7.1116, 3.4471, 7.1179, 3.7189, 5.732, 3.7189]}], 'content': 'Item Total'}, {'spans': [{'offset': 210, 'length': 11}], 'boundingRegions': [{'pageNumber': 1, 'polygon': [1.2516, 3.7189, 3.2766, 3.7189, 3.2766, 4.0096, 1.2516, 3.997]}], 'content': '38mm Widget'}, {'spans': [{'offset': 222, 'length': 5}], 'boundingRegions': [{'pageNumber': 1, 'polygon': [3.2766, 3.7189, 4.3651, 3.7189, 4.3651, 4.0096, 3.2766, 4.0096]}], 'content': '24.50'}, {'spans': [{'offset': 228, 'length': 1}], 'boundingRegions': [{'pageNumber': 1, 'polygon': [4.3651, 3.7189, 5.732, 3.7189, 5.732, 4.0096, 4.3651, 4.0096]}], 'content': '2'}, {'spans': [{'offset': 230, 'length': 5}], 'boundingRegions': [{'pageNumber': 1, 'polygon': [5.732, 3.7189, 7.1179, 3.7189, 7.1179, 4.0096, 5.732, 4.0096]}], 'content': '49.00'}, {'spans': [{'offset': 236, 'length': 17}], 'boundingRegions': [{'pageNumber': 1, 'polygon': [1.2516, 3.997, 3.2766, 4.0096, 3.2766, 4.2877, 1.2453, 4.2877]}], 'content': '3.5mm screws pack'}, {'spans': [{'offset': 254, 'length': 4}], 'boundingRegions': [{'pageNumber': 1, 'polygon': [3.2766, 4.0096, 4.3651, 4.0096, 4.3651, 4.2877, 3.2766, 4.2877]}], 'content': '4.99'}, {'spans': [{'offset': 259, 'length': 1}], 'boundingRegions': [{'pageNumber': 1, 'polygon': [4.3651, 4.0096, 5.732, 4.0096, 5.732, 4.2877, 4.3651, 4.2877]}], 'content': '1'}, {'spans': [{'offset': 261, 'length': 4}], 'boundingRegions': [{'pageNumber': 1, 'polygon': [5.732, 4.0096, 7.1179, 4.0096, 7.1179, 4.2877, 5.732, 4.2877]}], 'content': '4.99'}, {'spans': [{'offset': 266, 'length': 23}], 'boundingRegions': [{'pageNumber': 1, 'polygon': [1.2453, 4.2877, 3.2766, 4.2877, 3.2766, 4.5658, 1.2453, 4.5658]}], 'content': 'Left-handed screwdriver'}, {'spans': [{'offset': 290, 'length': 4}], 'boundingRegions': [{'pageNumber': 1, 'polygon': [3.2766, 4.2877, 4.3651, 4.2877, 4.3714, 4.5658, 3.2766, 4.5658]}], 'content': '7.49'}, {'spans': [{'offset': 295, 'length': 1}], 'boundingRegions': [{'pageNumber': 1, 'polygon': [4.3651, 4.2877, 5.732, 4.2877, 5.732, 4.5658, 4.3714, 4.5658]}], 'content': '1'}, {'spans': [{'offset': 297, 'length': 4}], 'boundingRegions': [{'pageNumber': 1, 'polygon': [5.732, 4.2877, 7.1179, 4.2877, 7.1179, 4.5721, 5.732, 4.5658]}], 'content': '7.49'}, {'spans': [{'offset': 302, 'length': 8}], 'boundingRegions': [{'pageNumber': 1, 'polygon': [4.7093, 4.5727, 5.7497, 4.5727, 5.7497, 4.8606, 4.7038, 4.8606]}], 'content': 'Subtotal'}, {'spans': [{'offset': 311, 'length': 5}], 'boundingRegions': [{'pageNumber': 1, 'polygon': [5.7497, 4.5727, 6.9561, 4.5727, 6.9561, 4.8551, 5.7497, 4.8606]}], 'content': '61.48'}, {'spans': [{'offset': 317, 'length': 3}], 'boundingRegions': [{'pageNumber': 1, 'polygon': [4.7038, 4.8606, 5.7497, 4.8606, 5.7497, 5.1374, 4.7038, 5.1429]}], 'content': 'Tax'}, {'spans': [{'offset': 321, 'length': 4}], 'boundingRegions': [{'pageNumber': 1, 'polygon': [5.7497, 4.8606, 6.9561, 4.8551, 6.9616, 5.1374, 5.7497, 5.1374]}], 'content': '6.14'}, {'spans': [{'offset': 326, 'length': 8}], 'boundingRegions': [{'pageNumber': 1, 'polygon': [4.7038, 5.1429, 5.7497, 5.1374, 5.7497, 5.4253, 4.6982, 5.4253]}], 'content': 'Shipping'}, {'spans': [{'offset': 335, 'length': 5}], 'boundingRegions': [{'pageNumber': 1, 'polygon': [5.7497, 5.1374, 6.9616, 5.1374, 6.9616, 5.4253, 5.7497, 5.4253]}], 'content': '15.00'}, {'spans': [{'offset': 341, 'length': 9}], 'boundingRegions': [{'pageNumber': 1, 'polygon': [4.6982, 5.4253, 5.7497, 5.4253, 5.7441, 5.7131, 4.6982, 5.7076]}], 'content': 'Total Due'}, {'spans': [{'offset': 351, 'length': 5}], 'boundingRegions': [{'pageNumber': 1, 'polygon': [5.7497, 5.4253, 6.9616, 5.4253, 6.9671, 5.7131, 5.7441, 5.7131]}], 'content': '82.62'}], 'keyValuePairs': [{'key': {'content': 'Invoice No:', 'boundingRegions': [{'pageNumber': 1, 'polygon': [5.4441, 0.8816, 6.1979, 0.8807, 6.1981, 1.0229, 5.4443, 1.0237]}], 'spans': [{'offset': 67, 'length': 11}]}, 'value': {'content': '1234', 'boundingRegions': [{'pageNumber': 1, 'polygon': [6.4025, 0.8846, 6.7292, 0.8834, 6.7297, 1.016, 6.403, 1.0172]}], 'spans': [{'offset': 79, 'length': 4}]}, 'confidence': 0.996}, {'key': {'content': 'Tel:', 'boundingRegions': [{'pageNumber': 1, 'polygon': [0.8544, 1.2824, 1.0893, 1.2827, 1.0891, 1.4331, 0.8542, 1.4328]}], 'spans': [{'offset': 49, 'length': 4}]}, 'value': {'content': '555 123-4567', 'boundingRegions': [{'pageNumber': 1, 'polygon': [1.1356, 1.2807, 2.0643, 1.2816, 2.0641, 1.4339, 1.1355, 1.4329]}], 'spans': [{'offset': 54, 'length': 12}]}, 'confidence': 0.997}, {'key': {'content': 'Date:', 'boundingRegions': [{'pageNumber': 1, 'polygon': [5.4512, 1.2651, 5.8107, 1.2662, 5.8103, 1.4014, 5.4508, 1.4004]}], 'spans': [{'offset': 84, 'length': 5}]}, 'value': {'content': '03/07/2025', 'boundingRegions': [{'pageNumber': 1, 'polygon': [6.3929, 1.2522, 7.1719, 1.2514, 7.172, 1.4117, 6.3931, 1.4125]}], 'spans': [{'offset': 90, 'length': 10}]}, 'confidence': 0.997}, {'key': {'content': 'Customer Name:', 'boundingRegions': [{'pageNumber': 1, 'polygon': [1.3565, 2.0348, 2.4681, 2.035, 2.4681, 2.1805, 1.3565, 2.1803]}], 'spans': [{'offset': 101, 'length': 14}]}, 'value': {'content': 'John Smith', 'boundingRegions': [{'pageNumber': 1, 'polygon': [2.7344, 2.0292, 3.4586, 2.0297, 3.4586, 2.1756, 2.7343, 2.1752]}], 'spans': [{'offset': 116, 'length': 10}]}, 'confidence': 0.997}, {'key': {'content': 'Address:', 'boundingRegions': [{'pageNumber': 1, 'polygon': [1.3536, 2.2239, 1.9374, 2.2262, 1.9368, 2.3693, 1.3531, 2.367]}], 'spans': [{'offset': 144, 'length': 8}]}, 'value': {'content': '123 River Street\\nMarshtown\\nEngland\\nGL1 234', 'boundingRegions': [{'pageNumber': 1, 'polygon': [2.7418, 2.2219, 3.7797, 2.2226, 3.7792, 2.9346, 2.7413, 2.9339]}], 'spans': [{'offset': 127, 'length': 16}, {'offset': 153, 'length': 25}]}, 'confidence': 0.998}, {'key': {'content': 'Item', 'boundingRegions': [{'pageNumber': 1, 'polygon': [1.3544, 3.5135, 1.7, 3.5164, 1.6989, 3.6522, 1.3533, 3.6493]}], 'spans': [{'offset': 179, 'length': 4}]}, 'value': {'content': '38mm Widget\\n3.5mm screws pack\\nLeft-handed screwdriver', 'boundingRegions': [{'pageNumber': 1, 'polygon': [1.354, 3.7886, 3.0406, 3.7945, 3.0381, 4.5203, 1.3515, 4.5144]}], 'spans': [{'offset': 210, 'length': 11}, {'offset': 236, 'length': 17}, {'offset': 266, 'length': 23}]}, 'confidence': 0.996}, {'key': {'content': 'Price', 'boundingRegions': [{'pageNumber': 1, 'polygon': [3.5597, 3.5085, 3.9414, 3.5121, 3.9401, 3.6531, 3.5583, 3.6495]}], 'spans': [{'offset': 184, 'length': 5}]}, 'value': {'content': '24.50\\n4.99\\n7.49', 'boundingRegions': [{'pageNumber': 1, 'polygon': [3.5587, 3.7933, 3.9499, 3.7953, 3.9463, 4.5048, 3.5552, 4.5028]}], 'spans': [{'offset': 222, 'length': 5}, {'offset': 254, 'length': 4}, {'offset': 290, 'length': 4}]}, 'confidence': 0.997}, {'key': {'content': 'Quantity', 'boundingRegions': [{'pageNumber': 1, 'polygon': [4.802, 3.5071, 5.4353, 3.5113, 5.4342, 3.6762, 4.8009, 3.6719]}], 'spans': [{'offset': 190, 'length': 8}]}, 'value': {'content': '2\\n1\\n1', 'boundingRegions': [{'pageNumber': 1, 'polygon': [4.8024, 3.7998, 4.8939, 3.8012, 4.8831, 4.4948, 4.7916, 4.4934]}], 'spans': [{'offset': 228, 'length': 1}, {'offset': 259, 'length': 1}, {'offset': 295, 'length': 1}]}, 'confidence': 0.997}, {'key': {'content': 'Item Total', 'boundingRegions': [{'pageNumber': 1, 'polygon': [6.0391, 3.5056, 6.7683, 3.5075, 6.7679, 3.6556, 6.0388, 3.6537]}], 'spans': [{'offset': 199, 'length': 10}]}, 'value': {'content': '49.00\\n4.99\\n7.49', 'boundingRegions': [{'pageNumber': 1, 'polygon': [6.0411, 3.7938, 6.4308, 3.7951, 6.4284, 4.5034, 6.0387, 4.5021]}], 'spans': [{'offset': 230, 'length': 5}, {'offset': 261, 'length': 4}, {'offset': 297, 'length': 4}]}, 'confidence': 0.995}, {'key': {'content': 'Subtotal', 'boundingRegions': [{'pageNumber': 1, 'polygon': [4.7982, 4.6467, 5.4328, 4.6491, 5.4323, 4.7943, 4.7977, 4.7919]}], 'spans': [{'offset': 302, 'length': 8}]}, 'value': {'content': '61.48', 'boundingRegions': [{'pageNumber': 1, 'polygon': [6.0423, 4.6492, 6.4304, 4.6494, 6.4303, 4.7881, 6.0422, 4.788]}], 'spans': [{'offset': 311, 'length': 5}]}, 'confidence': 0.999}, {'key': {'content': 'Tax', 'boundingRegions': [{'pageNumber': 1, 'polygon': [4.7975, 4.9381, 5.0535, 4.9402, 5.0524, 5.0769, 4.7964, 5.0749]}], 'spans': [{'offset': 317, 'length': 3}]}, 'value': {'content': '6.14', 'boundingRegions': [{'pageNumber': 1, 'polygon': [6.0437, 4.936, 6.3474, 4.9361, 6.3473, 5.0747, 6.0437, 5.0746]}], 'spans': [{'offset': 321, 'length': 4}]}, 'confidence': 0.997}, {'key': {'content': 'Shipping', 'boundingRegions': [{'pageNumber': 1, 'polygon': [4.7986, 5.2143, 5.4524, 5.2205, 5.4508, 5.3868, 4.797, 5.3806]}], 'spans': [{'offset': 326, 'length': 8}]}, 'value': {'content': '15.00', 'boundingRegions': [{'pageNumber': 1, 'polygon': [6.0493, 5.2172, 6.431, 5.2191, 6.4303, 5.3588, 6.0486, 5.3569]}], 'spans': [{'offset': 335, 'length': 5}]}, 'confidence': 0.998}, {'key': {'content': 'Total Due', 'boundingRegions': [{'pageNumber': 1, 'polygon': [4.7958, 5.5007, 5.4852, 5.5062, 5.484, 5.6533, 4.7946, 5.6478]}], 'spans': [{'offset': 341, 'length': 9}]}, 'value': {'content': '82.62', 'boundingRegions': [{'pageNumber': 1, 'polygon': [6.0404, 5.5068, 6.4306, 5.5075, 6.4303, 5.6437, 6.0401, 5.6431]}], 'spans': [{'offset': 351, 'length': 5}]}, 'confidence': 0.998}], 'styles': [], 'contentFormat': 'text', 'sections': [{'spans': [{'offset': 0, 'length': 356}], 'elements': ['/paragraphs/0', '/tables/0', '/tables/1', '/tables/2', '/tables/3']}]}"
      ]
     },
     "execution_count": 16,
     "metadata": {},
     "output_type": "execute_result"
    }
   ],
   "source": [
    "result"
   ]
  },
  {
   "cell_type": "code",
   "execution_count": 25,
   "id": "4d646292",
   "metadata": {},
   "outputs": [
    {
     "name": "stdout",
     "output_type": "stream",
     "text": [
      "Document contains handwritten content: \n",
      "Jordan WAS here\n"
     ]
    }
   ],
   "source": [
    "if result.styles:\n",
    "    for style in result.styles:\n",
    "        if style.is_handwritten:\n",
    "            print(\"Document contains handwritten content: \")\n",
    "            print(\",\".join([result.content[span.offset : span.offset + span.length] for span in style.spans]))\n"
   ]
  },
  {
   "cell_type": "code",
   "execution_count": null,
   "id": "ec76bcc7",
   "metadata": {},
   "outputs": [],
   "source": [
    "if result.key_value_pairs:\n",
    "    for kv_pair in result.key_value_pairs:\n",
    "        if kv_pair.key:\n",
    "            print(\n",
    "                f\"Key '{kv_pair.key.content}' found within \"\n",
    "                f\"'{_format_bounding_region(kv_pair.key.bounding_regions)}' bounding regions\"\n",
    "            )\n",
    "        if kv_pair.value:\n",
    "            print(\n",
    "                f\"Value '{kv_pair.value.content}' found within \"\n",
    "                f\"'{_format_bounding_region(kv_pair.value.bounding_regions)}' bounding regions\\n\"\n",
    "            )"
   ]
  },
  {
   "cell_type": "code",
   "execution_count": null,
   "id": "869e1cfd",
   "metadata": {},
   "outputs": [],
   "source": [
    "if result.tables:\n",
    "    for table_idx, table in enumerate(result.tables):\n",
    "        print(f\"Table # {table_idx} has {table.row_count} rows and {table.column_count} columns\")\n",
    "        if table.bounding_regions:\n",
    "            for region in table.bounding_regions:\n",
    "                print(\n",
    "                    f\"Table # {table_idx} location on page: {region.page_number} is {_format_polygon(region.polygon)}\"\n",
    "                )\n",
    "        for cell in table.cells:\n",
    "            print(f\"...Cell[{cell.row_index}][{cell.column_index}] has text '{cell.content}'\")\n",
    "            if cell.bounding_regions:\n",
    "                for region in cell.bounding_regions:\n",
    "                    print(\n",
    "                        f\"...content on page {region.page_number} is within bounding polygon '{_format_polygon(region.polygon)}'\\n\"\n",
    "                    )"
   ]
  },
  {
   "cell_type": "code",
   "execution_count": null,
   "id": "524f4862",
   "metadata": {},
   "outputs": [],
   "source": []
  }
 ],
 "metadata": {
  "kernelspec": {
   "display_name": "Python 3",
   "language": "python",
   "name": "python3"
  },
  "language_info": {
   "codemirror_mode": {
    "name": "ipython",
    "version": 3
   },
   "file_extension": ".py",
   "mimetype": "text/x-python",
   "name": "python",
   "nbconvert_exporter": "python",
   "pygments_lexer": "ipython3",
   "version": "3.13.5"
  }
 },
 "nbformat": 4,
 "nbformat_minor": 5
}
