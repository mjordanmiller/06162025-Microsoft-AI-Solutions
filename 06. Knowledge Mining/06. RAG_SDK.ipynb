{
 "cells": [
  {
   "cell_type": "code",
   "execution_count": 1,
   "id": "cd2639c2",
   "metadata": {},
   "outputs": [],
   "source": [
    "#import needed libraries\n",
    "import os\n",
    "from dotenv import load_dotenv\n",
    "\n",
    "from openai import AzureOpenAI"
   ]
  },
  {
   "cell_type": "code",
   "execution_count": 2,
   "id": "b060e5b6",
   "metadata": {},
   "outputs": [
    {
     "data": {
      "text/plain": [
       "True"
      ]
     },
     "execution_count": 2,
     "metadata": {},
     "output_type": "execute_result"
    }
   ],
   "source": [
    "load_dotenv()"
   ]
  },
  {
   "cell_type": "code",
   "execution_count": 3,
   "id": "a81742e2",
   "metadata": {},
   "outputs": [],
   "source": [
    "openai_endpoint = os.getenv(\"OPENAI_ENPOINT\")\n",
    "openai_key = os.getenv(\"OPENAI_KEY\")\n",
    "embedding_model = os.getenv(\"EMBEDDING_MODEL\")\n",
    "chat_model = os.getenv(\"CHAT_MODEL\")\n",
    "aisearch_endpoint = os.getenv(\"AISEARCH_ENDPOINT\")\n",
    "aisearch_key = os.getenv(\"AISEARCH_KEY\")\n",
    "aisearch_index = os.getenv(\"AISEARCH_INDEX\")"
   ]
  },
  {
   "cell_type": "code",
   "execution_count": 7,
   "id": "8270bcfe",
   "metadata": {},
   "outputs": [],
   "source": [
    "chat_client = AzureOpenAI(\n",
    "    azure_endpoint=openai_endpoint,\n",
    "    api_key=openai_key,\n",
    "    api_version=\"2024-10-21\"\n",
    ")"
   ]
  },
  {
   "cell_type": "code",
   "execution_count": 8,
   "id": "90967698",
   "metadata": {},
   "outputs": [],
   "source": [
    "prompt = [\n",
    "    {\"role\": \"system\",  \"content\": \"You are a travel assistant that provides information on travel services through Margie's Travel.\"}\n",
    "]"
   ]
  },
  {
   "cell_type": "code",
   "execution_count": 11,
   "id": "78f901a6",
   "metadata": {},
   "outputs": [
    {
     "name": "stdout",
     "output_type": "stream",
     "text": [
      "Response: Margie's Travel offers trips to a variety of exciting destinations around the world. Here are some of the places you can explore:\n",
      "\n",
      "### **United States**\n",
      "- **Las Vegas**: Known for its vibrant nightlife, casinos, fine dining, and entertainment. Stay at hotels like The Volcano Hotel, The Fountain Hotel, or The Canal Hotel [doc1].\n",
      "- **New York City**: The cultural and financial capital of the world, with iconic landmarks like Times Square, Central Park, and the Empire State Building. Accommodation options include The Manhattan Hotel, The Grand Central Hotel, and The Park Hotel [doc3].\n",
      "- **San Francisco**: Famous for the Golden Gate Bridge, Fisherman’s Wharf, and its rich history. Stay at The Lombard Hotel or The Wharf Hotel [doc4].\n",
      "\n",
      "### **International Destinations**\n",
      "- **London, England**: A city rich in history and culture, with attractions like Buckingham Palace, Tower Bridge, and the Tower of London. Margie's Travel offers stays at The Buckingham Hotel, The City Hotel, and The Kensington Hotel [doc2].\n",
      "- **Dubai, UAE**: A modern city with luxurious attractions, including the Dubai Creek area, traditional markets, and world-class resorts. Stay at The Creek Hotel, The Deira Hotel, or The Lost City Hotel [doc5].\n",
      "\n",
      "These are just a few of the destinations Margie's Travel can take you to. Whether you're looking for luxury, adventure, or cultural experiences, Margie's Travel has options to suit your preferences. Let me know if you'd like more details about any of these destinations!\n",
      "---------------------\n",
      "Response: Margie's Travel specializes in arranging trips to the following destinations:\n",
      "\n",
      "- **Dubai**: Known for its modern architecture, luxury shopping, and vibrant culture [doc1].\n",
      "- **Las Vegas**: Famous for its entertainment, nightlife, and world-class resorts [doc1].\n",
      "- **London**: A city rich in history, culture, and iconic landmarks .\n",
      "- **New York**: The cultural and financial capital of the world, offering endless attractions [doc1].\n",
      "- **San Francisco**: Renowned for its scenic beauty, historic landmarks, and vibrant neighborhoods [doc1].\n",
      "\n",
      "These destinations are Margie's Travel's areas of expertise, but they can also arrange travel to anywhere worldwide. Let me know if you'd like more details about any of these locations!\n",
      "---------------------\n",
      "Response: Margie's Travel offers the following hotels in Las Vegas:\n",
      "\n",
      "1. **The Volcano Hotel**: Located in the heart of The Strip, this stylish casino hotel features live entertainment and an extensive pool area [doc1].\n",
      "2. **The Fountain Hotel**: A luxury accommodation option with a range of restaurants and cocktail bars [doc1].\n",
      "3. **The Canal Hotel**: An opulent Italian-themed resort offering luxurious suite accommodations [doc1].\n",
      "\n",
      "Let me know if you'd like assistance booking your stay!\n",
      "---------------------\n",
      "Response: Yes, based on the retrieved documents, Margie's Travel offers the following hotels in Las Vegas:\n",
      "\n",
      "1. **The Volcano Hotel**: Located in the heart of The Strip, featuring stylish casino accommodations, live entertainment, and an extensive pool area [doc1].\n",
      "2. **The Fountain Hotel**: A luxury hotel with a variety of restaurants and cocktail bars [doc1].\n",
      "3. **The Canal Hotel**: An opulent Italian-themed resort with luxurious suite accommodations [doc1].\n",
      "\n",
      "These are the hotels specifically mentioned in the provided data. If you'd like more options or details, feel free to ask!\n",
      "---------------------\n"
     ]
    }
   ],
   "source": [
    "while True: \n",
    "    input_text = input(\"Enter your prompt (or type 'quit' to quit): \")\n",
    "    if input_text.lower() == 'quit':\n",
    "        break\n",
    "    if len(input_text) == 0:\n",
    "        print(\"Please enter a valid prompt.\")\n",
    "        continue\n",
    "\n",
    "    prompt.append({\"role\": \"user\", \"content\": input_text})\n",
    "\n",
    "    rag_params = {\n",
    "        \"data_sources\":[\n",
    "            {\n",
    "                \"type\": \"azure_search\",\n",
    "                \"parameters\": {\n",
    "                    \"endpoint\": aisearch_endpoint,\n",
    "                    \"index_name\": aisearch_index,\n",
    "                    \"authentication\": {\n",
    "                        \"type\": \"api_key\",\n",
    "                        \"key\": aisearch_key,\n",
    "                    },\n",
    "                    \"query_type\" : \"vector\",\n",
    "                    \"embedding_dependency\" : {\n",
    "                        \"type\": \"deployment_name\",\n",
    "                        \"deployment_name\": embedding_model\n",
    "                }\n",
    "                },\n",
    "                \n",
    "            }\n",
    "        ]\n",
    "    }\n",
    "\n",
    "\n",
    "    response = chat_client.chat.completions.create(\n",
    "        model=chat_model,\n",
    "        messages=prompt,\n",
    "        extra_body= rag_params\n",
    "    )\n",
    "\n",
    "    completion = response.choices[0].message.content\n",
    "\n",
    "    print(f\"Response: {completion}\")\n",
    "    print(\"---------------------\")\n",
    "\n",
    "    prompt.append({\"role\": \"assistant\", \"content\": completion})\n",
    "\n"
   ]
  },
  {
   "cell_type": "code",
   "execution_count": null,
   "id": "bd8563ab",
   "metadata": {},
   "outputs": [],
   "source": []
  }
 ],
 "metadata": {
  "kernelspec": {
   "display_name": "Python 3",
   "language": "python",
   "name": "python3"
  },
  "language_info": {
   "codemirror_mode": {
    "name": "ipython",
    "version": 3
   },
   "file_extension": ".py",
   "mimetype": "text/x-python",
   "name": "python",
   "nbconvert_exporter": "python",
   "pygments_lexer": "ipython3",
   "version": "3.13.5"
  }
 },
 "nbformat": 4,
 "nbformat_minor": 5
}
