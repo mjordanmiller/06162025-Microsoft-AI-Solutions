{
 "cells": [
  {
   "cell_type": "code",
   "execution_count": 31,
   "id": "c2c75eba",
   "metadata": {},
   "outputs": [],
   "source": [
    "#import needed libraries\n",
    "from azure.ai.textanalytics import TextAnalyticsClient, ExtractiveSummaryAction\n",
    "from azure.core.credentials import AzureKeyCredential\n",
    "\n",
    "import os\n",
    "from dotenv import load_dotenv"
   ]
  },
  {
   "cell_type": "code",
   "execution_count": 2,
   "id": "2bcc1928",
   "metadata": {},
   "outputs": [
    {
     "data": {
      "text/plain": [
       "True"
      ]
     },
     "execution_count": 2,
     "metadata": {},
     "output_type": "execute_result"
    }
   ],
   "source": [
    "#load environment\n",
    "load_dotenv()"
   ]
  },
  {
   "cell_type": "code",
   "execution_count": 3,
   "id": "80378e72",
   "metadata": {},
   "outputs": [],
   "source": [
    "#constants\n",
    "LANGUAGE_ENDPOINT = os.getenv(\"LANGUAGE_ENDPOINT\")\n",
    "LANGUAGE_KEY = os.getenv(\"LANGUAGE_KEY\")"
   ]
  },
  {
   "cell_type": "code",
   "execution_count": 4,
   "id": "3c22bd46",
   "metadata": {},
   "outputs": [],
   "source": [
    "credential = AzureKeyCredential(LANGUAGE_KEY)\n",
    "client = TextAnalyticsClient(\n",
    "    endpoint=LANGUAGE_ENDPOINT,\n",
    "    credential=credential\n",
    ")"
   ]
  },
  {
   "cell_type": "code",
   "execution_count": null,
   "id": "4a129434",
   "metadata": {},
   "outputs": [],
   "source": [
    "txt_files = [i for i in os.listdir('Data/reviews')]"
   ]
  },
  {
   "cell_type": "code",
   "execution_count": 7,
   "id": "b9272a92",
   "metadata": {},
   "outputs": [
    {
     "data": {
      "text/plain": [
       "['review1.txt', 'review2.txt', 'review3.txt', 'review4.txt', 'review5.txt']"
      ]
     },
     "execution_count": 7,
     "metadata": {},
     "output_type": "execute_result"
    }
   ],
   "source": [
    "txt_files"
   ]
  },
  {
   "cell_type": "code",
   "execution_count": null,
   "id": "242e8e6c",
   "metadata": {},
   "outputs": [],
   "source": [
    "review_data = {} #dict to hold all of the data\n",
    "for file_name in txt_files:\n",
    "    file_path = os.path.join('Data/reviews', file_name)\n",
    "    with open(file_path, 'r', encoding='utf-8') as file:\n",
    "        review_data[file_name] = file.read()"
   ]
  },
  {
   "cell_type": "code",
   "execution_count": 10,
   "id": "0dab1491",
   "metadata": {},
   "outputs": [
    {
     "data": {
      "text/plain": [
       "{'review1.txt': 'Good Hotel and staff\\nThe Royal Hotel, London, UK\\n3/2/2018\\nClean rooms, good service, great location near Buckingham Palace and Westminster Abbey, and so on. We thoroughly enjoyed our stay. The courtyard is very peaceful and we went to a restaurant which is part of the same group and is Indian ( West coast so plenty of fish) with a Michelin Star. We had the taster menu which was fabulous. The rooms were very well appointed with a kitchen, lounge, bedroom and enormous bathroom. Thoroughly recommended.',\n",
       " 'review2.txt': \"Tired hotel with poor service\\nThe Royal Hotel, London, United Kingdom\\n5/6/2018\\nThis is a old hotel (has been around since 1950's) and the room furnishings are average - becoming a bit old now and require changing. The internet didn't work and had to come to one of their office rooms to check in for my flight home. The website says it's close to the British Museum, but it's too far to walk.\",\n",
       " 'review3.txt': 'Good location and helpful staff, but on a busy road.\\nThe Lombard Hotel, San Francisco, USA\\n8/16/2018\\nWe stayed here in August after reading reviews. We were very pleased with location, just behind Chestnut Street, a cosmopolitan and trendy area with plenty of restaurants to choose from. The\\nMarina district was lovely to wander through, very interesting houses. Make sure to walk to the San Francisco Museum of Fine Arts and the Marina to get a good view of Golden Gate bridge and the city. On a bus route and easy to get into centre. Rooms were clean with plenty of room and staff were friendly and helpful. The only down side was the noise from Lombard Street so ask to have a room furthest away from traffic noise.',\n",
       " 'review4.txt': \"Very noisy and rooms are tiny\\nThe Lombard Hotel, San Francisco, USA\\n9/5/2018\\nHotel is located on Lombard street which is a very busy SIX lane street directly off the Golden Gate Bridge. Traffic from early morning until late at night especially on weekends. Noise would not be so bad if rooms were better insulated but they are not. Had to put cotton balls in my ears to be able to sleep--was too tired to enjoy the city the next day. Rooms are TINY. I picked the room because it had two queen size beds--but the room barely had space to fit them. With family of four in the room it was tight. With all that said, rooms are clean and they've made an effort to update them. The hotel is in Marina district with lots of good places to eat, within walking distance to Presidio. May be good hotel for young stay-up-late adults on a budget\\n\",\n",
       " 'review5.txt': \"Un hôtel agréable\\nL'Hotel Buckingham, Londres, UK\\nJ’adore cet hôtel. Le personnel est très amical et les chambres sont confortables.\"}"
      ]
     },
     "execution_count": 10,
     "metadata": {},
     "output_type": "execute_result"
    }
   ],
   "source": [
    "review_data"
   ]
  },
  {
   "cell_type": "code",
   "execution_count": 11,
   "id": "3561dd2a",
   "metadata": {},
   "outputs": [
    {
     "name": "stdout",
     "output_type": "stream",
     "text": [
      "review1.txt : \n",
      " Good Hotel and staff\n",
      "The Royal Hotel, London, UK\n",
      "3/2/2018\n",
      "Clean rooms, good service, great location near Buckingham Palace and Westminster Abbey, and so on. We thoroughly enjoyed our stay. The courtyard is very peaceful and we went to a restaurant which is part of the same group and is Indian ( West coast so plenty of fish) with a Michelin Star. We had the taster menu which was fabulous. The rooms were very well appointed with a kitchen, lounge, bedroom and enormous bathroom. Thoroughly recommended. \n",
      "\n",
      "\n",
      "\n",
      "\n",
      "review2.txt : \n",
      " Tired hotel with poor service\n",
      "The Royal Hotel, London, United Kingdom\n",
      "5/6/2018\n",
      "This is a old hotel (has been around since 1950's) and the room furnishings are average - becoming a bit old now and require changing. The internet didn't work and had to come to one of their office rooms to check in for my flight home. The website says it's close to the British Museum, but it's too far to walk. \n",
      "\n",
      "\n",
      "\n",
      "\n",
      "review3.txt : \n",
      " Good location and helpful staff, but on a busy road.\n",
      "The Lombard Hotel, San Francisco, USA\n",
      "8/16/2018\n",
      "We stayed here in August after reading reviews. We were very pleased with location, just behind Chestnut Street, a cosmopolitan and trendy area with plenty of restaurants to choose from. The\n",
      "Marina district was lovely to wander through, very interesting houses. Make sure to walk to the San Francisco Museum of Fine Arts and the Marina to get a good view of Golden Gate bridge and the city. On a bus route and easy to get into centre. Rooms were clean with plenty of room and staff were friendly and helpful. The only down side was the noise from Lombard Street so ask to have a room furthest away from traffic noise. \n",
      "\n",
      "\n",
      "\n",
      "\n",
      "review4.txt : \n",
      " Very noisy and rooms are tiny\n",
      "The Lombard Hotel, San Francisco, USA\n",
      "9/5/2018\n",
      "Hotel is located on Lombard street which is a very busy SIX lane street directly off the Golden Gate Bridge. Traffic from early morning until late at night especially on weekends. Noise would not be so bad if rooms were better insulated but they are not. Had to put cotton balls in my ears to be able to sleep--was too tired to enjoy the city the next day. Rooms are TINY. I picked the room because it had two queen size beds--but the room barely had space to fit them. With family of four in the room it was tight. With all that said, rooms are clean and they've made an effort to update them. The hotel is in Marina district with lots of good places to eat, within walking distance to Presidio. May be good hotel for young stay-up-late adults on a budget\n",
      " \n",
      "\n",
      "\n",
      "\n",
      "\n",
      "review5.txt : \n",
      " Un hôtel agréable\n",
      "L'Hotel Buckingham, Londres, UK\n",
      "J’adore cet hôtel. Le personnel est très amical et les chambres sont confortables. \n",
      "\n",
      "\n",
      "\n",
      "\n"
     ]
    }
   ],
   "source": [
    "for k,v in review_data.items():\n",
    "    print(f'{k} : \\n {v} \\n\\n\\n\\n')"
   ]
  },
  {
   "cell_type": "markdown",
   "id": "78d5135f",
   "metadata": {},
   "source": [
    "### Detect Language"
   ]
  },
  {
   "cell_type": "code",
   "execution_count": 12,
   "id": "eead9b5f",
   "metadata": {},
   "outputs": [
    {
     "data": {
      "text/plain": [
       "{'review1.txt': 'Good Hotel and staff\\nThe Royal Hotel, London, UK\\n3/2/2018\\nClean rooms, good service, great location near Buckingham Palace and Westminster Abbey, and so on. We thoroughly enjoyed our stay. The courtyard is very peaceful and we went to a restaurant which is part of the same group and is Indian ( West coast so plenty of fish) with a Michelin Star. We had the taster menu which was fabulous. The rooms were very well appointed with a kitchen, lounge, bedroom and enormous bathroom. Thoroughly recommended.',\n",
       " 'review2.txt': \"Tired hotel with poor service\\nThe Royal Hotel, London, United Kingdom\\n5/6/2018\\nThis is a old hotel (has been around since 1950's) and the room furnishings are average - becoming a bit old now and require changing. The internet didn't work and had to come to one of their office rooms to check in for my flight home. The website says it's close to the British Museum, but it's too far to walk.\",\n",
       " 'review3.txt': 'Good location and helpful staff, but on a busy road.\\nThe Lombard Hotel, San Francisco, USA\\n8/16/2018\\nWe stayed here in August after reading reviews. We were very pleased with location, just behind Chestnut Street, a cosmopolitan and trendy area with plenty of restaurants to choose from. The\\nMarina district was lovely to wander through, very interesting houses. Make sure to walk to the San Francisco Museum of Fine Arts and the Marina to get a good view of Golden Gate bridge and the city. On a bus route and easy to get into centre. Rooms were clean with plenty of room and staff were friendly and helpful. The only down side was the noise from Lombard Street so ask to have a room furthest away from traffic noise.',\n",
       " 'review4.txt': \"Very noisy and rooms are tiny\\nThe Lombard Hotel, San Francisco, USA\\n9/5/2018\\nHotel is located on Lombard street which is a very busy SIX lane street directly off the Golden Gate Bridge. Traffic from early morning until late at night especially on weekends. Noise would not be so bad if rooms were better insulated but they are not. Had to put cotton balls in my ears to be able to sleep--was too tired to enjoy the city the next day. Rooms are TINY. I picked the room because it had two queen size beds--but the room barely had space to fit them. With family of four in the room it was tight. With all that said, rooms are clean and they've made an effort to update them. The hotel is in Marina district with lots of good places to eat, within walking distance to Presidio. May be good hotel for young stay-up-late adults on a budget\\n\",\n",
       " 'review5.txt': \"Un hôtel agréable\\nL'Hotel Buckingham, Londres, UK\\nJ’adore cet hôtel. Le personnel est très amical et les chambres sont confortables.\"}"
      ]
     },
     "execution_count": 12,
     "metadata": {},
     "output_type": "execute_result"
    }
   ],
   "source": [
    "review_data"
   ]
  },
  {
   "cell_type": "code",
   "execution_count": 18,
   "id": "481039d0",
   "metadata": {},
   "outputs": [],
   "source": [
    "detected_language = client.detect_language(documents = [review_data['review5.txt']])"
   ]
  },
  {
   "cell_type": "code",
   "execution_count": 19,
   "id": "113f9a88",
   "metadata": {},
   "outputs": [
    {
     "data": {
      "text/plain": [
       "[DetectLanguageResult(id=0, primary_language=DetectedLanguage(name=French, iso6391_name=fr, confidence_score=1.0), warnings=[], statistics=None, is_error=False, kind=LanguageDetection)]"
      ]
     },
     "execution_count": 19,
     "metadata": {},
     "output_type": "execute_result"
    }
   ],
   "source": [
    "detected_language"
   ]
  },
  {
   "cell_type": "code",
   "execution_count": 20,
   "id": "bbd584da",
   "metadata": {},
   "outputs": [],
   "source": [
    "detected_languages = client.detect_language(documents= list(review_data.values()))"
   ]
  },
  {
   "cell_type": "code",
   "execution_count": 21,
   "id": "766c783d",
   "metadata": {},
   "outputs": [
    {
     "data": {
      "text/plain": [
       "[DetectLanguageResult(id=0, primary_language=DetectedLanguage(name=English, iso6391_name=en, confidence_score=1.0), warnings=[], statistics=None, is_error=False, kind=LanguageDetection),\n",
       " DetectLanguageResult(id=1, primary_language=DetectedLanguage(name=English, iso6391_name=en, confidence_score=1.0), warnings=[], statistics=None, is_error=False, kind=LanguageDetection),\n",
       " DetectLanguageResult(id=2, primary_language=DetectedLanguage(name=English, iso6391_name=en, confidence_score=0.99), warnings=[], statistics=None, is_error=False, kind=LanguageDetection),\n",
       " DetectLanguageResult(id=3, primary_language=DetectedLanguage(name=English, iso6391_name=en, confidence_score=1.0), warnings=[], statistics=None, is_error=False, kind=LanguageDetection),\n",
       " DetectLanguageResult(id=4, primary_language=DetectedLanguage(name=French, iso6391_name=fr, confidence_score=1.0), warnings=[], statistics=None, is_error=False, kind=LanguageDetection)]"
      ]
     },
     "execution_count": 21,
     "metadata": {},
     "output_type": "execute_result"
    }
   ],
   "source": [
    "detected_languages"
   ]
  },
  {
   "cell_type": "code",
   "execution_count": 37,
   "id": "3083f833",
   "metadata": {},
   "outputs": [],
   "source": [
    "documents = [{\"id\": k, \"text\": v} for k,v in review_data.items()]"
   ]
  },
  {
   "cell_type": "code",
   "execution_count": 24,
   "id": "6a0d2ef9",
   "metadata": {},
   "outputs": [],
   "source": [
    "detected_languages_new_ids = client.detect_language(documents= documents)"
   ]
  },
  {
   "cell_type": "code",
   "execution_count": 25,
   "id": "85c126fe",
   "metadata": {},
   "outputs": [
    {
     "data": {
      "text/plain": [
       "[DetectLanguageResult(id=review1.txt, primary_language=DetectedLanguage(name=English, iso6391_name=en, confidence_score=1.0), warnings=[], statistics=None, is_error=False, kind=LanguageDetection),\n",
       " DetectLanguageResult(id=review2.txt, primary_language=DetectedLanguage(name=English, iso6391_name=en, confidence_score=1.0), warnings=[], statistics=None, is_error=False, kind=LanguageDetection),\n",
       " DetectLanguageResult(id=review3.txt, primary_language=DetectedLanguage(name=English, iso6391_name=en, confidence_score=0.99), warnings=[], statistics=None, is_error=False, kind=LanguageDetection),\n",
       " DetectLanguageResult(id=review4.txt, primary_language=DetectedLanguage(name=English, iso6391_name=en, confidence_score=1.0), warnings=[], statistics=None, is_error=False, kind=LanguageDetection),\n",
       " DetectLanguageResult(id=review5.txt, primary_language=DetectedLanguage(name=French, iso6391_name=fr, confidence_score=1.0), warnings=[], statistics=None, is_error=False, kind=LanguageDetection)]"
      ]
     },
     "execution_count": 25,
     "metadata": {},
     "output_type": "execute_result"
    }
   ],
   "source": [
    "detected_languages_new_ids"
   ]
  },
  {
   "cell_type": "markdown",
   "id": "296d0043",
   "metadata": {},
   "source": [
    "### Get Sentiment"
   ]
  },
  {
   "cell_type": "code",
   "execution_count": 38,
   "id": "5a30bc11",
   "metadata": {},
   "outputs": [],
   "source": [
    "sentimentResult = client.analyze_sentiment(documents=documents)"
   ]
  },
  {
   "cell_type": "code",
   "execution_count": 40,
   "id": "483a407f",
   "metadata": {},
   "outputs": [
    {
     "data": {
      "text/plain": [
       "[AnalyzeSentimentResult(id=review1.txt, sentiment=positive, warnings=[], statistics=None, confidence_scores=SentimentConfidenceScores(positive=0.98, neutral=0.02, negative=0.0), sentences=[SentenceSentiment(text=Good Hotel and staff The Royal Hotel, London, UK 3/2/2018 Clean rooms, good service, great location near Buckingham Palace and Westminster Abbey, and so on. , sentiment=positive, confidence_scores=SentimentConfidenceScores(positive=1.0, neutral=0.0, negative=0.0), length=157, offset=0, mined_opinions=[]), SentenceSentiment(text=We thoroughly enjoyed our stay. , sentiment=positive, confidence_scores=SentimentConfidenceScores(positive=1.0, neutral=0.0, negative=0.0), length=32, offset=157, mined_opinions=[]), SentenceSentiment(text=The courtyard is very peaceful and we went to a restaurant which is part of the same group and is Indian ( West coast so plenty of fish) with a Michelin Star. , sentiment=positive, confidence_scores=SentimentConfidenceScores(positive=0.97, neutral=0.03, negative=0.0), length=1,\n",
       " AnalyzeSentimentResult(id=review2.txt, sentiment=negative, warnings=[], statistics=None, confidence_scores=SentimentConfidenceScores(positive=0.0, neutral=0.0, negative=1.0), sentences=[SentenceSentiment(text=Tired hotel with poor service The Royal Hotel, London, United Kingdom 5/6/2018 This is a old hotel (has been around since 1950's) and the room furnishings are average - becoming a bit old now and require changing. , sentiment=negative, confidence_scores=SentimentConfidenceScores(positive=0.0, neutral=0.0, negative=1.0), length=214, offset=0, mined_opinions=[]), SentenceSentiment(text=The internet didn't work and had to come to one of their office rooms to check in for my flight home. , sentiment=negative, confidence_scores=SentimentConfidenceScores(positive=0.0, neutral=0.0, negative=1.0), length=102, offset=214, mined_opinions=[]), SentenceSentiment(text=The website says it's close to the British Museum, but it's too far to walk., sentiment=neutral, confidence_scores=SentimentConfidenceScores(positive=0,\n",
       " AnalyzeSentimentResult(id=review3.txt, sentiment=mixed, warnings=[], statistics=None, confidence_scores=SentimentConfidenceScores(positive=0.78, neutral=0.07, negative=0.14), sentences=[SentenceSentiment(text=Good location and helpful staff, but on a busy road. , sentiment=positive, confidence_scores=SentimentConfidenceScores(positive=0.99, neutral=0.01, negative=0.0), length=53, offset=0, mined_opinions=[]), SentenceSentiment(text=The Lombard Hotel, San Francisco, USA 8/16/2018 We stayed here in August after reading reviews. , sentiment=neutral, confidence_scores=SentimentConfidenceScores(positive=0.01, neutral=0.99, negative=0.0), length=96, offset=53, mined_opinions=[]), SentenceSentiment(text=We were very pleased with location, just behind Chestnut Street, a cosmopolitan and trendy area with plenty of restaurants to choose from. , sentiment=positive, confidence_scores=SentimentConfidenceScores(positive=1.0, neutral=0.0, negative=0.0), length=139, offset=149, mined_opinions=[]), SentenceSentiment(text=The ,\n",
       " AnalyzeSentimentResult(id=review4.txt, sentiment=mixed, warnings=[], statistics=None, confidence_scores=SentimentConfidenceScores(positive=0.3, neutral=0.09, negative=0.61), sentences=[SentenceSentiment(text=Very noisy and rooms are tiny The Lombard Hotel, San Francisco, USA 9/5/2018 Hotel is located on Lombard street which is a very busy SIX lane street directly off the Golden Gate Bridge. , sentiment=negative, confidence_scores=SentimentConfidenceScores(positive=0.0, neutral=0.0, negative=1.0), length=186, offset=0, mined_opinions=[]), SentenceSentiment(text=Traffic from early morning until late at night especially on weekends. , sentiment=negative, confidence_scores=SentimentConfidenceScores(positive=0.0, neutral=0.32, negative=0.67), length=71, offset=186, mined_opinions=[]), SentenceSentiment(text=Noise would not be so bad if rooms were better insulated but they are not. , sentiment=negative, confidence_scores=SentimentConfidenceScores(positive=0.01, neutral=0.0, negative=0.99), length=75, offset=257, mi,\n",
       " AnalyzeSentimentResult(id=review5.txt, sentiment=positive, warnings=[], statistics=None, confidence_scores=SentimentConfidenceScores(positive=0.97, neutral=0.01, negative=0.02), sentences=[SentenceSentiment(text=Un hôtel agréable L'Hotel Buckingham, Londres, UK J’adore cet hôtel. , sentiment=positive, confidence_scores=SentimentConfidenceScores(positive=1.0, neutral=0.0, negative=0.0), length=69, offset=0, mined_opinions=[]), SentenceSentiment(text=Le personnel est très amical et les chambres sont confortables., sentiment=positive, confidence_scores=SentimentConfidenceScores(positive=0.94, neutral=0.01, negative=0.05), length=63, offset=69, mined_opinions=[])], is_error=False, kind=SentimentAnalysis)]"
      ]
     },
     "execution_count": 40,
     "metadata": {},
     "output_type": "execute_result"
    }
   ],
   "source": [
    "sentimentResult"
   ]
  },
  {
   "cell_type": "code",
   "execution_count": null,
   "id": "57b68dc1",
   "metadata": {},
   "outputs": [],
   "source": []
  },
  {
   "cell_type": "markdown",
   "id": "c138bdb5",
   "metadata": {},
   "source": [
    "### Get Key Phrases"
   ]
  },
  {
   "cell_type": "code",
   "execution_count": 41,
   "id": "4dc4d2f2",
   "metadata": {},
   "outputs": [],
   "source": [
    "phrases = client.extract_key_phrases(documents=documents)"
   ]
  },
  {
   "cell_type": "code",
   "execution_count": 42,
   "id": "5e6f8736",
   "metadata": {},
   "outputs": [
    {
     "data": {
      "text/plain": [
       "[ExtractKeyPhrasesResult(id=review1.txt, key_phrases=['The Royal Hotel', 'Good Hotel', 'good service', 'great location', 'Buckingham Palace', 'Westminster Abbey', 'same group', 'West coast', 'Michelin Star', 'taster menu', 'enormous bathroom', 'Clean rooms', 'staff', 'London', 'UK', 'stay', 'courtyard', 'restaurant', 'part', 'plenty', 'fish', 'kitchen', 'lounge', 'bedroom'], warnings=[], statistics=None, is_error=False, kind=KeyPhraseExtraction),\n",
       " ExtractKeyPhrasesResult(id=review2.txt, key_phrases=['The Royal Hotel', 'Tired hotel', 'old hotel', 'poor service', 'United Kingdom', 'room furnishings', 'office rooms', 'flight home', 'British Museum', 'London', 'changing', 'internet', 'website', '1950'], warnings=[], statistics=None, is_error=False, kind=KeyPhraseExtraction),\n",
       " ExtractKeyPhrasesResult(id=review3.txt, key_phrases=['Golden Gate bridge', 'The Lombard Hotel', 'The Marina district', 'San Francisco Museum', 'Lombard Street', 'busy road', 'Chestnut Street', 'trendy area', 'interesting houses', 'Fine Arts', 'good view', 'bus route', 'down side', 'Good location', 'helpful staff', 'traffic noise', 'USA', 'We', 'August', 'reviews', 'cosmopolitan', 'plenty', 'restaurants', 'city', 'centre', 'Rooms'], warnings=[], statistics=None, is_error=False, kind=KeyPhraseExtraction),\n",
       " ExtractKeyPhrasesResult(id=review4.txt, key_phrases=['two queen size beds', 'busy SIX lane street', 'Golden Gate Bridge', 'The Lombard Hotel', 'Lombard street', 'San Francisco', 'early morning', 'cotton balls', 'Marina district', 'good places', 'walking distance', 'late adults', 'good hotel', 'rooms', 'USA', 'Traffic', 'night', 'weekends', 'Noise', 'ears', 'city', 'TINY', 'space', 'family', 'effort', 'lots', 'Presidio', 'young', 'budget'], warnings=[], statistics=None, is_error=False, kind=KeyPhraseExtraction),\n",
       " ExtractKeyPhrasesResult(id=review5.txt, key_phrases=['hôtel agréable', \"L'Hotel Buckingham\", 'Londres', 'UK', 'personnel', 'chambres'], warnings=[], statistics=None, is_error=False, kind=KeyPhraseExtraction)]"
      ]
     },
     "execution_count": 42,
     "metadata": {},
     "output_type": "execute_result"
    }
   ],
   "source": [
    "phrases"
   ]
  },
  {
   "cell_type": "markdown",
   "id": "7a744579",
   "metadata": {},
   "source": [
    "### Extract Entities"
   ]
  },
  {
   "cell_type": "code",
   "execution_count": 43,
   "id": "e9e12b00",
   "metadata": {},
   "outputs": [],
   "source": [
    "entity_result = client.recognize_entities(documents=documents)"
   ]
  },
  {
   "cell_type": "code",
   "execution_count": 44,
   "id": "a09d959f",
   "metadata": {},
   "outputs": [
    {
     "data": {
      "text/plain": [
       "[RecognizeEntitiesResult(id=review1.txt, entities=[CategorizedEntity(text=Hotel, category=Location, subcategory=None, length=5, offset=5, confidence_score=0.51), CategorizedEntity(text=staff, category=PersonType, subcategory=None, length=5, offset=15, confidence_score=0.93), CategorizedEntity(text=Royal Hotel, London, UK, category=Address, subcategory=None, length=23, offset=25, confidence_score=0.82), CategorizedEntity(text=3/2/2018, category=DateTime, subcategory=Date, length=8, offset=49, confidence_score=1.0), CategorizedEntity(text=Buckingham Palace, category=Location, subcategory=Structural, length=17, offset=105, confidence_score=0.99), CategorizedEntity(text=Westminster Abbey, category=Location, subcategory=None, length=17, offset=127, confidence_score=0.99), CategorizedEntity(text=courtyard, category=Location, subcategory=Structural, length=9, offset=193, confidence_score=0.72), CategorizedEntity(text=restaurant, category=Location, subcategory=Structural, length=10, offset=237, confidence_score=0.73),,\n",
       " RecognizeEntitiesResult(id=review2.txt, entities=[CategorizedEntity(text=hotel, category=Location, subcategory=None, length=5, offset=6, confidence_score=0.71), CategorizedEntity(text=The Royal Hotel, category=Organization, subcategory=None, length=15, offset=30, confidence_score=0.58), CategorizedEntity(text=London, category=Location, subcategory=City, length=6, offset=47, confidence_score=0.94), CategorizedEntity(text=United Kingdom, category=Location, subcategory=CountryRegion, length=14, offset=55, confidence_score=0.99), CategorizedEntity(text=5/6/2018, category=DateTime, subcategory=Date, length=8, offset=70, confidence_score=1.0), CategorizedEntity(text=hotel, category=Location, subcategory=None, length=5, offset=93, confidence_score=0.84), CategorizedEntity(text=since 1950's, category=DateTime, subcategory=DateRange, length=12, offset=116, confidence_score=0.94), CategorizedEntity(text=furnishings, category=Product, subcategory=None, length=11, offset=143, confidence_score=0.58), CategorizedEntity(tex,\n",
       " RecognizeEntitiesResult(id=review3.txt, entities=[CategorizedEntity(text=staff, category=PersonType, subcategory=None, length=5, offset=26, confidence_score=0.88), CategorizedEntity(text=Hotel, category=Location, subcategory=None, length=5, offset=65, confidence_score=0.64), CategorizedEntity(text=San Francisco, category=Location, subcategory=City, length=13, offset=72, confidence_score=0.95), CategorizedEntity(text=USA, category=Location, subcategory=GPE, length=3, offset=87, confidence_score=0.59), CategorizedEntity(text=8/16/2018, category=DateTime, subcategory=Date, length=9, offset=91, confidence_score=1.0), CategorizedEntity(text=August, category=DateTime, subcategory=DateRange, length=6, offset=119, confidence_score=1.0), CategorizedEntity(text=Chestnut Street, category=Address, subcategory=None, length=15, offset=197, confidence_score=0.92), CategorizedEntity(text=restaurants, category=Location, subcategory=None, length=11, offset=260, confidence_score=0.89), CategorizedEntity(text=Marina district, ca,\n",
       " RecognizeEntitiesResult(id=review4.txt, entities=[CategorizedEntity(text=rooms, category=Location, subcategory=None, length=5, offset=15, confidence_score=0.95), CategorizedEntity(text=Hotel, category=Location, subcategory=None, length=5, offset=42, confidence_score=0.64), CategorizedEntity(text=San Francisco, category=Location, subcategory=City, length=13, offset=49, confidence_score=0.95), CategorizedEntity(text=USA, category=Location, subcategory=GPE, length=3, offset=64, confidence_score=0.59), CategorizedEntity(text=9/5/2018, category=DateTime, subcategory=Date, length=8, offset=68, confidence_score=1.0), CategorizedEntity(text=Hotel, category=Location, subcategory=None, length=5, offset=77, confidence_score=0.74), CategorizedEntity(text=Lombard street, category=Address, subcategory=None, length=14, offset=97, confidence_score=0.98), CategorizedEntity(text=SIX, category=Quantity, subcategory=Number, length=3, offset=133, confidence_score=0.8), CategorizedEntity(text=Golden Gate Bridge, category=Location,,\n",
       " RecognizeEntitiesResult(id=review5.txt, entities=[CategorizedEntity(text=hôtel, category=Location, subcategory=None, length=5, offset=3, confidence_score=0.78), CategorizedEntity(text=Buckingham, category=Organization, subcategory=None, length=10, offset=26, confidence_score=0.55), CategorizedEntity(text=Londres, category=Location, subcategory=City, length=7, offset=38, confidence_score=0.99), CategorizedEntity(text=UK, category=Location, subcategory=CountryRegion, length=2, offset=47, confidence_score=0.97), CategorizedEntity(text=hôtel, category=Location, subcategory=None, length=5, offset=62, confidence_score=0.9), CategorizedEntity(text=personnel, category=PersonType, subcategory=None, length=9, offset=72, confidence_score=0.79), CategorizedEntity(text=chambres, category=Location, subcategory=None, length=8, offset=105, confidence_score=0.72)], warnings=[], statistics=None, is_error=False, kind=EntityRecognition)]"
      ]
     },
     "execution_count": 44,
     "metadata": {},
     "output_type": "execute_result"
    }
   ],
   "source": [
    "entity_result"
   ]
  },
  {
   "cell_type": "code",
   "execution_count": 45,
   "id": "32754c5c",
   "metadata": {},
   "outputs": [
    {
     "data": {
      "text/plain": [
       "[[CategorizedEntity(text=Hotel, category=Location, subcategory=None, length=5, offset=5, confidence_score=0.51),\n",
       "  CategorizedEntity(text=staff, category=PersonType, subcategory=None, length=5, offset=15, confidence_score=0.93),\n",
       "  CategorizedEntity(text=Royal Hotel, London, UK, category=Address, subcategory=None, length=23, offset=25, confidence_score=0.82),\n",
       "  CategorizedEntity(text=3/2/2018, category=DateTime, subcategory=Date, length=8, offset=49, confidence_score=1.0),\n",
       "  CategorizedEntity(text=Buckingham Palace, category=Location, subcategory=Structural, length=17, offset=105, confidence_score=0.99),\n",
       "  CategorizedEntity(text=Westminster Abbey, category=Location, subcategory=None, length=17, offset=127, confidence_score=0.99),\n",
       "  CategorizedEntity(text=courtyard, category=Location, subcategory=Structural, length=9, offset=193, confidence_score=0.72),\n",
       "  CategorizedEntity(text=restaurant, category=Location, subcategory=Structural, length=10, offset=237, confidence_score=0.73),\n",
       "  CategorizedEntity(text=Indian, category=PersonType, subcategory=None, length=6, offset=287, confidence_score=0.74),\n",
       "  CategorizedEntity(text=West coast, category=Location, subcategory=None, length=10, offset=296, confidence_score=0.87),\n",
       "  CategorizedEntity(text=fish, category=Product, subcategory=None, length=4, offset=320, confidence_score=0.75),\n",
       "  CategorizedEntity(text=taster, category=Product, subcategory=None, length=6, offset=359, confidence_score=0.66),\n",
       "  CategorizedEntity(text=rooms, category=Location, subcategory=None, length=5, offset=395, confidence_score=0.78),\n",
       "  CategorizedEntity(text=kitchen, category=Location, subcategory=None, length=7, offset=433, confidence_score=0.9),\n",
       "  CategorizedEntity(text=lounge, category=Location, subcategory=Structural, length=6, offset=442, confidence_score=0.91),\n",
       "  CategorizedEntity(text=bedroom, category=Location, subcategory=None, length=7, offset=450, confidence_score=0.91),\n",
       "  CategorizedEntity(text=bathroom, category=Location, subcategory=Structural, length=8, offset=471, confidence_score=0.9)],\n",
       " [CategorizedEntity(text=hotel, category=Location, subcategory=None, length=5, offset=6, confidence_score=0.71),\n",
       "  CategorizedEntity(text=The Royal Hotel, category=Organization, subcategory=None, length=15, offset=30, confidence_score=0.58),\n",
       "  CategorizedEntity(text=London, category=Location, subcategory=City, length=6, offset=47, confidence_score=0.94),\n",
       "  CategorizedEntity(text=United Kingdom, category=Location, subcategory=CountryRegion, length=14, offset=55, confidence_score=0.99),\n",
       "  CategorizedEntity(text=5/6/2018, category=DateTime, subcategory=Date, length=8, offset=70, confidence_score=1.0),\n",
       "  CategorizedEntity(text=hotel, category=Location, subcategory=None, length=5, offset=93, confidence_score=0.84),\n",
       "  CategorizedEntity(text=since 1950's, category=DateTime, subcategory=DateRange, length=12, offset=116, confidence_score=0.94),\n",
       "  CategorizedEntity(text=furnishings, category=Product, subcategory=None, length=11, offset=143, confidence_score=0.58),\n",
       "  CategorizedEntity(text=now, category=DateTime, subcategory=None, length=3, offset=188, confidence_score=1.0),\n",
       "  CategorizedEntity(text=internet, category=Skill, subcategory=None, length=8, offset=218, confidence_score=0.92),\n",
       "  CategorizedEntity(text=one, category=Quantity, subcategory=Number, length=3, offset=258, confidence_score=0.8),\n",
       "  CategorizedEntity(text=office rooms, category=Location, subcategory=None, length=12, offset=271, confidence_score=0.8),\n",
       "  CategorizedEntity(text=flight, category=Event, subcategory=None, length=6, offset=303, confidence_score=0.72),\n",
       "  CategorizedEntity(text=home, category=Location, subcategory=None, length=4, offset=310, confidence_score=0.94),\n",
       "  CategorizedEntity(text=British Museum, category=Location, subcategory=None, length=14, offset=351, confidence_score=0.94)],\n",
       " [CategorizedEntity(text=staff, category=PersonType, subcategory=None, length=5, offset=26, confidence_score=0.88),\n",
       "  CategorizedEntity(text=Hotel, category=Location, subcategory=None, length=5, offset=65, confidence_score=0.64),\n",
       "  CategorizedEntity(text=San Francisco, category=Location, subcategory=City, length=13, offset=72, confidence_score=0.95),\n",
       "  CategorizedEntity(text=USA, category=Location, subcategory=GPE, length=3, offset=87, confidence_score=0.59),\n",
       "  CategorizedEntity(text=8/16/2018, category=DateTime, subcategory=Date, length=9, offset=91, confidence_score=1.0),\n",
       "  CategorizedEntity(text=August, category=DateTime, subcategory=DateRange, length=6, offset=119, confidence_score=1.0),\n",
       "  CategorizedEntity(text=Chestnut Street, category=Address, subcategory=None, length=15, offset=197, confidence_score=0.92),\n",
       "  CategorizedEntity(text=restaurants, category=Location, subcategory=None, length=11, offset=260, confidence_score=0.89),\n",
       "  CategorizedEntity(text=Marina district, category=Location, subcategory=City, length=15, offset=292, confidence_score=0.95),\n",
       "  CategorizedEntity(text=houses, category=Location, subcategory=None, length=6, offset=355, confidence_score=0.63),\n",
       "  CategorizedEntity(text=San Francisco Museum of Fine Arts, category=Location, subcategory=None, length=33, offset=388, confidence_score=0.98),\n",
       "  CategorizedEntity(text=Marina, category=Location, subcategory=Structural, length=6, offset=430, confidence_score=0.94),\n",
       "  CategorizedEntity(text=Golden Gate bridge, category=Location, subcategory=None, length=18, offset=459, confidence_score=1.0),\n",
       "  CategorizedEntity(text=city, category=Location, subcategory=None, length=4, offset=486, confidence_score=0.5),\n",
       "  CategorizedEntity(text=centre, category=Location, subcategory=Structural, length=6, offset=528, confidence_score=0.91),\n",
       "  CategorizedEntity(text=Rooms, category=Location, subcategory=None, length=5, offset=536, confidence_score=0.74),\n",
       "  CategorizedEntity(text=staff, category=PersonType, subcategory=None, length=5, offset=577, confidence_score=0.98),\n",
       "  CategorizedEntity(text=Lombard Street, category=Address, subcategory=None, length=14, offset=648, confidence_score=0.97),\n",
       "  CategorizedEntity(text=room, category=Location, subcategory=Structural, length=4, offset=680, confidence_score=0.75)],\n",
       " [CategorizedEntity(text=rooms, category=Location, subcategory=None, length=5, offset=15, confidence_score=0.95),\n",
       "  CategorizedEntity(text=Hotel, category=Location, subcategory=None, length=5, offset=42, confidence_score=0.64),\n",
       "  CategorizedEntity(text=San Francisco, category=Location, subcategory=City, length=13, offset=49, confidence_score=0.95),\n",
       "  CategorizedEntity(text=USA, category=Location, subcategory=GPE, length=3, offset=64, confidence_score=0.59),\n",
       "  CategorizedEntity(text=9/5/2018, category=DateTime, subcategory=Date, length=8, offset=68, confidence_score=1.0),\n",
       "  CategorizedEntity(text=Hotel, category=Location, subcategory=None, length=5, offset=77, confidence_score=0.74),\n",
       "  CategorizedEntity(text=Lombard street, category=Address, subcategory=None, length=14, offset=97, confidence_score=0.98),\n",
       "  CategorizedEntity(text=SIX, category=Quantity, subcategory=Number, length=3, offset=133, confidence_score=0.8),\n",
       "  CategorizedEntity(text=Golden Gate Bridge, category=Location, subcategory=None, length=18, offset=166, confidence_score=0.96),\n",
       "  CategorizedEntity(text=early morning until late at night, category=DateTime, subcategory=TimeRange, length=33, offset=199, confidence_score=0.63),\n",
       "  CategorizedEntity(text=weekends, category=DateTime, subcategory=Set, length=8, offset=247, confidence_score=0.94),\n",
       "  CategorizedEntity(text=rooms, category=Location, subcategory=None, length=5, offset=286, confidence_score=0.86),\n",
       "  CategorizedEntity(text=cotton balls, category=Product, subcategory=None, length=12, offset=343, confidence_score=0.91),\n",
       "  CategorizedEntity(text=city, category=Location, subcategory=None, length=4, offset=415, confidence_score=0.59),\n",
       "  CategorizedEntity(text=the next day, category=DateTime, subcategory=Date, length=12, offset=420, confidence_score=0.58),\n",
       "  CategorizedEntity(text=Rooms, category=Location, subcategory=None, length=5, offset=434, confidence_score=0.9),\n",
       "  CategorizedEntity(text=room, category=Location, subcategory=Structural, length=4, offset=463, confidence_score=0.77),\n",
       "  CategorizedEntity(text=two, category=Quantity, subcategory=Number, length=3, offset=483, confidence_score=0.8),\n",
       "  CategorizedEntity(text=beds, category=Product, subcategory=None, length=4, offset=498, confidence_score=0.47),\n",
       "  CategorizedEntity(text=room, category=Location, subcategory=Structural, length=4, offset=512, confidence_score=0.9),\n",
       "  CategorizedEntity(text=four, category=Quantity, subcategory=Number, length=4, offset=562, confidence_score=0.8),\n",
       "  CategorizedEntity(text=room, category=Location, subcategory=Structural, length=4, offset=574, confidence_score=0.95),\n",
       "  CategorizedEntity(text=rooms, category=Location, subcategory=None, length=5, offset=613, confidence_score=0.95),\n",
       "  CategorizedEntity(text=hotel, category=Location, subcategory=None, length=5, offset=676, confidence_score=0.83),\n",
       "  CategorizedEntity(text=Marina district, category=Location, subcategory=None, length=15, offset=688, confidence_score=0.91),\n",
       "  CategorizedEntity(text=Presidio, category=Location, subcategory=City, length=8, offset=764, confidence_score=0.5),\n",
       "  CategorizedEntity(text=hotel, category=Location, subcategory=None, length=5, offset=786, confidence_score=0.77),\n",
       "  CategorizedEntity(text=young, category=PersonType, subcategory=None, length=5, offset=796, confidence_score=0.5),\n",
       "  CategorizedEntity(text=adults, category=PersonType, subcategory=None, length=6, offset=815, confidence_score=0.43)],\n",
       " [CategorizedEntity(text=hôtel, category=Location, subcategory=None, length=5, offset=3, confidence_score=0.78),\n",
       "  CategorizedEntity(text=Buckingham, category=Organization, subcategory=None, length=10, offset=26, confidence_score=0.55),\n",
       "  CategorizedEntity(text=Londres, category=Location, subcategory=City, length=7, offset=38, confidence_score=0.99),\n",
       "  CategorizedEntity(text=UK, category=Location, subcategory=CountryRegion, length=2, offset=47, confidence_score=0.97),\n",
       "  CategorizedEntity(text=hôtel, category=Location, subcategory=None, length=5, offset=62, confidence_score=0.9),\n",
       "  CategorizedEntity(text=personnel, category=PersonType, subcategory=None, length=9, offset=72, confidence_score=0.79),\n",
       "  CategorizedEntity(text=chambres, category=Location, subcategory=None, length=8, offset=105, confidence_score=0.72)]]"
      ]
     },
     "execution_count": 45,
     "metadata": {},
     "output_type": "execute_result"
    }
   ],
   "source": [
    "[x.entities for x in entity_result]"
   ]
  },
  {
   "cell_type": "markdown",
   "id": "dd59c1ae",
   "metadata": {},
   "source": [
    "### Getting Linked Entities"
   ]
  },
  {
   "cell_type": "code",
   "execution_count": 46,
   "id": "5291069b",
   "metadata": {},
   "outputs": [],
   "source": [
    "Linked_entities = client.recognize_linked_entities(documents=documents)"
   ]
  },
  {
   "cell_type": "code",
   "execution_count": 47,
   "id": "e1fe6a9a",
   "metadata": {},
   "outputs": [
    {
     "data": {
      "text/plain": [
       "[RecognizeLinkedEntitiesResult(id=review1.txt, entities=[LinkedEntity(name=GOOD Music, matches=[LinkedEntityMatch(confidence_score=0.01, text=Good, length=4, offset=0)], language=en, data_source_entity_id=GOOD Music, url=https://en.wikipedia.org/wiki/GOOD_Music, data_source=Wikipedia, bing_entity_search_api_id=6f7d0967-026b-1507-79a9-c4e66b497716), LinkedEntity(name=Hotel, matches=[LinkedEntityMatch(confidence_score=0.01, text=Hotel, length=5, offset=5)], language=en, data_source_entity_id=Hotel, url=https://en.wikipedia.org/wiki/Hotel, data_source=Wikipedia, bing_entity_search_api_id=04997f43-c747-bdd9-e5fe-3fa762f7de51), LinkedEntity(name=The Royal Hotel, matches=[LinkedEntityMatch(confidence_score=0.67, text=The Royal Hotel, length=15, offset=21)], language=en, data_source_entity_id=The Royal Hotel, url=https://en.wikipedia.org/wiki/The_Royal_Hotel, data_source=Wikipedia, bing_entity_search_api_id=cab45def-b5e6-6ac4-ce02-697c74a3e578), LinkedEntity(name=London, matches=[LinkedEntityMatch(confidence_score=0.,\n",
       " RecognizeLinkedEntitiesResult(id=review2.txt, entities=[LinkedEntity(name=The Royal Hotel, matches=[LinkedEntityMatch(confidence_score=0.7, text=The Royal Hotel, length=15, offset=30)], language=en, data_source_entity_id=The Royal Hotel, url=https://en.wikipedia.org/wiki/The_Royal_Hotel, data_source=Wikipedia, bing_entity_search_api_id=cab45def-b5e6-6ac4-ce02-697c74a3e578), LinkedEntity(name=London, matches=[LinkedEntityMatch(confidence_score=0.91, text=London, United Kingdom, length=22, offset=47)], language=en, data_source_entity_id=London, url=https://en.wikipedia.org/wiki/London, data_source=Wikipedia, bing_entity_search_api_id=8e0ba7b6-4225-fa8a-6369-1b5294e602a5), LinkedEntity(name=British Museum, matches=[LinkedEntityMatch(confidence_score=0.8, text=the British Museum, length=18, offset=347)], language=en, data_source_entity_id=British Museum, url=https://en.wikipedia.org/wiki/British_Museum, data_source=Wikipedia, bing_entity_search_api_id=579aeb9d-5ce6-46c3-8efd-33328b661b0c)], warnings=[], statistic,\n",
       " RecognizeLinkedEntitiesResult(id=review3.txt, entities=[LinkedEntity(name=Lombardy, matches=[LinkedEntityMatch(confidence_score=0.08, text=Lombard, length=7, offset=57)], language=en, data_source_entity_id=Lombardy, url=https://en.wikipedia.org/wiki/Lombardy, data_source=Wikipedia, bing_entity_search_api_id=4e4d95c0-6e91-acd2-e10c-7165bc365e22), LinkedEntity(name=Hotel, matches=[LinkedEntityMatch(confidence_score=0.17, text=Hotel, length=5, offset=65)], language=en, data_source_entity_id=Hotel, url=https://en.wikipedia.org/wiki/Hotel, data_source=Wikipedia, bing_entity_search_api_id=04997f43-c747-bdd9-e5fe-3fa762f7de51), LinkedEntity(name=San Francisco, matches=[LinkedEntityMatch(confidence_score=0.89, text=San Francisco, USA, length=18, offset=72), LinkedEntityMatch(confidence_score=0.34, text=San Francisco, length=13, offset=388)], language=en, data_source_entity_id=San Francisco, url=https://en.wikipedia.org/wiki/San_Francisco, data_source=Wikipedia, bing_entity_search_api_id=37181124-e096-403d-a455-576a61,\n",
       " RecognizeLinkedEntitiesResult(id=review4.txt, entities=[LinkedEntity(name=Lombard, Illinois, matches=[LinkedEntityMatch(confidence_score=0.01, text=Lombard, length=7, offset=34)], language=en, data_source_entity_id=Lombard, Illinois, url=https://en.wikipedia.org/wiki/Lombard,_Illinois, data_source=Wikipedia, bing_entity_search_api_id=b761731d-e956-b0d8-f880-b1f53b3bef5f), LinkedEntity(name=Hotel, matches=[LinkedEntityMatch(confidence_score=0.22, text=Hotel, length=5, offset=42), LinkedEntityMatch(confidence_score=0.22, text=Hotel, length=5, offset=77)], language=en, data_source_entity_id=Hotel, url=https://en.wikipedia.org/wiki/Hotel, data_source=Wikipedia, bing_entity_search_api_id=04997f43-c747-bdd9-e5fe-3fa762f7de51), LinkedEntity(name=San Francisco, matches=[LinkedEntityMatch(confidence_score=0.89, text=San Francisco, USA, length=18, offset=49)], language=en, data_source_entity_id=San Francisco, url=https://en.wikipedia.org/wiki/San_Francisco, data_source=Wikipedia, bing_entity_search_api_id=37181124-e096,\n",
       " RecognizeLinkedEntitiesResult(id=review5.txt, entities=[LinkedEntity(name=United Nations, matches=[LinkedEntityMatch(confidence_score=0.15, text=Un, length=2, offset=0)], language=en, data_source_entity_id=United Nations, url=https://en.wikipedia.org/wiki/United_Nations, data_source=Wikipedia, bing_entity_search_api_id=745078b6-bda9-6c9c-3967-aeda6bb10099), LinkedEntity(name=L'Hôtel, matches=[LinkedEntityMatch(confidence_score=0.42, text=L'Hotel, length=7, offset=18)], language=en, data_source_entity_id=L'Hôtel, url=https://en.wikipedia.org/wiki/L'Hôtel, data_source=Wikipedia, bing_entity_search_api_id=03fab396-5939-54d5-502c-7692fe637b7b), LinkedEntity(name=Buckingham, matches=[LinkedEntityMatch(confidence_score=0.02, text=Buckingham, length=10, offset=26)], language=en, data_source_entity_id=Buckingham, url=https://en.wikipedia.org/wiki/Buckingham, data_source=Wikipedia, bing_entity_search_api_id=c1c2979f-a8dc-9042-8fa4-d0fc332e2170), LinkedEntity(name=London, matches=[LinkedEntityMatch(confidence_score=0.4]"
      ]
     },
     "execution_count": 47,
     "metadata": {},
     "output_type": "execute_result"
    }
   ],
   "source": [
    "Linked_entities"
   ]
  },
  {
   "cell_type": "code",
   "execution_count": 48,
   "id": "bffb45fc",
   "metadata": {},
   "outputs": [
    {
     "data": {
      "text/plain": [
       "[[LinkedEntity(name=GOOD Music, matches=[LinkedEntityMatch(confidence_score=0.01, text=Good, length=4, offset=0)], language=en, data_source_entity_id=GOOD Music, url=https://en.wikipedia.org/wiki/GOOD_Music, data_source=Wikipedia, bing_entity_search_api_id=6f7d0967-026b-1507-79a9-c4e66b497716),\n",
       "  LinkedEntity(name=Hotel, matches=[LinkedEntityMatch(confidence_score=0.01, text=Hotel, length=5, offset=5)], language=en, data_source_entity_id=Hotel, url=https://en.wikipedia.org/wiki/Hotel, data_source=Wikipedia, bing_entity_search_api_id=04997f43-c747-bdd9-e5fe-3fa762f7de51),\n",
       "  LinkedEntity(name=The Royal Hotel, matches=[LinkedEntityMatch(confidence_score=0.67, text=The Royal Hotel, length=15, offset=21)], language=en, data_source_entity_id=The Royal Hotel, url=https://en.wikipedia.org/wiki/The_Royal_Hotel, data_source=Wikipedia, bing_entity_search_api_id=cab45def-b5e6-6ac4-ce02-697c74a3e578),\n",
       "  LinkedEntity(name=London, matches=[LinkedEntityMatch(confidence_score=0.92, text=London, UK, length=10, offset=38)], language=en, data_source_entity_id=London, url=https://en.wikipedia.org/wiki/London, data_source=Wikipedia, bing_entity_search_api_id=8e0ba7b6-4225-fa8a-6369-1b5294e602a5),\n",
       "  LinkedEntity(name=Buckingham Palace, matches=[LinkedEntityMatch(confidence_score=0.89, text=Buckingham Palace, length=17, offset=105)], language=en, data_source_entity_id=Buckingham Palace, url=https://en.wikipedia.org/wiki/Buckingham_Palace, data_source=Wikipedia, bing_entity_search_api_id=9b8289bc-f032-6c70-1694-a8a1958c341b),\n",
       "  LinkedEntity(name=Westminster Abbey, matches=[LinkedEntityMatch(confidence_score=0.04, text=Westminster Abbey, length=17, offset=127)], language=en, data_source_entity_id=Westminster Abbey, url=https://en.wikipedia.org/wiki/Westminster_Abbey, data_source=Wikipedia, bing_entity_search_api_id=e96d3105-9f20-09d1-7e2d-ed0020a4a003),\n",
       "  LinkedEntity(name=India, matches=[LinkedEntityMatch(confidence_score=0.07, text=Indian, length=6, offset=287)], language=en, data_source_entity_id=India, url=https://en.wikipedia.org/wiki/India, data_source=Wikipedia, bing_entity_search_api_id=85fa63d3-9596-adb9-b4eb-502273d84f56),\n",
       "  LinkedEntity(name=West Coast Main Line, matches=[LinkedEntityMatch(confidence_score=0.05, text=West coast, length=10, offset=296)], language=en, data_source_entity_id=West Coast Main Line, url=https://en.wikipedia.org/wiki/West_Coast_Main_Line, data_source=Wikipedia, bing_entity_search_api_id=3266831d-24ff-365f-6f6d-7b27348026d5),\n",
       "  LinkedEntity(name=Michelin Guide, matches=[LinkedEntityMatch(confidence_score=0.82, text=Michelin Star, length=13, offset=333)], language=en, data_source_entity_id=Michelin Guide, url=https://en.wikipedia.org/wiki/Michelin_Guide, data_source=Wikipedia, bing_entity_search_api_id=4792be63-925e-6086-674f-92ccb13cd4b0)],\n",
       " [LinkedEntity(name=The Royal Hotel, matches=[LinkedEntityMatch(confidence_score=0.7, text=The Royal Hotel, length=15, offset=30)], language=en, data_source_entity_id=The Royal Hotel, url=https://en.wikipedia.org/wiki/The_Royal_Hotel, data_source=Wikipedia, bing_entity_search_api_id=cab45def-b5e6-6ac4-ce02-697c74a3e578),\n",
       "  LinkedEntity(name=London, matches=[LinkedEntityMatch(confidence_score=0.91, text=London, United Kingdom, length=22, offset=47)], language=en, data_source_entity_id=London, url=https://en.wikipedia.org/wiki/London, data_source=Wikipedia, bing_entity_search_api_id=8e0ba7b6-4225-fa8a-6369-1b5294e602a5),\n",
       "  LinkedEntity(name=British Museum, matches=[LinkedEntityMatch(confidence_score=0.8, text=the British Museum, length=18, offset=347)], language=en, data_source_entity_id=British Museum, url=https://en.wikipedia.org/wiki/British_Museum, data_source=Wikipedia, bing_entity_search_api_id=579aeb9d-5ce6-46c3-8efd-33328b661b0c)],\n",
       " [LinkedEntity(name=Lombardy, matches=[LinkedEntityMatch(confidence_score=0.08, text=Lombard, length=7, offset=57)], language=en, data_source_entity_id=Lombardy, url=https://en.wikipedia.org/wiki/Lombardy, data_source=Wikipedia, bing_entity_search_api_id=4e4d95c0-6e91-acd2-e10c-7165bc365e22),\n",
       "  LinkedEntity(name=Hotel, matches=[LinkedEntityMatch(confidence_score=0.17, text=Hotel, length=5, offset=65)], language=en, data_source_entity_id=Hotel, url=https://en.wikipedia.org/wiki/Hotel, data_source=Wikipedia, bing_entity_search_api_id=04997f43-c747-bdd9-e5fe-3fa762f7de51),\n",
       "  LinkedEntity(name=San Francisco, matches=[LinkedEntityMatch(confidence_score=0.89, text=San Francisco, USA, length=18, offset=72), LinkedEntityMatch(confidence_score=0.34, text=San Francisco, length=13, offset=388)], language=en, data_source_entity_id=San Francisco, url=https://en.wikipedia.org/wiki/San_Francisco, data_source=Wikipedia, bing_entity_search_api_id=37181124-e096-403d-a455-576a61b83525),\n",
       "  LinkedEntity(name=Chestnut Street (Philadelphia), matches=[LinkedEntityMatch(confidence_score=0.08, text=Chestnut Street, length=15, offset=197)], language=en, data_source_entity_id=Chestnut Street (Philadelphia), url=https://en.wikipedia.org/wiki/Chestnut_Street_(Philadelphia), data_source=Wikipedia, bing_entity_search_api_id=9f65c513-55ca-4f98-58a9-9508473cda70),\n",
       "  LinkedEntity(name=Marina District, San Francisco, matches=[LinkedEntityMatch(confidence_score=0.43, text=Marina district, length=15, offset=292), LinkedEntityMatch(confidence_score=0.25, text=Marina, length=6, offset=430)], language=en, data_source_entity_id=Marina District, San Francisco, url=https://en.wikipedia.org/wiki/Marina_District,_San_Francisco, data_source=Wikipedia, bing_entity_search_api_id=7390004d-d137-7d95-dd1d-2927617aee7d),\n",
       "  LinkedEntity(name=Museum of Fine Arts, Boston, matches=[LinkedEntityMatch(confidence_score=0.07, text=Museum of Fine Arts, length=19, offset=402)], language=en, data_source_entity_id=Museum of Fine Arts, Boston, url=https://en.wikipedia.org/wiki/Museum_of_Fine_Arts,_Boston, data_source=Wikipedia, bing_entity_search_api_id=371495e8-f1cf-0906-0cfe-75499ae82885),\n",
       "  LinkedEntity(name=Golden Gate Bridge, matches=[LinkedEntityMatch(confidence_score=0.33, text=Golden Gate bridge, length=18, offset=459)], language=en, data_source_entity_id=Golden Gate Bridge, url=https://en.wikipedia.org/wiki/Golden_Gate_Bridge, data_source=Wikipedia, bing_entity_search_api_id=9e61e411-4e4e-9aa4-de16-704ab00a1d57),\n",
       "  LinkedEntity(name=Room, matches=[LinkedEntityMatch(confidence_score=0.23, text=Rooms, length=5, offset=536)], language=en, data_source_entity_id=Room, url=https://en.wikipedia.org/wiki/Room, data_source=Wikipedia, bing_entity_search_api_id=3511a1b8-c27b-01ca-ce9b-8e59ce2d52ce),\n",
       "  LinkedEntity(name=Lombard Street (San Francisco), matches=[LinkedEntityMatch(confidence_score=0.13, text=Lombard Street, length=14, offset=648)], language=en, data_source_entity_id=Lombard Street (San Francisco), url=https://en.wikipedia.org/wiki/Lombard_Street_(San_Francisco), data_source=Wikipedia, bing_entity_search_api_id=4cf731c2-a9aa-291b-c056-4dace4ff3a04)],\n",
       " [LinkedEntity(name=Lombard, Illinois, matches=[LinkedEntityMatch(confidence_score=0.01, text=Lombard, length=7, offset=34)], language=en, data_source_entity_id=Lombard, Illinois, url=https://en.wikipedia.org/wiki/Lombard,_Illinois, data_source=Wikipedia, bing_entity_search_api_id=b761731d-e956-b0d8-f880-b1f53b3bef5f),\n",
       "  LinkedEntity(name=Hotel, matches=[LinkedEntityMatch(confidence_score=0.22, text=Hotel, length=5, offset=42), LinkedEntityMatch(confidence_score=0.22, text=Hotel, length=5, offset=77)], language=en, data_source_entity_id=Hotel, url=https://en.wikipedia.org/wiki/Hotel, data_source=Wikipedia, bing_entity_search_api_id=04997f43-c747-bdd9-e5fe-3fa762f7de51),\n",
       "  LinkedEntity(name=San Francisco, matches=[LinkedEntityMatch(confidence_score=0.89, text=San Francisco, USA, length=18, offset=49)], language=en, data_source_entity_id=San Francisco, url=https://en.wikipedia.org/wiki/San_Francisco, data_source=Wikipedia, bing_entity_search_api_id=37181124-e096-403d-a455-576a61b83525),\n",
       "  LinkedEntity(name=Lombard Street (San Francisco), matches=[LinkedEntityMatch(confidence_score=0.21, text=Lombard street, length=14, offset=97)], language=en, data_source_entity_id=Lombard Street (San Francisco), url=https://en.wikipedia.org/wiki/Lombard_Street_(San_Francisco), data_source=Wikipedia, bing_entity_search_api_id=4cf731c2-a9aa-291b-c056-4dace4ff3a04),\n",
       "  LinkedEntity(name=Golden Gate Bridge, matches=[LinkedEntityMatch(confidence_score=0.32, text=Golden Gate Bridge, length=18, offset=166)], language=en, data_source_entity_id=Golden Gate Bridge, url=https://en.wikipedia.org/wiki/Golden_Gate_Bridge, data_source=Wikipedia, bing_entity_search_api_id=9e61e411-4e4e-9aa4-de16-704ab00a1d57),\n",
       "  LinkedEntity(name=Traffic, matches=[LinkedEntityMatch(confidence_score=0.07, text=Traffic, length=7, offset=186)], language=en, data_source_entity_id=Traffic, url=https://en.wikipedia.org/wiki/Traffic, data_source=Wikipedia, bing_entity_search_api_id=21b98aed-53a3-6202-056a-591c20ba9754),\n",
       "  LinkedEntity(name=Noise rock, matches=[LinkedEntityMatch(confidence_score=0.05, text=Noise, length=5, offset=257)], language=en, data_source_entity_id=Noise rock, url=https://en.wikipedia.org/wiki/Noise_rock, data_source=Wikipedia, bing_entity_search_api_id=c0c9234c-35a1-5da5-36d4-133133021fb0),\n",
       "  LinkedEntity(name=Room, matches=[LinkedEntityMatch(confidence_score=0.07, text=Rooms, length=5, offset=434)], language=en, data_source_entity_id=Room, url=https://en.wikipedia.org/wiki/Room, data_source=Wikipedia, bing_entity_search_api_id=3511a1b8-c27b-01ca-ce9b-8e59ce2d52ce),\n",
       "  LinkedEntity(name=Marina District, San Francisco, matches=[LinkedEntityMatch(confidence_score=0.38, text=Marina district, length=15, offset=688)], language=en, data_source_entity_id=Marina District, San Francisco, url=https://en.wikipedia.org/wiki/Marina_District,_San_Francisco, data_source=Wikipedia, bing_entity_search_api_id=7390004d-d137-7d95-dd1d-2927617aee7d),\n",
       "  LinkedEntity(name=Presidio of San Francisco, matches=[LinkedEntityMatch(confidence_score=0.22, text=Presidio, length=8, offset=764)], language=en, data_source_entity_id=Presidio of San Francisco, url=https://en.wikipedia.org/wiki/Presidio_of_San_Francisco, data_source=Wikipedia, bing_entity_search_api_id=edf05faa-5150-4062-aef0-0a1b03b4c228),\n",
       "  LinkedEntity(name=May, matches=[LinkedEntityMatch(confidence_score=0.05, text=May, length=3, offset=774)], language=en, data_source_entity_id=May, url=https://en.wikipedia.org/wiki/May, data_source=Wikipedia, bing_entity_search_api_id=0775097e-ad43-3b5d-1e37-cf1ba2f99811)],\n",
       " [LinkedEntity(name=United Nations, matches=[LinkedEntityMatch(confidence_score=0.15, text=Un, length=2, offset=0)], language=en, data_source_entity_id=United Nations, url=https://en.wikipedia.org/wiki/United_Nations, data_source=Wikipedia, bing_entity_search_api_id=745078b6-bda9-6c9c-3967-aeda6bb10099),\n",
       "  LinkedEntity(name=L'Hôtel, matches=[LinkedEntityMatch(confidence_score=0.42, text=L'Hotel, length=7, offset=18)], language=en, data_source_entity_id=L'Hôtel, url=https://en.wikipedia.org/wiki/L'Hôtel, data_source=Wikipedia, bing_entity_search_api_id=03fab396-5939-54d5-502c-7692fe637b7b),\n",
       "  LinkedEntity(name=Buckingham, matches=[LinkedEntityMatch(confidence_score=0.02, text=Buckingham, length=10, offset=26)], language=en, data_source_entity_id=Buckingham, url=https://en.wikipedia.org/wiki/Buckingham, data_source=Wikipedia, bing_entity_search_api_id=c1c2979f-a8dc-9042-8fa4-d0fc332e2170),\n",
       "  LinkedEntity(name=London, matches=[LinkedEntityMatch(confidence_score=0.49, text=Londres, length=7, offset=38)], language=en, data_source_entity_id=London, url=https://en.wikipedia.org/wiki/London, data_source=Wikipedia, bing_entity_search_api_id=8e0ba7b6-4225-fa8a-6369-1b5294e602a5),\n",
       "  LinkedEntity(name=United Kingdom, matches=[LinkedEntityMatch(confidence_score=0.09, text=UK, length=2, offset=47)], language=en, data_source_entity_id=United Kingdom, url=https://en.wikipedia.org/wiki/United_Kingdom, data_source=Wikipedia, bing_entity_search_api_id=b1a5155a-6bb2-4646-8f7c-3e6b3a53c831)]]"
      ]
     },
     "execution_count": 48,
     "metadata": {},
     "output_type": "execute_result"
    }
   ],
   "source": [
    "[x.entities for x in Linked_entities]"
   ]
  },
  {
   "cell_type": "markdown",
   "id": "a890aeb5",
   "metadata": {},
   "source": [
    "### Get Text Summary"
   ]
  },
  {
   "cell_type": "code",
   "execution_count": 32,
   "id": "727ad2fb",
   "metadata": {},
   "outputs": [],
   "source": [
    "document = [\n",
    "        \"The extractive summarization feature uses natural language processing techniques to locate key sentences in an unstructured text document. \"\n",
    "        \"These sentences collectively convey the main idea of the document. This feature is provided as an API for developers. \" \n",
    "        \"They can use it to build intelligent solutions based on the relevant information extracted to support various use cases. \"\n",
    "        \"Extractive summarization supports several languages. It is based on pretrained multilingual transformer models, part of our quest for holistic representations. \"\n",
    "        \"It draws its strength from transfer learning across monolingual and harness the shared nature of languages to produce models of improved quality and efficiency. \"\n",
    "    ]"
   ]
  },
  {
   "cell_type": "code",
   "execution_count": 33,
   "id": "deed1347",
   "metadata": {},
   "outputs": [],
   "source": [
    "poller = client.begin_analyze_actions(documents= document,\n",
    "                                       actions=[\n",
    "            ExtractiveSummaryAction(max_sentence_count=1)\n",
    "        ])"
   ]
  },
  {
   "cell_type": "code",
   "execution_count": 34,
   "id": "949175f1",
   "metadata": {},
   "outputs": [],
   "source": [
    "document_results = poller.result()"
   ]
  },
  {
   "cell_type": "code",
   "execution_count": 36,
   "id": "76e0937a",
   "metadata": {},
   "outputs": [
    {
     "name": "stdout",
     "output_type": "stream",
     "text": [
      "Summary extracted: \n",
      "The extractive summarization feature uses natural language processing techniques to locate key sentences in an unstructured text document.\n"
     ]
    }
   ],
   "source": [
    "for result in document_results:\n",
    "    extract_summary_result = result[0]  # first document, first result\n",
    "    if extract_summary_result.is_error:\n",
    "        print(\"...Is an error with code '{}' and message '{}'\".format(\n",
    "            extract_summary_result.code, extract_summary_result.message\n",
    "        ))\n",
    "    else:\n",
    "        print(\"Summary extracted: \\n{}\".format(\n",
    "            \" \".join([sentence.text for sentence in extract_summary_result.sentences]))\n",
    "        )"
   ]
  },
  {
   "cell_type": "code",
   "execution_count": null,
   "id": "eb40f177",
   "metadata": {},
   "outputs": [],
   "source": []
  }
 ],
 "metadata": {
  "kernelspec": {
   "display_name": "Python 3",
   "language": "python",
   "name": "python3"
  },
  "language_info": {
   "codemirror_mode": {
    "name": "ipython",
    "version": 3
   },
   "file_extension": ".py",
   "mimetype": "text/x-python",
   "name": "python",
   "nbconvert_exporter": "python",
   "pygments_lexer": "ipython3",
   "version": "3.13.1"
  }
 },
 "nbformat": 4,
 "nbformat_minor": 5
}
