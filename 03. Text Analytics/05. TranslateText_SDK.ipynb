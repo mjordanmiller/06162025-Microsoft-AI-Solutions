{
 "cells": [
  {
   "cell_type": "markdown",
   "id": "1260a923",
   "metadata": {},
   "source": [
    "Azure's Translator service offers 3 main functionalities through the translation API: Detect, Translate, and Tranliterate <br/>\n",
    "Use the Text Translation client library for Python to:\n",
    "- Return a list of languages supported by Translate, Transliterate, and Dictionary operations.\n",
    "- Render single source-language text to multiple target-language texts with a single request.\n",
    "- Convert text of a source language in letters of a different script.\n",
    "- Return equivalent words for the source term in the target language.\n",
    "- Return grammatical structure and context examples for the source term and target term pair."
   ]
  },
  {
   "cell_type": "markdown",
   "id": "27f492df",
   "metadata": {},
   "source": [
    "### Prerequisites\n",
    "- An existing Translator service or Cognitive Services resource."
   ]
  },
  {
   "cell_type": "code",
   "execution_count": 1,
   "id": "1201f761",
   "metadata": {},
   "outputs": [
    {
     "name": "stdout",
     "output_type": "stream",
     "text": [
      "Defaulting to user installation because normal site-packages is not writeable\n",
      "Collecting azure-ai-translation-text\n",
      "  Downloading azure_ai_translation_text-1.0.1-py3-none-any.whl.metadata (18 kB)\n",
      "Requirement already satisfied: isodate>=0.6.1 in c:\\users\\jordanmiller\\appdata\\roaming\\python\\python313\\site-packages (from azure-ai-translation-text) (0.7.2)\n",
      "Requirement already satisfied: azure-core>=1.30.0 in c:\\users\\jordanmiller\\appdata\\roaming\\python\\python313\\site-packages (from azure-ai-translation-text) (1.32.0)\n",
      "Requirement already satisfied: typing-extensions>=4.6.0 in c:\\users\\jordanmiller\\appdata\\roaming\\python\\python313\\site-packages (from azure-ai-translation-text) (4.13.0)\n",
      "Requirement already satisfied: requests>=2.21.0 in c:\\users\\jordanmiller\\appdata\\roaming\\python\\python313\\site-packages (from azure-core>=1.30.0->azure-ai-translation-text) (2.32.3)\n",
      "Requirement already satisfied: six>=1.11.0 in c:\\users\\jordanmiller\\appdata\\roaming\\python\\python313\\site-packages (from azure-core>=1.30.0->azure-ai-translation-text) (1.17.0)\n",
      "Requirement already satisfied: charset-normalizer<4,>=2 in c:\\users\\jordanmiller\\appdata\\roaming\\python\\python313\\site-packages (from requests>=2.21.0->azure-core>=1.30.0->azure-ai-translation-text) (3.4.1)\n",
      "Requirement already satisfied: idna<4,>=2.5 in c:\\users\\jordanmiller\\appdata\\roaming\\python\\python313\\site-packages (from requests>=2.21.0->azure-core>=1.30.0->azure-ai-translation-text) (3.10)\n",
      "Requirement already satisfied: urllib3<3,>=1.21.1 in c:\\users\\jordanmiller\\appdata\\roaming\\python\\python313\\site-packages (from requests>=2.21.0->azure-core>=1.30.0->azure-ai-translation-text) (2.3.0)\n",
      "Requirement already satisfied: certifi>=2017.4.17 in c:\\users\\jordanmiller\\appdata\\roaming\\python\\python313\\site-packages (from requests>=2.21.0->azure-core>=1.30.0->azure-ai-translation-text) (2025.1.31)\n",
      "Downloading azure_ai_translation_text-1.0.1-py3-none-any.whl (87 kB)\n",
      "Installing collected packages: azure-ai-translation-text\n",
      "Successfully installed azure-ai-translation-text-1.0.1\n"
     ]
    }
   ],
   "source": [
    "!pip install azure-ai-translation-text"
   ]
  },
  {
   "cell_type": "code",
   "execution_count": 2,
   "id": "47c5b060",
   "metadata": {},
   "outputs": [],
   "source": [
    "#import necessary libraries\n",
    "from azure.ai.translation.text import TextTranslationClient\n",
    "from azure.core.credentials import AzureKeyCredential\n",
    "import os\n",
    "from dotenv import load_dotenv"
   ]
  },
  {
   "cell_type": "code",
   "execution_count": 3,
   "id": "09cde8fb",
   "metadata": {},
   "outputs": [
    {
     "data": {
      "text/plain": [
       "True"
      ]
     },
     "execution_count": 3,
     "metadata": {},
     "output_type": "execute_result"
    }
   ],
   "source": [
    "#load environment variables\n",
    "load_dotenv()"
   ]
  },
  {
   "cell_type": "code",
   "execution_count": 5,
   "id": "c3d7555c",
   "metadata": {},
   "outputs": [],
   "source": [
    "#load in environment variables\n",
    "translator_endpoint = os.getenv(\"TRANSLATOR_ENDPOINT\")\n",
    "translator_key = os.getenv(\"TRANSLATOR_KEY\")"
   ]
  },
  {
   "cell_type": "code",
   "execution_count": 6,
   "id": "a2ab97b5",
   "metadata": {},
   "outputs": [],
   "source": [
    "#initialize the client\n",
    "region = 'eastus'\n",
    "credential = AzureKeyCredential(translator_key)\n",
    "text_translator = TextTranslationClient(credential=credential, region=region)"
   ]
  },
  {
   "cell_type": "code",
   "execution_count": 16,
   "id": "8283313d",
   "metadata": {},
   "outputs": [
    {
     "data": {
      "text/plain": [
       "{'name': 'English', 'nativeName': 'English', 'dir': 'ltr'}"
      ]
     },
     "execution_count": 16,
     "metadata": {},
     "output_type": "execute_result"
    }
   ],
   "source": [
    "#Look up the languages supported by the service\n",
    "languages = text_translator.get_supported_languages()\n",
    "\n",
    "languages['translation']['en']\n",
    "\n",
    "\n"
   ]
  },
  {
   "cell_type": "markdown",
   "id": "5f7992f7",
   "metadata": {},
   "source": [
    "Response looks something like this:\n",
    "```json\n",
    "{\n",
    "  \"dictionary\": {\n",
    "      \"dir\": \"str\",            // Directionality: \"rtl\" (right-to-left) or \"ltr\" (left-to-right). Required.\n",
    "      \"name\": \"str\",           // Display name of the language in the locale requested via Accept-Language header. Required.\n",
    "      \"nativeName\": \"str\",     // Display name of the language in the locale native for this language. Required.\n",
    "      }\n",
    "}\n"
   ]
  },
  {
   "cell_type": "code",
   "execution_count": 26,
   "id": "a19802d0",
   "metadata": {},
   "outputs": [
    {
     "data": {
      "text/plain": [
       "{'name': 'Japanese', 'nativeName': '日本語', 'scripts': [{'code': 'Jpan', 'name': 'Japanese', 'nativeName': '日本語の文字', 'dir': 'ltr', 'toScripts': [{'code': 'Latn', 'name': 'Latin', 'nativeName': 'ラテン文字', 'dir': 'ltr'}]}, {'code': 'Latn', 'name': 'Latin', 'nativeName': 'ラテン文字', 'dir': 'ltr', 'toScripts': [{'code': 'Jpan', 'name': 'Japanese', 'nativeName': '日本語の文字', 'dir': 'ltr'}]}]}"
      ]
     },
     "execution_count": 26,
     "metadata": {},
     "output_type": "execute_result"
    }
   ],
   "source": [
    "#see all languages supported by transliteration\n",
    "\n",
    "#languages.transliteration.get('en', None)\n",
    "languages.transliteration.get('ja', None)"
   ]
  },
  {
   "cell_type": "markdown",
   "id": "8f833547",
   "metadata": {},
   "source": [
    "```json\n",
    "{\n",
    "  \"transliteration\": {\n",
    "    \"str\": {\n",
    "      \"name\": \"str\",           // Display name of the language in the requested locale. Required.\n",
    "      \"nativeName\": \"str\",     // Display name of the language in its native locale. Required.\n",
    "      \"scripts\": [\n",
    "        {\n",
    "          \"code\": \"str\",       // Code identifying the script. Required.\n",
    "          \"dir\": \"str\",        // Directionality: \"rtl\" (right-to-left) or \"ltr\" (left-to-right). Required.\n",
    "          \"name\": \"str\",       // Display name of the script in the requested locale. Required.\n",
    "          \"nativeName\": \"str\", // Display name of the script in its native locale. Required.\n",
    "          \"toScripts\": [\n",
    "            {\n",
    "              \"code\": \"str\",       // Code identifying the target script. Required.\n",
    "              \"dir\": \"str\",        // Directionality: \"rtl\" or \"ltr\". Required.\n",
    "              \"name\": \"str\",       // Display name of the target script in the requested locale. Required.\n",
    "              \"nativeName\": \"str\"  // Display name of the target script in its native locale. Required.\n",
    "            }\n",
    "          ]\n",
    "        }\n",
    "      ]\n",
    "    }\n",
    "  }\n",
    "}\n"
   ]
  },
  {
   "cell_type": "markdown",
   "id": "8deb2edc",
   "metadata": {},
   "source": [
    "### Performing Translation"
   ]
  },
  {
   "cell_type": "code",
   "execution_count": null,
   "id": "faaf347d",
   "metadata": {},
   "outputs": [],
   "source": []
  },
  {
   "cell_type": "markdown",
   "id": "7ceeca18",
   "metadata": {},
   "source": [
    "### Performing Transliteration"
   ]
  },
  {
   "cell_type": "code",
   "execution_count": null,
   "id": "95cb16ab",
   "metadata": {},
   "outputs": [],
   "source": []
  },
  {
   "cell_type": "markdown",
   "id": "ddba57cc",
   "metadata": {},
   "source": [
    "### \"Break Sentence\" (Finding Sentence Boundaries)"
   ]
  },
  {
   "cell_type": "code",
   "execution_count": null,
   "id": "869a6390",
   "metadata": {},
   "outputs": [],
   "source": []
  },
  {
   "cell_type": "markdown",
   "id": "f7c3491d",
   "metadata": {},
   "source": [
    "### Dictionary Lookup"
   ]
  },
  {
   "cell_type": "code",
   "execution_count": null,
   "id": "a7ca0f4d",
   "metadata": {},
   "outputs": [],
   "source": []
  }
 ],
 "metadata": {
  "kernelspec": {
   "display_name": "Python 3",
   "language": "python",
   "name": "python3"
  },
  "language_info": {
   "codemirror_mode": {
    "name": "ipython",
    "version": 3
   },
   "file_extension": ".py",
   "mimetype": "text/x-python",
   "name": "python",
   "nbconvert_exporter": "python",
   "pygments_lexer": "ipython3",
   "version": "3.13.5"
  }
 },
 "nbformat": 4,
 "nbformat_minor": 5
}
