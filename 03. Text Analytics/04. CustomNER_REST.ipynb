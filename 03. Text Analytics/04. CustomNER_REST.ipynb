{
 "cells": [
  {
   "cell_type": "markdown",
   "id": "14e37e94",
   "metadata": {},
   "source": [
    "So essentially what we have, and this is a little bit off of what you might think of the use case for this, but it is a great fit for.\n",
    "So if we were to open up these, what we have is a bunch of loan agreements. Just print it off the text files here. You know, maybe they had an export as text or they saved the text in the file.\n",
    "Could be a PDF file too, just adds processing you got to do. So this is a loan agreement. So they have sections like parties, amounts, interest, payment, terms, prepayment.\n",
    "So we have all these sections that are going to be relatively similar, right? You know, it's going to know that like the interest value is going to be listed under the interest section. So if we were to open up another one of these, you know, the parties change, the amounts and the terms change, but still largely looking at the same form. So, you know, as a business, we might have thousands of loans that we've given out all using that same template.\n",
    "And so what we might realize is we're like, hey, now that we're digitizing this, we need to have a way to extract the parties and the terms and the addresses and all of that off of it. "
   ]
  },
  {
   "cell_type": "markdown",
   "id": "eb1d4054",
   "metadata": {},
   "source": [
    "Note:\n",
    "\n",
    "We have text articles in the data folder and a json with labels for each <br/>\n",
    "The json has a field for `storageInputContainerName`. This needs to match the container name in Azure Storage acct"
   ]
  },
  {
   "cell_type": "markdown",
   "id": "e99a31f0",
   "metadata": {},
   "source": [
    "### Prerequisites\n",
    "\n",
    "- Make sure you have a language resource and a storage account created\n",
    "-  [Link for setting that up here](https://learn.microsoft.com/en-us/azure/ai-services/language-service/custom-named-entity-recognition/how-to/create-project?tabs=portal%2Clanguage-studio#using-a-pre-existing-language-resource)"
   ]
  },
  {
   "cell_type": "code",
   "execution_count": 1,
   "id": "60bb7071",
   "metadata": {},
   "outputs": [],
   "source": [
    "# We will use the API for this rather than the SDK"
   ]
  },
  {
   "cell_type": "code",
   "execution_count": 2,
   "id": "0e87d196",
   "metadata": {},
   "outputs": [],
   "source": [
    "import requests, json, os, time\n",
    "from dotenv import load_dotenv"
   ]
  },
  {
   "cell_type": "code",
   "execution_count": 3,
   "id": "22f827b7",
   "metadata": {},
   "outputs": [
    {
     "data": {
      "text/plain": [
       "True"
      ]
     },
     "execution_count": 3,
     "metadata": {},
     "output_type": "execute_result"
    }
   ],
   "source": [
    "load_dotenv()"
   ]
  },
  {
   "cell_type": "code",
   "execution_count": 6,
   "id": "4d31ad17",
   "metadata": {},
   "outputs": [],
   "source": [
    "key = os.environ['S0_LANGUAGE_KEY']\n",
    "base_url = os.environ['S0_LANGUAGE_ENDPOINT']\n",
    "projectName = 'LoanAgreement'\n",
    "API_version = '2022-05-01'"
   ]
  },
  {
   "cell_type": "markdown",
   "id": "ecbc368c",
   "metadata": {},
   "source": [
    "#### Steps\n",
    "\n",
    "- Import the Data (with labels)\n",
    "- Train the model\n",
    "- Deploy the model\n",
    "- Make Predictions"
   ]
  },
  {
   "cell_type": "code",
   "execution_count": 10,
   "id": "92f6bd46",
   "metadata": {},
   "outputs": [],
   "source": [
    "#using the quickstart"
   ]
  },
  {
   "cell_type": "code",
   "execution_count": 7,
   "id": "13c0bdbd",
   "metadata": {},
   "outputs": [],
   "source": [
    "endpoint = f'{base_url}/language/authoring/analyze-text/projects/{projectName}/:import?api-version={API_version}'"
   ]
  },
  {
   "cell_type": "code",
   "execution_count": 9,
   "id": "33a2387c",
   "metadata": {},
   "outputs": [
    {
     "data": {
      "text/plain": [
       "'https://ai-language-qna.cognitiveservices.azure.com//language/authoring/analyze-text/projects/LoanAgreement/:import?api-version=2022-05-01'"
      ]
     },
     "execution_count": 9,
     "metadata": {},
     "output_type": "execute_result"
    }
   ],
   "source": [
    "endpoint"
   ]
  },
  {
   "cell_type": "code",
   "execution_count": 11,
   "id": "269fb038",
   "metadata": {},
   "outputs": [],
   "source": [
    "headers = {\n",
    "    'Ocp-Apim-Subscription-Key': key,\n",
    "    'Content-Type': 'application/json'\n",
    "    }"
   ]
  },
  {
   "cell_type": "code",
   "execution_count": 23,
   "id": "f8a8ba13",
   "metadata": {},
   "outputs": [],
   "source": [
    "#read the label file\n",
    "label_file = '04a. loanAgreementsLabels.json'\n",
    "with open(label_file, 'r') as f:\n",
    "    data = json.load(f)"
   ]
  },
  {
   "cell_type": "code",
   "execution_count": 24,
   "id": "90c13ec6",
   "metadata": {},
   "outputs": [],
   "source": [
    "response = requests.post(endpoint, headers=headers, json=data)\n",
    "operation_location = response.headers['operation-location']\n",
    "\n",
    "'''\n",
    "you can check if a key is in a dictionary by doing:\n",
    "if 'key_name' in dictionary:\n",
    "    # do something\n",
    "else:\n",
    "    # do something else\n",
    "\n",
    "This is helpful bc if the operation fails, the response will not contain the 'operation-location' header.\n",
    "''';"
   ]
  },
  {
   "cell_type": "code",
   "execution_count": 25,
   "id": "d11f7ac4",
   "metadata": {},
   "outputs": [
    {
     "data": {
      "text/plain": [
       "<Response [202]>"
      ]
     },
     "execution_count": 25,
     "metadata": {},
     "output_type": "execute_result"
    }
   ],
   "source": [
    "response"
   ]
  },
  {
   "cell_type": "code",
   "execution_count": 26,
   "id": "79fb6e63",
   "metadata": {},
   "outputs": [
    {
     "data": {
      "text/plain": [
       "'https://ai-language-qna.cognitiveservices.azure.com/language/authoring/analyze-text/projects/LoanAgreement/import/jobs/3a7756cc-249d-4236-9246-a4da5e3d7cf4_638874432000000000?api-version=2022-05-01'"
      ]
     },
     "execution_count": 26,
     "metadata": {},
     "output_type": "execute_result"
    }
   ],
   "source": [
    "operation_location"
   ]
  },
  {
   "cell_type": "code",
   "execution_count": 28,
   "id": "3ea12d1b",
   "metadata": {},
   "outputs": [],
   "source": [
    "#this allows us to check the status of our project and labeling job\n",
    "def check_status(operation_location):\n",
    "    status_response = requests.get(operation_location, headers=headers)\n",
    "    return status_response.json()"
   ]
  },
  {
   "cell_type": "code",
   "execution_count": 27,
   "id": "cc9a57f3",
   "metadata": {},
   "outputs": [
    {
     "data": {
      "text/plain": [
       "{'jobId': '3a7756cc-249d-4236-9246-a4da5e3d7cf4_638874432000000000',\n",
       " 'createdDateTime': '2025-07-07T19:47:46Z',\n",
       " 'lastUpdatedDateTime': '2025-07-07T19:47:48Z',\n",
       " 'expirationDateTime': '2025-07-14T19:47:46Z',\n",
       " 'status': 'succeeded'}"
      ]
     },
     "execution_count": 27,
     "metadata": {},
     "output_type": "execute_result"
    }
   ],
   "source": [
    "check_status(operation_location)"
   ]
  },
  {
   "cell_type": "markdown",
   "id": "b44b2d0b",
   "metadata": {},
   "source": [
    "Check the studio to make sure the project was created"
   ]
  },
  {
   "cell_type": "markdown",
   "id": "eab90995",
   "metadata": {},
   "source": [
    "### Let's Train The Model"
   ]
  },
  {
   "cell_type": "code",
   "execution_count": null,
   "id": "67e0fb7f",
   "metadata": {},
   "outputs": [],
   "source": [
    "def train_model(model_name):\n",
    "    #we will use the train endpoint to train the model rather than the import one\n",
    "    endpoint = f'{base_url}/language/authoring/analyze-text/projects/{projectName}/:train?api-version={API_version}'\n",
    "    #headers are the same as before\n",
    "    headers = {\n",
    "    'Ocp-Apim-Subscription-Key': key,\n",
    "    'Content-Type': 'application/json'\n",
    "    }\n",
    "    #following the quickstart\n",
    "    body = {\n",
    "        \"modelLabel\": model_name,\n",
    "\t    \"trainingConfigVersion\": API_version,\n",
    "\t    \"evaluationOptions\": {\n",
    "\t\t    \"kind\": \"percentage\",\n",
    "\t\t    \"trainingSplitPercentage\": 80,\n",
    "\t\t    \"testingSplitPercentage\": 20\n",
    "            #there are more possible params here, but we will use the defaults\n",
    "\t    }\n",
    "    }\n",
    "\n",
    "    response = requests.post(endpoint, headers=headers, json=body)\n",
    "    #print(response.text)\n",
    "    operation_location = response.headers['operation-location']\n",
    "    return operation_location\n",
    "\n",
    "    "
   ]
  },
  {
   "cell_type": "code",
   "execution_count": null,
   "id": "73313c5a",
   "metadata": {},
   "outputs": [],
   "source": [
    "training_model = train_model('LoanAgreementModel')"
   ]
  },
  {
   "cell_type": "code",
   "execution_count": null,
   "id": "7309858b",
   "metadata": {},
   "outputs": [],
   "source": [
    "training_location = '4a4b92c7-91f1-456e-84d8-febb7fe6d39b_638874432000000000' #this can be found in the response.text that gets outputted by the train_model function\n",
    "#It is actually the training job ID"
   ]
  },
  {
   "cell_type": "code",
   "execution_count": 37,
   "id": "d3a534a9",
   "metadata": {},
   "outputs": [],
   "source": [
    "def check_training_status(training_location):\n",
    "    endpoint = f'{base_url}/language/authoring/analyze-text/projects/{projectName}/train/jobs/{training_location}?api-version={API_version}'\n",
    "    headers = {'Ocp-Apim-Subscription-Key': key}\n",
    "    status_response = requests.get(endpoint, headers=headers)\n",
    "    return status_response.json()"
   ]
  },
  {
   "cell_type": "code",
   "execution_count": 40,
   "id": "c367b38c",
   "metadata": {},
   "outputs": [
    {
     "data": {
      "text/plain": [
       "{'result': {'modelLabel': 'LoanAgreementModel',\n",
       "  'trainingConfigVersion': '2022-05-01',\n",
       "  'trainingStatus': {'percentComplete': 0, 'status': 'notStarted'},\n",
       "  'evaluationStatus': {'percentComplete': 0, 'status': 'notStarted'}},\n",
       " 'jobId': '4a4b92c7-91f1-456e-84d8-febb7fe6d39b_638874432000000000',\n",
       " 'createdDateTime': '2025-07-07T20:01:20Z',\n",
       " 'lastUpdatedDateTime': '2025-07-07T20:10:37Z',\n",
       " 'expirationDateTime': '2025-07-14T20:01:20Z',\n",
       " 'status': 'running',\n",
       " 'warnings': [{'code': 'Warning',\n",
       "   'message': 'Entity `Date` is tagged in `20` training dataset examples, it is recommended to have `200` tags for better model quality.'},\n",
       "  {'code': 'Warning',\n",
       "   'message': 'Entity `BorrowerName` is tagged in `20` training dataset examples, it is recommended to have `200` tags for better model quality.'},\n",
       "  {'code': 'Warning',\n",
       "   'message': 'Entity `BorrowerAddress` is tagged in `20` training dataset examples, it is recommended to have `200` tags for better model quality.'},\n",
       "  {'code': 'Warning',\n",
       "   'message': 'Entity `BorrowerCity` is tagged in `20` training dataset examples, it is recommended to have `200` tags for better model quality.'},\n",
       "  {'code': 'Warning',\n",
       "   'message': 'Entity `BorrowerState` is tagged in `20` training dataset examples, it is recommended to have `200` tags for better model quality.'},\n",
       "  {'code': 'Warning',\n",
       "   'message': 'Entity `LenderName` is tagged in `20` training dataset examples, it is recommended to have `200` tags for better model quality.'},\n",
       "  {'code': 'Warning',\n",
       "   'message': 'Entity `LenderAddress` is tagged in `20` training dataset examples, it is recommended to have `200` tags for better model quality.'},\n",
       "  {'code': 'Warning',\n",
       "   'message': 'Entity `LenderCity` is tagged in `20` training dataset examples, it is recommended to have `200` tags for better model quality.'},\n",
       "  {'code': 'Warning',\n",
       "   'message': 'Entity `LenderState` is tagged in `20` training dataset examples, it is recommended to have `200` tags for better model quality.'},\n",
       "  {'code': 'Warning',\n",
       "   'message': 'Entity `LoanAmountWords` is tagged in `20` training dataset examples, it is recommended to have `200` tags for better model quality.'}]}"
      ]
     },
     "execution_count": 40,
     "metadata": {},
     "output_type": "execute_result"
    }
   ],
   "source": [
    "check_training_status(training_location)"
   ]
  },
  {
   "cell_type": "code",
   "execution_count": null,
   "id": "6fe4b10f",
   "metadata": {},
   "outputs": [],
   "source": [
    "# Deploy the model"
   ]
  },
  {
   "cell_type": "code",
   "execution_count": null,
   "id": "d3e666c5",
   "metadata": {},
   "outputs": [],
   "source": [
    "#Test the model"
   ]
  }
 ],
 "metadata": {
  "kernelspec": {
   "display_name": "Python 3",
   "language": "python",
   "name": "python3"
  },
  "language_info": {
   "codemirror_mode": {
    "name": "ipython",
    "version": 3
   },
   "file_extension": ".py",
   "mimetype": "text/x-python",
   "name": "python",
   "nbconvert_exporter": "python",
   "pygments_lexer": "ipython3",
   "version": "3.13.1"
  }
 },
 "nbformat": 4,
 "nbformat_minor": 5
}
