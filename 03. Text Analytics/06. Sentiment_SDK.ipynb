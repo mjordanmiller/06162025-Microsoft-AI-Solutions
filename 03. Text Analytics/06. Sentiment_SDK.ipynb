{
 "cells": [
  {
   "cell_type": "code",
   "execution_count": null,
   "id": "c303b618",
   "metadata": {},
   "outputs": [],
   "source": [
    "!pip install azure-ai-textanalytics==5.2.0"
   ]
  },
  {
   "cell_type": "code",
   "execution_count": 1,
   "id": "b58191ed",
   "metadata": {},
   "outputs": [],
   "source": [
    "#import necessary libraries\n",
    "from azure.ai.textanalytics import TextAnalyticsClient\n",
    "from azure.core.credentials import AzureKeyCredential\n",
    "import os\n",
    "from dotenv import load_dotenv"
   ]
  },
  {
   "cell_type": "code",
   "execution_count": 2,
   "id": "f1e670bc",
   "metadata": {},
   "outputs": [
    {
     "data": {
      "text/plain": [
       "True"
      ]
     },
     "execution_count": 2,
     "metadata": {},
     "output_type": "execute_result"
    }
   ],
   "source": [
    "#load environment variables\n",
    "load_dotenv()"
   ]
  },
  {
   "cell_type": "code",
   "execution_count": 3,
   "id": "e69d09b2",
   "metadata": {},
   "outputs": [],
   "source": [
    "#constants\n",
    "LANGUAGE_ENDPOINT = os.getenv(\"LANGUAGE_ENDPOINT\")\n",
    "LANGUAGE_KEY = os.getenv(\"LANGUAGE_KEY\")"
   ]
  },
  {
   "cell_type": "code",
   "execution_count": 4,
   "id": "4818b687",
   "metadata": {},
   "outputs": [],
   "source": [
    "# Authenticate the client using your key and endpoint \n",
    "def authenticate_client():\n",
    "    ta_credential = AzureKeyCredential(LANGUAGE_KEY)\n",
    "    text_analytics_client = TextAnalyticsClient(\n",
    "            endpoint=LANGUAGE_ENDPOINT, \n",
    "            credential=ta_credential)\n",
    "    return text_analytics_client"
   ]
  },
  {
   "cell_type": "code",
   "execution_count": 5,
   "id": "ceb13f29",
   "metadata": {},
   "outputs": [],
   "source": [
    "client = authenticate_client()"
   ]
  },
  {
   "cell_type": "code",
   "execution_count": 6,
   "id": "eef1e6b3",
   "metadata": {},
   "outputs": [],
   "source": [
    "#creating one positive and two neutral documents\n",
    "documents = [\n",
    "    \"I love the new design of your website! It's so user-friendly and visually appealing.\",\n",
    "    \"The sky is blue.\",\n",
    "    \"Grass is green.\"\n",
    "]"
   ]
  },
  {
   "cell_type": "code",
   "execution_count": 7,
   "id": "616d3c1b",
   "metadata": {},
   "outputs": [],
   "source": [
    "result = client.analyze_sentiment(documents, show_opinion_mining=False)"
   ]
  },
  {
   "cell_type": "code",
   "execution_count": 8,
   "id": "0cd6c0b8",
   "metadata": {},
   "outputs": [
    {
     "data": {
      "text/plain": [
       "[AnalyzeSentimentResult(id=0, sentiment=positive, warnings=[], statistics=None, confidence_scores=SentimentConfidenceScores(positive=1.0, neutral=0.0, negative=0.0), sentences=[SentenceSentiment(text=I love the new design of your website! , sentiment=positive, confidence_scores=SentimentConfidenceScores(positive=1.0, neutral=0.0, negative=0.0), length=39, offset=0, mined_opinions=[]), SentenceSentiment(text=It's so user-friendly and visually appealing., sentiment=positive, confidence_scores=SentimentConfidenceScores(positive=1.0, neutral=0.0, negative=0.0), length=45, offset=39, mined_opinions=[])], is_error=False),\n",
       " AnalyzeSentimentResult(id=1, sentiment=neutral, warnings=[], statistics=None, confidence_scores=SentimentConfidenceScores(positive=0.0, neutral=0.99, negative=0.0), sentences=[SentenceSentiment(text=The sky is blue., sentiment=neutral, confidence_scores=SentimentConfidenceScores(positive=0.0, neutral=0.99, negative=0.0), length=16, offset=0, mined_opinions=[])], is_error=False),\n",
       " AnalyzeSentimentResult(id=2, sentiment=neutral, warnings=[], statistics=None, confidence_scores=SentimentConfidenceScores(positive=0.03, neutral=0.97, negative=0.0), sentences=[SentenceSentiment(text=Grass is green., sentiment=neutral, confidence_scores=SentimentConfidenceScores(positive=0.03, neutral=0.97, negative=0.0), length=15, offset=0, mined_opinions=[])], is_error=False)]"
      ]
     },
     "execution_count": 8,
     "metadata": {},
     "output_type": "execute_result"
    }
   ],
   "source": [
    "result"
   ]
  },
  {
   "cell_type": "code",
   "execution_count": 9,
   "id": "a24b0b9e",
   "metadata": {},
   "outputs": [
    {
     "name": "stdout",
     "output_type": "stream",
     "text": [
      "positive\n",
      "neutral\n",
      "neutral\n"
     ]
    }
   ],
   "source": [
    "for i in result:\n",
    "    print(i.sentiment)"
   ]
  },
  {
   "cell_type": "code",
   "execution_count": 10,
   "id": "b6d89157",
   "metadata": {},
   "outputs": [],
   "source": [
    "#creating one positive and two neutral sentences in one document\n",
    "documents = [\n",
    "    \"I love the new design of your website! It's so user-friendly and visually appealing. The sky is blue. Grass is green.\"\n",
    "]"
   ]
  },
  {
   "cell_type": "code",
   "execution_count": 11,
   "id": "f49e9865",
   "metadata": {},
   "outputs": [],
   "source": [
    "result = client.analyze_sentiment(documents, show_opinion_mining=False)"
   ]
  },
  {
   "cell_type": "code",
   "execution_count": 12,
   "id": "4dd76d90",
   "metadata": {},
   "outputs": [
    {
     "data": {
      "text/plain": [
       "[AnalyzeSentimentResult(id=0, sentiment=positive, warnings=[], statistics=None, confidence_scores=SentimentConfidenceScores(positive=1.0, neutral=0.0, negative=0.0), sentences=[SentenceSentiment(text=I love the new design of your website! , sentiment=positive, confidence_scores=SentimentConfidenceScores(positive=1.0, neutral=0.0, negative=0.0), length=39, offset=0, mined_opinions=[]), SentenceSentiment(text=It's so user-friendly and visually appealing. , sentiment=positive, confidence_scores=SentimentConfidenceScores(positive=1.0, neutral=0.0, negative=0.0), length=46, offset=39, mined_opinions=[]), SentenceSentiment(text=The sky is blue. , sentiment=neutral, confidence_scores=SentimentConfidenceScores(positive=0.0, neutral=0.99, negative=0.0), length=17, offset=85, mined_opinions=[]), SentenceSentiment(text=Grass is green., sentiment=neutral, confidence_scores=SentimentConfidenceScores(positive=0.03, neutral=0.96, negative=0.01), length=15, offset=102, mined_opinions=[])], is_error=False)]"
      ]
     },
     "execution_count": 12,
     "metadata": {},
     "output_type": "execute_result"
    }
   ],
   "source": [
    "result"
   ]
  },
  {
   "cell_type": "code",
   "execution_count": null,
   "id": "c09adf32",
   "metadata": {},
   "outputs": [],
   "source": []
  }
 ],
 "metadata": {
  "kernelspec": {
   "display_name": "Python 3",
   "language": "python",
   "name": "python3"
  },
  "language_info": {
   "codemirror_mode": {
    "name": "ipython",
    "version": 3
   },
   "file_extension": ".py",
   "mimetype": "text/x-python",
   "name": "python",
   "nbconvert_exporter": "python",
   "pygments_lexer": "ipython3",
   "version": "3.13.5"
  }
 },
 "nbformat": 4,
 "nbformat_minor": 5
}
