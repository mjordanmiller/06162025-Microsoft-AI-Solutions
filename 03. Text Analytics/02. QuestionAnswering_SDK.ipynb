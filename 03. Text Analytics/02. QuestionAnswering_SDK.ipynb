{
 "cells": [
  {
   "cell_type": "code",
   "execution_count": 2,
   "id": "9b3d7227",
   "metadata": {},
   "outputs": [
    {
     "name": "stdout",
     "output_type": "stream",
     "text": [
      "Defaulting to user installation because normal site-packages is not writeable\n",
      "Collecting azure-ai-language-questionanswering\n",
      "  Downloading azure_ai_language_questionanswering-1.1.0-py3-none-any.whl.metadata (19 kB)\n",
      "Requirement already satisfied: azure-core<2.0.0,>=1.24.0 in c:\\users\\jordanmiller\\appdata\\roaming\\python\\python313\\site-packages (from azure-ai-language-questionanswering) (1.32.0)\n",
      "Requirement already satisfied: isodate<1.0.0,>=0.6.1 in c:\\users\\jordanmiller\\appdata\\roaming\\python\\python313\\site-packages (from azure-ai-language-questionanswering) (0.7.2)\n",
      "Requirement already satisfied: requests>=2.21.0 in c:\\users\\jordanmiller\\appdata\\roaming\\python\\python313\\site-packages (from azure-core<2.0.0,>=1.24.0->azure-ai-language-questionanswering) (2.32.3)\n",
      "Requirement already satisfied: six>=1.11.0 in c:\\users\\jordanmiller\\appdata\\roaming\\python\\python313\\site-packages (from azure-core<2.0.0,>=1.24.0->azure-ai-language-questionanswering) (1.17.0)\n",
      "Requirement already satisfied: typing-extensions>=4.6.0 in c:\\users\\jordanmiller\\appdata\\roaming\\python\\python313\\site-packages (from azure-core<2.0.0,>=1.24.0->azure-ai-language-questionanswering) (4.13.0)\n",
      "Requirement already satisfied: charset-normalizer<4,>=2 in c:\\users\\jordanmiller\\appdata\\roaming\\python\\python313\\site-packages (from requests>=2.21.0->azure-core<2.0.0,>=1.24.0->azure-ai-language-questionanswering) (3.4.1)\n",
      "Requirement already satisfied: idna<4,>=2.5 in c:\\users\\jordanmiller\\appdata\\roaming\\python\\python313\\site-packages (from requests>=2.21.0->azure-core<2.0.0,>=1.24.0->azure-ai-language-questionanswering) (3.10)\n",
      "Requirement already satisfied: urllib3<3,>=1.21.1 in c:\\users\\jordanmiller\\appdata\\roaming\\python\\python313\\site-packages (from requests>=2.21.0->azure-core<2.0.0,>=1.24.0->azure-ai-language-questionanswering) (2.3.0)\n",
      "Requirement already satisfied: certifi>=2017.4.17 in c:\\users\\jordanmiller\\appdata\\roaming\\python\\python313\\site-packages (from requests>=2.21.0->azure-core<2.0.0,>=1.24.0->azure-ai-language-questionanswering) (2025.1.31)\n",
      "Downloading azure_ai_language_questionanswering-1.1.0-py3-none-any.whl (113 kB)\n",
      "Installing collected packages: azure-ai-language-questionanswering\n",
      "Successfully installed azure-ai-language-questionanswering-1.1.0\n"
     ]
    }
   ],
   "source": [
    "!pip install azure-ai-language-questionanswering"
   ]
  },
  {
   "cell_type": "code",
   "execution_count": 8,
   "id": "46cdfc48",
   "metadata": {},
   "outputs": [],
   "source": [
    "import os\n",
    "from dotenv import load_dotenv\n",
    "from azure.core.credentials import AzureKeyCredential\n",
    "from azure.ai.language.questionanswering import QuestionAnsweringClient\n",
    "from azure.ai.language.questionanswering import models as qna"
   ]
  },
  {
   "cell_type": "code",
   "execution_count": 9,
   "id": "9f105df8",
   "metadata": {},
   "outputs": [
    {
     "data": {
      "text/plain": [
       "True"
      ]
     },
     "execution_count": 9,
     "metadata": {},
     "output_type": "execute_result"
    }
   ],
   "source": [
    "load_dotenv()"
   ]
  },
  {
   "cell_type": "code",
   "execution_count": 10,
   "id": "89e36a80",
   "metadata": {},
   "outputs": [],
   "source": [
    "#Get the endpoint and key from environment file\n",
    "endpoint = os.getenv(\"LANGUAGE_ENDPOINT\")\n",
    "key = os.getenv(\"LANGUAGE_KEY\")"
   ]
  },
  {
   "cell_type": "code",
   "execution_count": 12,
   "id": "1c64b335",
   "metadata": {},
   "outputs": [],
   "source": [
    "credential = AzureKeyCredential(key)\n",
    "client = QuestionAnsweringClient(endpoint, credential)"
   ]
  },
  {
   "cell_type": "code",
   "execution_count": 46,
   "id": "b1379fc6",
   "metadata": {},
   "outputs": [],
   "source": [
    "# Read docs from an input file, limited to 5 docs (aka: pieces of text).\n",
    "# In the real world you would likely have a lot more text to use as a knowledge base.\n",
    "#In production, you would setup an AI Search database and use it\n",
    "with open(\"Data/SurfacePro9.txt\", \"r\") as file:\n",
    "    docs = file.readlines() #[:5]"
   ]
  },
  {
   "cell_type": "code",
   "execution_count": 47,
   "id": "61ae4591",
   "metadata": {},
   "outputs": [
    {
     "data": {
      "text/plain": [
       "['The Surface Pro 9 base model weighs 1.94lbs (879g). Additional features may add weight.\\n',\n",
       " 'The Surface Pro 9 has a 13\" edge-to-edge PixelSense touchscreen.\\n',\n",
       " 'The Surface Pro 9 base model has an Intel 12th Gen processor and up to 15.5 hours of battery life.\\n',\n",
       " 'The Surface Pro 9 with 5G and Microsoft SQ has up to 19 hours of battery life.\\n',\n",
       " 'The Surface Pro has 2 USB-C ports to charge accessories, dock to high powered displays, or transfer files with ease.']"
      ]
     },
     "execution_count": 47,
     "metadata": {},
     "output_type": "execute_result"
    }
   ],
   "source": [
    "docs"
   ]
  },
  {
   "cell_type": "code",
   "execution_count": 48,
   "id": "e944ea52",
   "metadata": {},
   "outputs": [],
   "source": [
    "question = 'How big is the screen on the Surface Pro 9?'"
   ]
  },
  {
   "cell_type": "code",
   "execution_count": 49,
   "id": "ec208ff0",
   "metadata": {},
   "outputs": [],
   "source": [
    "input = qna.AnswersFromTextOptions(\n",
    "        question=question,\n",
    "        text_documents=docs\n",
    "    )"
   ]
  },
  {
   "cell_type": "code",
   "execution_count": 50,
   "id": "094dafd4",
   "metadata": {},
   "outputs": [],
   "source": [
    "output = client.get_answers_from_text(input)"
   ]
  },
  {
   "cell_type": "code",
   "execution_count": 51,
   "id": "5a1f0856",
   "metadata": {},
   "outputs": [
    {
     "data": {
      "text/plain": [
       "{'answers': [{'answer': 'The Surface Pro 9 has a 13\" edge-to-edge PixelSense touchscreen.',\n",
       "   'confidence': 0.9815905690193176,\n",
       "   'id': '1',\n",
       "   'short_answer': {'text': '13\"',\n",
       "    'confidence': 0.993688,\n",
       "    'offset': 23,\n",
       "    'length': 4},\n",
       "   'offset': 0,\n",
       "   'length': 64},\n",
       "  {'answer': 'The Surface Pro 9 base model weighs 1.94lbs (879g). Additional features may add weight.',\n",
       "   'confidence': 0.1181861087679863,\n",
       "   'id': '0',\n",
       "   'short_answer': {'text': '1.94lbs (879g)',\n",
       "    'confidence': 0.49568984,\n",
       "    'offset': 35,\n",
       "    'length': 15},\n",
       "   'offset': 0,\n",
       "   'length': 87},\n",
       "  {'answer': 'The Surface Pro 9 base model has an Intel 12th Gen processor and up to 15.5 hours of battery life.',\n",
       "   'confidence': 0.053025394678115845,\n",
       "   'id': '2',\n",
       "   'short_answer': {'text': '15.5 hours of battery life.',\n",
       "    'confidence': 0.4762739,\n",
       "    'offset': 70,\n",
       "    'length': 28},\n",
       "   'offset': 0,\n",
       "   'length': 98}]}"
      ]
     },
     "execution_count": 51,
     "metadata": {},
     "output_type": "execute_result"
    }
   ],
   "source": [
    "output.as_dict()"
   ]
  },
  {
   "cell_type": "code",
   "execution_count": 31,
   "id": "c9369040",
   "metadata": {},
   "outputs": [],
   "source": [
    "best_answers = [ans for ans in output.answers if ans.confidence > 0.8] #try with .1 and 0.8"
   ]
  },
  {
   "cell_type": "code",
   "execution_count": 32,
   "id": "f22f603b",
   "metadata": {},
   "outputs": [
    {
     "data": {
      "text/plain": [
       "[<azure.ai.language.questionanswering.models._models.TextAnswer at 0x1a1c119ea50>]"
      ]
     },
     "execution_count": 32,
     "metadata": {},
     "output_type": "execute_result"
    }
   ],
   "source": [
    "best_answers #notice that we created a list"
   ]
  },
  {
   "cell_type": "code",
   "execution_count": 33,
   "id": "3d74f9f3",
   "metadata": {},
   "outputs": [
    {
     "data": {
      "text/plain": [
       "1"
      ]
     },
     "execution_count": 33,
     "metadata": {},
     "output_type": "execute_result"
    }
   ],
   "source": [
    "len(best_answers)"
   ]
  },
  {
   "cell_type": "code",
   "execution_count": 34,
   "id": "3e572322",
   "metadata": {},
   "outputs": [
    {
     "data": {
      "text/plain": [
       "{'answer': 'The Surface Pro 9 has a 13\" edge-to-edge PixelSense touchscreen.',\n",
       " 'confidence': 0.9815905690193176,\n",
       " 'id': '1',\n",
       " 'short_answer': {'text': '13\"',\n",
       "  'confidence': 0.993688,\n",
       "  'offset': 23,\n",
       "  'length': 4},\n",
       " 'offset': 0,\n",
       " 'length': 64}"
      ]
     },
     "execution_count": 34,
     "metadata": {},
     "output_type": "execute_result"
    }
   ],
   "source": [
    "best_answers[0].as_dict()"
   ]
  },
  {
   "cell_type": "code",
   "execution_count": 35,
   "id": "b3af7e0c",
   "metadata": {},
   "outputs": [
    {
     "data": {
      "text/plain": [
       "'The Surface Pro 9 has a 13\" edge-to-edge PixelSense touchscreen.'"
      ]
     },
     "execution_count": 35,
     "metadata": {},
     "output_type": "execute_result"
    }
   ],
   "source": [
    "best_answers[0].answer"
   ]
  },
  {
   "cell_type": "markdown",
   "id": "8e75eec5",
   "metadata": {},
   "source": [
    "Try it with a random question and denote the output <br/>\n",
    "Also, try adding more text to the text document and seeig what happens"
   ]
  },
  {
   "cell_type": "markdown",
   "id": "07173fe0",
   "metadata": {},
   "source": [
    "#### What do we do if we have more data?\n",
    "- such as the pdf we have containing the whole surface user manual"
   ]
  },
  {
   "cell_type": "markdown",
   "id": "46381093",
   "metadata": {},
   "source": [
    "##### NOTE: you cannot use a free language service for this as you need the custom QnA Functionality"
   ]
  },
  {
   "cell_type": "markdown",
   "id": "49d50448",
   "metadata": {},
   "source": [
    "Follow the instructions here to create a project: [Custom QnA - Creating a Project](https://learn.microsoft.com/en-us/azure/ai-services/language-service/question-answering/quickstart/sdk?tabs=windows&pivots=studio#create-your-first-custom-question-answering-project)\n",
    "\n",
    "You can then query that Knowledge Base using the SDK: [Custom QnA - Query a project](https://learn.microsoft.com/en-us/azure/ai-services/language-service/question-answering/quickstart/sdk?tabs=windows&pivots=studio#create-your-first-custom-question-answering-project)\n",
    "\n",
    "\n",
    "\n",
    "\n",
    "If you wanted to do everything in code, you could do so following:[QnA - Quickstart](https://github.com/Azure-Samples/cognitive-services-quickstart-code/blob/master/python/QnAMaker/sdk/quickstart.py)"
   ]
  },
  {
   "cell_type": "code",
   "execution_count": null,
   "id": "20a95322",
   "metadata": {},
   "outputs": [],
   "source": []
  }
 ],
 "metadata": {
  "kernelspec": {
   "display_name": "Python 3",
   "language": "python",
   "name": "python3"
  },
  "language_info": {
   "codemirror_mode": {
    "name": "ipython",
    "version": 3
   },
   "file_extension": ".py",
   "mimetype": "text/x-python",
   "name": "python",
   "nbconvert_exporter": "python",
   "pygments_lexer": "ipython3",
   "version": "3.13.1"
  }
 },
 "nbformat": 4,
 "nbformat_minor": 5
}
